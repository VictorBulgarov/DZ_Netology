{
 "cells": [
  {
   "cell_type": "markdown",
   "metadata": {},
   "source": [
    "# Задание 1\n",
    "Печатные газеты использовали свой формат дат для каждого выпуска. Для каждой газеты из списка напишите формат указанной даты для перевода в объект datetime:\n",
    "The Moscow Times - Wednesday, October 2, 2002\n",
    "The Guardian - Friday, 11.10.13\n",
    "Daily News - Thursday, 18 August 1977\n"
   ]
  },
  {
   "cell_type": "code",
   "execution_count": null,
   "metadata": {},
   "outputs": [],
   "source": []
  },
  {
   "cell_type": "code",
   "execution_count": 1,
   "metadata": {},
   "outputs": [],
   "source": [
    "from datetime import datetime"
   ]
  },
  {
   "cell_type": "code",
   "execution_count": 2,
   "metadata": {},
   "outputs": [],
   "source": [
    "date_moscow_times = 'Wednesday, October 2, 2002'\n",
    "date_guardian = 'Friday, 11.10.13'\n",
    "date_daily_news = 'Thursday, 18 August 1977'"
   ]
  },
  {
   "cell_type": "code",
   "execution_count": 3,
   "metadata": {},
   "outputs": [],
   "source": [
    "date_datetime_moscow_times = datetime.strptime(date_moscow_times, '%A, %B %d, %Y' )#формат указанной даты для перевода в объект datetime:"
   ]
  },
  {
   "cell_type": "code",
   "execution_count": 4,
   "metadata": {},
   "outputs": [],
   "source": [
    "date_datetime_date_guardian = datetime.strptime(date_guardian, '%A, %m.%d.%y')#формат указанной даты для перевода в объект datetime:\n"
   ]
  },
  {
   "cell_type": "code",
   "execution_count": 5,
   "metadata": {},
   "outputs": [],
   "source": [
    "date_datetime_daily_news = datetime.strptime(date_daily_news, '%A, %d %B %Y' )#формат указанной даты для перевода в объект datetime:\n"
   ]
  },
  {
   "cell_type": "code",
   "execution_count": 6,
   "metadata": {},
   "outputs": [
    {
     "name": "stdout",
     "output_type": "stream",
     "text": [
      "2002-10-02 00:00:00\n",
      "2013-11-10 00:00:00\n",
      "1977-08-18 00:00:00\n"
     ]
    }
   ],
   "source": [
    "print(date_datetime_moscow_times)#вывод на экран\n",
    "print(date_datetime_date_guardian)\n",
    "print(date_datetime_daily_news)"
   ]
  },
  {
   "cell_type": "code",
   "execution_count": null,
   "metadata": {},
   "outputs": [],
   "source": []
  },
  {
   "cell_type": "markdown",
   "metadata": {},
   "source": [
    "# Задание 2\n",
    "Дан поток дат в формате YYYY-MM-DD, в которых встречаются некорректные значения:\n",
    "stream = [‘2018-04-02’, ‘2018-02-29’, ‘2018-19-02’]\n",
    "\n",
    "Напишите функцию, которая проверяет эти даты на корректность. Т. е. для каждой даты возвращает True \n",
    "(дата корректна) или False (некорректная дата)."
   ]
  },
  {
   "cell_type": "code",
   "execution_count": null,
   "metadata": {},
   "outputs": [],
   "source": []
  },
  {
   "cell_type": "code",
   "execution_count": 7,
   "metadata": {},
   "outputs": [],
   "source": [
    "stream = ['2018-04-02', '2018-02-29', '2018-19-02']\n"
   ]
  },
  {
   "cell_type": "code",
   "execution_count": 8,
   "metadata": {},
   "outputs": [
    {
     "name": "stdout",
     "output_type": "stream",
     "text": [
      "Дата \"2018-04-02\" корректна: True\n",
      "Дата \"2018-02-29\" некорректна: False\n",
      "Дата \"2018-19-02\" некорректна: False\n"
     ]
    }
   ],
   "source": [
    "def check_date(date):\n",
    "    \n",
    "    \"\"\"Функция, проверяющая даты на корректность формату YYYY-MM-DD \"\"\"\n",
    "    \n",
    "    try:\n",
    "        datetime.strptime(date, '%Y-%m-%d')\n",
    "        return print('Дата \"{}\" корректна: {}'.format(date, True))\n",
    "    except ValueError:\n",
    "        return print('Дата \"{}\" некорректна: {}'.format(date, False))\n",
    "\n",
    "for date in stream:\n",
    "    check_date(date)"
   ]
  },
  {
   "cell_type": "code",
   "execution_count": null,
   "metadata": {},
   "outputs": [],
   "source": []
  },
  {
   "cell_type": "markdown",
   "metadata": {},
   "source": [
    "# Задание 3\n",
    "\n",
    "Напишите функцию date_range, которая возвращает список дат за период от start_date до end_date. Даты должны вводиться в формате YYYY-MM-DD. В случае неверного формата или при start_date > end_date должен возвращаться пустой список.\n"
   ]
  },
  {
   "cell_type": "code",
   "execution_count": null,
   "metadata": {},
   "outputs": [],
   "source": []
  },
  {
   "cell_type": "code",
   "execution_count": 34,
   "metadata": {},
   "outputs": [
    {
     "name": "stdout",
     "output_type": "stream",
     "text": [
      "8 дней между \"2018-12-01\" и \"18-12-09\": [1, 2, 3, 4, 5, 6, 7, 8]\n",
      "-8 дней между \"2018.12.09\" и \"2018.12.01\": []\n",
      "8 дней между \"2018.12.01\" и \"2018-12-09\": [1, 2, 3, 4, 5, 6, 7, 8]\n",
      "error1: undefined format for \"18-12-09 01:00pm\"\n"
     ]
    }
   ],
   "source": [
    "def date_converter(any_date):\n",
    "    \n",
    "    \"\"\"Функция проверки других форматов на ошибки\"\"\"\n",
    "    \n",
    "    try:\n",
    "        return datetime.strptime(any_date,'%Y-%m-%d')\n",
    "    except ValueError:\n",
    "        try:\n",
    "            return datetime.strptime(any_date,'%Y-%m-%d %H:%M')\n",
    "        except ValueError:\n",
    "            try:\n",
    "                return datetime.strptime(any_date,'%Y-%m-%d %H:%M:%S')\n",
    "            except ValueError:\n",
    "                try:\n",
    "                    return datetime.strptime(any_date,'%Y.%m.%d %H:%M:%S')\n",
    "                except ValueError:                  \n",
    "                    try:\n",
    "                        return datetime.strptime(any_date,'%y-%m-%d')\n",
    "                    except ValueError:\n",
    "                        try:\n",
    "                            return datetime.strptime(any_date,'%Y.%m.%d')\n",
    "                        except ValueError:\n",
    "                            return 'error1: undefined format'\n",
    "                        \n",
    "def date_range(start_date, end_date):\n",
    "    \n",
    "    \"\"\"функция date_range, которая возвращает список дат за период от start_date до end_date.\"\"\"\n",
    "\n",
    "    from datetime import datetime\n",
    "    try:\n",
    "        if date_converter(end_date)=='error1: undefined format':\n",
    "            return print(f'error1: undefined format for \"{end_date}\"')\n",
    "        elif date_converter(start_date)=='error1: undefined format':\n",
    "            return print(f'error1: undefined format for \"{start_date}\"')\n",
    "        else:\n",
    "            date_converter(start_date)\n",
    "            difference=date_converter(end_date)-date_converter(start_date)\n",
    "            return print(f'{difference.days} дней между \"{start_date}\" и \"{end_date}\": {list(range(1,difference.days+1))}')\n",
    "    except:\n",
    "        return 'error2'\n",
    "\n",
    "                        \n",
    "    period=datetime.strptime(end_date,'%Y-%m-%d')-datetime.strptime(start_date,'%Y-%m-%d')\n",
    "    return print(f'{period.days} дней между \"{start_date}\" и \"{end_date}\": {list(range(1,period.days+1))}')\n",
    "\n",
    "date_range('2018-12-01', '18-12-09') \n",
    "date_range('2018.12.09', '2018.12.01') \n",
    "date_range('2018.12.01', '2018-12-09')\n",
    "date_range('2018-12-01', '18-12-09 01:00pm')"
   ]
  },
  {
   "cell_type": "code",
   "execution_count": null,
   "metadata": {},
   "outputs": [],
   "source": []
  },
  {
   "cell_type": "markdown",
   "metadata": {},
   "source": [
    "# Задание 4 (бонусное)\n",
    "\n",
    "Ваш коллега прислал код функции:\n",
    "\n",
    "DEFAULT_USER_COUNT = 3\n",
    "\n",
    "def delete_and_return_last_user(region, default_list=[‘A100’, ‘A101’, ‘A102’]):\n",
    "\"\"“\n",
    "Удаляет из списка default_list последнего пользователя\n",
    "и возвращает ID нового последнего пользователя.\n",
    "”\"\"\n",
    "element_to_delete = default_list[-1]\n",
    "default_list.remove(element_to_delete)\n",
    "\n",
    "1\n",
    "return default_list[DEFAULT_USER_COUNT-2]\n",
    "При однократном вызове этой функции все работает корректно:\n",
    "delete_and_return_last_user(1)\n",
    "‘A101’\n",
    "\n",
    "Однако, при повторном вызове получается ошибка IndexError: list index out of range.\n",
    "\n",
    "Задание:\n",
    "\n",
    "Что значит ошибка list index out of range?\n",
    "Почему при первом запуске функция работает корректно, а при втором - нет?"
   ]
  },
  {
   "cell_type": "code",
   "execution_count": 40,
   "metadata": {},
   "outputs": [],
   "source": [
    "DEFAULT_USER_COUNT = 3"
   ]
  },
  {
   "cell_type": "code",
   "execution_count": 41,
   "metadata": {},
   "outputs": [
    {
     "data": {
      "text/plain": [
       "'A101'"
      ]
     },
     "execution_count": 41,
     "metadata": {},
     "output_type": "execute_result"
    }
   ],
   "source": [
    "def delete_and_return_last_user(region, default_list=['A100', 'A101', 'A102']):\n",
    "    \n",
    "    \"\"\"Удаляет из списка default_list последнего пользователя и возвращает ID нового последнего пользователя.\"\"\"\n",
    "    \n",
    "    element_to_delete = default_list[-1]\n",
    "    default_list.remove(element_to_delete)\n",
    "    return default_list[DEFAULT_USER_COUNT-2]\n",
    "    \n",
    "delete_and_return_last_user('region', default_list=['A100', 'A101', 'A102'])\n",
    "delete_and_return_last_user('region', default_list=['A100', 'A101', 'A102'])"
   ]
  },
  {
   "cell_type": "code",
   "execution_count": 42,
   "metadata": {},
   "outputs": [
    {
     "data": {
      "text/plain": [
       "'A101'"
      ]
     },
     "execution_count": 42,
     "metadata": {},
     "output_type": "execute_result"
    }
   ],
   "source": [
    "delete_and_return_last_user('region', default_list=['A100', 'A101', 'A102'])"
   ]
  },
  {
   "cell_type": "markdown",
   "metadata": {},
   "source": [
    "# Что значит ошибка list index out of range? \n",
    "Ошибка происходит из-за того что уменьшается сам список. "
   ]
  },
  {
   "cell_type": "markdown",
   "metadata": {},
   "source": [
    "# Почему при первом запуске функция работает корректно, а при втором - нет?\n",
    "При втором запуске уже нечего удалять, список изменился."
   ]
  }
 ],
 "metadata": {
  "kernelspec": {
   "display_name": "Python 3",
   "language": "python",
   "name": "python3"
  },
  "language_info": {
   "codemirror_mode": {
    "name": "ipython",
    "version": 3
   },
   "file_extension": ".py",
   "mimetype": "text/x-python",
   "name": "python",
   "nbconvert_exporter": "python",
   "pygments_lexer": "ipython3",
   "version": "3.8.5"
  }
 },
 "nbformat": 4,
 "nbformat_minor": 4
}
