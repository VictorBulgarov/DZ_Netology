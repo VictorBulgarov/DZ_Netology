{
 "cells": [
  {
   "cell_type": "code",
   "execution_count": 1,
   "id": "fe3fe44c",
   "metadata": {},
   "outputs": [],
   "source": [
    "import json\n",
    "\n",
    "import bz2\n",
    "import regex\n",
    "from tqdm import tqdm\n",
    "from scipy import sparse\n",
    "import nltk"
   ]
  },
  {
   "cell_type": "code",
   "execution_count": 2,
   "id": "e6484cc8",
   "metadata": {},
   "outputs": [
    {
     "name": "stdout",
     "output_type": "stream",
     "text": [
      "%pylab is deprecated, use %matplotlib inline and import the required libraries.\n",
      "Populating the interactive namespace from numpy and matplotlib\n"
     ]
    }
   ],
   "source": [
    "import pandas as pd\n",
    "import numpy as np\n",
    "import nltk\n",
    "import matplotlib.pyplot as plt\n",
    "import seaborn as sns\n",
    "%matplotlib inline\n",
    "%pylab inline\n",
    "import warnings\n",
    "warnings.filterwarnings('ignore')\n",
    "from sklearn.model_selection import train_test_split"
   ]
  },
  {
   "cell_type": "code",
   "execution_count": 3,
   "id": "a455130d",
   "metadata": {},
   "outputs": [],
   "source": [
    "import re\n",
    "from nltk.corpus import stopwords\n",
    "from nltk.tokenize import word_tokenize"
   ]
  },
  {
   "cell_type": "code",
   "execution_count": 4,
   "id": "e48cddea",
   "metadata": {},
   "outputs": [],
   "source": [
    "from pymystem3 import Mystem\n",
    "mystem = Mystem()"
   ]
  },
  {
   "cell_type": "code",
   "execution_count": 5,
   "id": "fa004d86",
   "metadata": {},
   "outputs": [],
   "source": [
    "import pymorphy2\n",
    "morph = pymorphy2.MorphAnalyzer()\n",
    "\n",
    "from sklearn.feature_extraction.text import TfidfVectorizer, TfidfTransformer\n",
    "from sklearn.decomposition import TruncatedSVD, LatentDirichletAllocation\n",
    "from sklearn.metrics  import classification_report"
   ]
  },
  {
   "cell_type": "code",
   "execution_count": 6,
   "id": "f068750a",
   "metadata": {},
   "outputs": [
    {
     "name": "stderr",
     "output_type": "stream",
     "text": [
      "[nltk_data] Downloading package stopwords to\n",
      "[nltk_data]     /Users/wizard/nltk_data...\n",
      "[nltk_data]   Package stopwords is already up-to-date!\n"
     ]
    },
    {
     "data": {
      "text/plain": [
       "True"
      ]
     },
     "execution_count": 6,
     "metadata": {},
     "output_type": "execute_result"
    }
   ],
   "source": [
    "import nltk\n",
    "nltk.download('stopwords')"
   ]
  },
  {
   "cell_type": "code",
   "execution_count": 7,
   "id": "d1435b65",
   "metadata": {},
   "outputs": [
    {
     "name": "stderr",
     "output_type": "stream",
     "text": [
      "201030it [00:40, 4990.48it/s]\n"
     ]
    }
   ],
   "source": [
    "responses = []\n",
    "with bz2.BZ2File('banki_responses.json.bz2', 'r') as thefile:\n",
    "    for row in tqdm(thefile):\n",
    "        resp = json.loads(row)\n",
    "        if not resp['rating_not_checked'] and (len(resp['text'].split()) > 0):\n",
    "            responses.append(resp)"
   ]
  },
  {
   "cell_type": "markdown",
   "id": "4aa976b5",
   "metadata": {},
   "source": [
    "Рассмотрим пример отзыва:\n",
    "\n"
   ]
  },
  {
   "cell_type": "code",
   "execution_count": 8,
   "id": "488ea9bf",
   "metadata": {},
   "outputs": [
    {
     "data": {
      "text/plain": [
       "{'city': 'г. Саратов',\n",
       " 'rating_not_checked': False,\n",
       " 'title': 'Карта ко вкладу',\n",
       " 'num_comments': 0,\n",
       " 'bank_license': 'лицензия № 880',\n",
       " 'author': 'ronnichka',\n",
       " 'bank_name': 'Югра',\n",
       " 'datetime': '2015-06-03 20:56:57',\n",
       " 'text': 'Здравствуйте! Хотела написать, что мне месяц не выдают карту ко вкладу, ссылаясь на \"нам же их из Самары везут\" (на секундочку 5 часов езды от нашего города). Но! Прочитала, что людям 3,5 месяцев не выдают карту, и поняла, что у меня все хорошо, пока что. И подарок мне дали, и кулер в отделении есть. Так что я, конечно, готова ждать. Правда хотелось бы не очень долго.',\n",
       " 'rating_grade': 3}"
      ]
     },
     "execution_count": 8,
     "metadata": {},
     "output_type": "execute_result"
    }
   ],
   "source": [
    "responses[99]\n"
   ]
  },
  {
   "cell_type": "code",
   "execution_count": 9,
   "id": "6c3569d0",
   "metadata": {},
   "outputs": [
    {
     "data": {
      "text/html": [
       "<div>\n",
       "<style scoped>\n",
       "    .dataframe tbody tr th:only-of-type {\n",
       "        vertical-align: middle;\n",
       "    }\n",
       "\n",
       "    .dataframe tbody tr th {\n",
       "        vertical-align: top;\n",
       "    }\n",
       "\n",
       "    .dataframe thead th {\n",
       "        text-align: right;\n",
       "    }\n",
       "</style>\n",
       "<table border=\"1\" class=\"dataframe\">\n",
       "  <thead>\n",
       "    <tr style=\"text-align: right;\">\n",
       "      <th></th>\n",
       "      <th>city</th>\n",
       "      <th>rating_not_checked</th>\n",
       "      <th>title</th>\n",
       "      <th>num_comments</th>\n",
       "      <th>bank_license</th>\n",
       "      <th>author</th>\n",
       "      <th>bank_name</th>\n",
       "      <th>datetime</th>\n",
       "      <th>text</th>\n",
       "      <th>rating_grade</th>\n",
       "    </tr>\n",
       "  </thead>\n",
       "  <tbody>\n",
       "    <tr>\n",
       "      <th>0</th>\n",
       "      <td>г. Москва</td>\n",
       "      <td>False</td>\n",
       "      <td>Жалоба</td>\n",
       "      <td>0</td>\n",
       "      <td>лицензия № 2562</td>\n",
       "      <td>uhnov1</td>\n",
       "      <td>Бинбанк</td>\n",
       "      <td>2015-06-08 12:50:54</td>\n",
       "      <td>Добрый день! Я не являюсь клиентом банка и пор...</td>\n",
       "      <td>NaN</td>\n",
       "    </tr>\n",
       "    <tr>\n",
       "      <th>1</th>\n",
       "      <td>г. Новосибирск</td>\n",
       "      <td>False</td>\n",
       "      <td>Не могу пользоваться услугой Сбербанк он-лайн</td>\n",
       "      <td>0</td>\n",
       "      <td>лицензия № 1481</td>\n",
       "      <td>Foryou</td>\n",
       "      <td>Сбербанк России</td>\n",
       "      <td>2015-06-08 11:09:57</td>\n",
       "      <td>Доброго дня! Являюсь держателем зарплатной кар...</td>\n",
       "      <td>NaN</td>\n",
       "    </tr>\n",
       "    <tr>\n",
       "      <th>2</th>\n",
       "      <td>г. Москва</td>\n",
       "      <td>False</td>\n",
       "      <td>Двойное списание за один товар.</td>\n",
       "      <td>1</td>\n",
       "      <td>лицензия № 2562</td>\n",
       "      <td>Vladimir84</td>\n",
       "      <td>Бинбанк</td>\n",
       "      <td>2015-06-05 20:14:28</td>\n",
       "      <td>Здравствуйте!  Дублирую свое заявление от 03.0...</td>\n",
       "      <td>NaN</td>\n",
       "    </tr>\n",
       "    <tr>\n",
       "      <th>3</th>\n",
       "      <td>г. Ставрополь</td>\n",
       "      <td>False</td>\n",
       "      <td>Меняют проценты комиссии  не предупредив и не ...</td>\n",
       "      <td>2</td>\n",
       "      <td>лицензия № 1481</td>\n",
       "      <td>643609</td>\n",
       "      <td>Сбербанк России</td>\n",
       "      <td>2015-06-05 13:51:01</td>\n",
       "      <td>Добрый день!! Я открыл расчетный счет в СберБа...</td>\n",
       "      <td>NaN</td>\n",
       "    </tr>\n",
       "    <tr>\n",
       "      <th>4</th>\n",
       "      <td>г. Челябинск</td>\n",
       "      <td>False</td>\n",
       "      <td>Верните денежные средства за страховку</td>\n",
       "      <td>1</td>\n",
       "      <td>лицензия № 2766</td>\n",
       "      <td>anfisa-2003</td>\n",
       "      <td>ОТП Банк</td>\n",
       "      <td>2015-06-05 10:58:12</td>\n",
       "      <td>04.03.2015 г. взяла кредит в вашем банке, заяв...</td>\n",
       "      <td>NaN</td>\n",
       "    </tr>\n",
       "  </tbody>\n",
       "</table>\n",
       "</div>"
      ],
      "text/plain": [
       "             city  rating_not_checked  \\\n",
       "0       г. Москва               False   \n",
       "1  г. Новосибирск               False   \n",
       "2       г. Москва               False   \n",
       "3   г. Ставрополь               False   \n",
       "4    г. Челябинск               False   \n",
       "\n",
       "                                               title  num_comments  \\\n",
       "0                                             Жалоба             0   \n",
       "1      Не могу пользоваться услугой Сбербанк он-лайн             0   \n",
       "2                    Двойное списание за один товар.             1   \n",
       "3  Меняют проценты комиссии  не предупредив и не ...             2   \n",
       "4             Верните денежные средства за страховку             1   \n",
       "\n",
       "      bank_license       author        bank_name             datetime  \\\n",
       "0  лицензия № 2562       uhnov1          Бинбанк  2015-06-08 12:50:54   \n",
       "1  лицензия № 1481       Foryou  Сбербанк России  2015-06-08 11:09:57   \n",
       "2  лицензия № 2562   Vladimir84          Бинбанк  2015-06-05 20:14:28   \n",
       "3  лицензия № 1481       643609  Сбербанк России  2015-06-05 13:51:01   \n",
       "4  лицензия № 2766  anfisa-2003         ОТП Банк  2015-06-05 10:58:12   \n",
       "\n",
       "                                                text  rating_grade  \n",
       "0  Добрый день! Я не являюсь клиентом банка и пор...           NaN  \n",
       "1  Доброго дня! Являюсь держателем зарплатной кар...           NaN  \n",
       "2  Здравствуйте!  Дублирую свое заявление от 03.0...           NaN  \n",
       "3  Добрый день!! Я открыл расчетный счет в СберБа...           NaN  \n",
       "4  04.03.2015 г. взяла кредит в вашем банке, заяв...           NaN  "
      ]
     },
     "execution_count": 9,
     "metadata": {},
     "output_type": "execute_result"
    }
   ],
   "source": [
    "df = pd.DataFrame(responses)\n",
    "df.head()"
   ]
  },
  {
   "cell_type": "code",
   "execution_count": 10,
   "id": "2f8ab150",
   "metadata": {},
   "outputs": [
    {
     "name": "stdout",
     "output_type": "stream",
     "text": [
      "<class 'pandas.core.frame.DataFrame'>\n",
      "RangeIndex: 153499 entries, 0 to 153498\n",
      "Data columns (total 10 columns):\n",
      " #   Column              Non-Null Count   Dtype  \n",
      "---  ------              --------------   -----  \n",
      " 0   city                138325 non-null  object \n",
      " 1   rating_not_checked  153499 non-null  bool   \n",
      " 2   title               153499 non-null  object \n",
      " 3   num_comments        153499 non-null  int64  \n",
      " 4   bank_license        153498 non-null  object \n",
      " 5   author              153479 non-null  object \n",
      " 6   bank_name           153499 non-null  object \n",
      " 7   datetime            153499 non-null  object \n",
      " 8   text                153499 non-null  object \n",
      " 9   rating_grade        88658 non-null   float64\n",
      "dtypes: bool(1), float64(1), int64(1), object(7)\n",
      "memory usage: 10.7+ MB\n"
     ]
    }
   ],
   "source": [
    "df.info()\n"
   ]
  },
  {
   "cell_type": "markdown",
   "id": "c5b4e18e",
   "metadata": {},
   "source": [
    "## Часть 1. Анализ текстов\n"
   ]
  },
  {
   "cell_type": "markdown",
   "id": "54a1b464",
   "metadata": {},
   "source": [
    "Посчитайте количество отзывов в разных городах и на разные банки\n",
    "\n"
   ]
  },
  {
   "cell_type": "code",
   "execution_count": 11,
   "id": "bb5ddbfe",
   "metadata": {},
   "outputs": [
    {
     "data": {
      "text/plain": [
       "city\n",
       "г.  (Красногорск)                           1\n",
       "г.  (Москва)                                2\n",
       "г.  (Россия)                                1\n",
       "г.  (Ханты-Мансийский автономный округ)     1\n",
       "г. -                                        1\n",
       "                                           ..\n",
       "г. ялуторовск                               1\n",
       "г. янаул                                    2\n",
       "г. ярославль                               12\n",
       "г. ярцево                                   2\n",
       "г. … или другой населенный пункт            1\n",
       "Name: title, Length: 5823, dtype: int64"
      ]
     },
     "execution_count": 11,
     "metadata": {},
     "output_type": "execute_result"
    }
   ],
   "source": [
    "df.groupby(df.city)['title'].count()\n"
   ]
  },
  {
   "cell_type": "code",
   "execution_count": 12,
   "id": "fd978fdc",
   "metadata": {},
   "outputs": [
    {
     "data": {
      "text/plain": [
       "bank_name\n",
       "2Т Банк          655\n",
       "АБ Финанс         23\n",
       "АББ                2\n",
       "АМБ Банк           1\n",
       "АМТ Банк         142\n",
       "                ... \n",
       "Юнистрим          81\n",
       "ЯР-Банк           12\n",
       "Яндекс.Деньги    226\n",
       "Ярославич          5\n",
       "Ярсоцбанк          7\n",
       "Name: title, Length: 670, dtype: int64"
      ]
     },
     "execution_count": 12,
     "metadata": {},
     "output_type": "execute_result"
    }
   ],
   "source": [
    "df.groupby(df.bank_name)['title'].count()\n"
   ]
  },
  {
   "cell_type": "markdown",
   "id": "df688873",
   "metadata": {},
   "source": [
    "Постройте гистограмы длин текстов в символах и в словах\n",
    "\n"
   ]
  },
  {
   "cell_type": "code",
   "execution_count": 13,
   "id": "fd3b8b26",
   "metadata": {},
   "outputs": [],
   "source": [
    "from sklearn.feature_extraction.text import CountVectorizer\n"
   ]
  },
  {
   "cell_type": "code",
   "execution_count": 14,
   "id": "b753ab7e",
   "metadata": {},
   "outputs": [],
   "source": [
    "vec_words = CountVectorizer(ngram_range=(1, 1), stop_words=stopwords.words('russian'))\n",
    "bow_words = vec_words.fit_transform(df.text)\n",
    "vec_symbol = CountVectorizer(analyzer='char')\n",
    "bow_symbol = vec_symbol.fit_transform(df.text)"
   ]
  },
  {
   "cell_type": "code",
   "execution_count": 15,
   "id": "449990b4",
   "metadata": {},
   "outputs": [],
   "source": [
    "ln_words = []\n",
    "ln_symbol = []\n",
    "for i in range(1000):\n",
    "    ln_words.append(np.sum(bow_words[i].todense()))\n",
    "    ln_symbol.append(np.sum(bow_symbol[i].todense()))"
   ]
  },
  {
   "cell_type": "code",
   "execution_count": 16,
   "id": "46516325",
   "metadata": {},
   "outputs": [
    {
     "data": {
      "image/png": "[encoded data removed]",
      "text/plain": [
       "<Figure size 936x576 with 2 Axes>"
      ]
     },
     "metadata": {
      "needs_background": "light"
     },
     "output_type": "display_data"
    }
   ],
   "source": [
    "fig, axes = plt.subplots(1, 2,figsize=(13,8))\n",
    "\n",
    "axes[0].hist(ln_symbol, bins = 200)\n",
    "axes[0].set_xlim(0, 1000)\n",
    "axes[1].hist(ln_words, bins = 100)\n",
    "axes[1].set_xlim(0, 1000)\n",
    "axes[0].set_title(u\"Длины текстов в символах\")\n",
    "axes[1].set_title(u\"Длины текстов в словах\")\n",
    "fig.show()"
   ]
  },
  {
   "cell_type": "markdown",
   "id": "d6dacfab",
   "metadata": {},
   "source": [
    "Найдите 10 самых частых:\n",
    " * слов\n",
    " * слов без стоп-слов\n",
    " * лемм\n",
    " * существительных"
   ]
  },
  {
   "cell_type": "code",
   "execution_count": 17,
   "id": "82844b27",
   "metadata": {},
   "outputs": [
    {
     "data": {
      "text/plain": [
       "[('спрашивающего', 275765),\n",
       " ('погуглила', 215209),\n",
       " ('пащинская', 183365),\n",
       " ('нескончаемыми', 131197),\n",
       " ('1067184', 105824),\n",
       " ('гренбери', 101814),\n",
       " ('староневский', 81116),\n",
       " ('32541', 76546),\n",
       " ('буфеты', 72085),\n",
       " ('радикальных', 70422)]"
      ]
     },
     "execution_count": 17,
     "metadata": {},
     "output_type": "execute_result"
    }
   ],
   "source": [
    "# слов\n",
    "sorted(list(zip(vec_words.vocabulary_.keys(), bow_words.sum(0).getA1())), key = lambda i: i[1], reverse =True)[:10]\n"
   ]
  },
  {
   "cell_type": "code",
   "execution_count": 18,
   "id": "69986ea0",
   "metadata": {},
   "outputs": [
    {
     "data": {
      "text/plain": [
       "[('отвечавшая', 852416),\n",
       " ('табак', 707784),\n",
       " ('выдворят', 640053),\n",
       " ('вызови', 372738),\n",
       " ('отличавшееся', 320956),\n",
       " ('вежливами', 275765),\n",
       " ('радыгин', 215209),\n",
       " ('устраивался', 205679),\n",
       " ('352501001', 200416),\n",
       " ('walk', 192847)]"
      ]
     },
     "execution_count": 18,
     "metadata": {},
     "output_type": "execute_result"
    }
   ],
   "source": [
    "# слов без стоп-слов\n",
    "vec = CountVectorizer(ngram_range=(1, 1), stop_words=None)\n",
    "bow = vec.fit_transform(df.text)\n",
    "sorted(list(zip(vec.vocabulary_.keys(), bow.sum(0).getA1())), key = lambda i: i[1], reverse =True)[:10]"
   ]
  },
  {
   "cell_type": "code",
   "execution_count": 19,
   "id": "b0067ae5",
   "metadata": {},
   "outputs": [],
   "source": [
    "df = df.dropna()\n"
   ]
  },
  {
   "cell_type": "code",
   "execution_count": 20,
   "id": "695b57cb",
   "metadata": {},
   "outputs": [
    {
     "name": "stdout",
     "output_type": "stream",
     "text": [
      "<class 'pandas.core.frame.DataFrame'>\n",
      "Int64Index: 74710 entries, 14 to 138946\n",
      "Data columns (total 10 columns):\n",
      " #   Column              Non-Null Count  Dtype  \n",
      "---  ------              --------------  -----  \n",
      " 0   city                74710 non-null  object \n",
      " 1   rating_not_checked  74710 non-null  bool   \n",
      " 2   title               74710 non-null  object \n",
      " 3   num_comments        74710 non-null  int64  \n",
      " 4   bank_license        74710 non-null  object \n",
      " 5   author              74710 non-null  object \n",
      " 6   bank_name           74710 non-null  object \n",
      " 7   datetime            74710 non-null  object \n",
      " 8   text                74710 non-null  object \n",
      " 9   rating_grade        74710 non-null  float64\n",
      "dtypes: bool(1), float64(1), int64(1), object(7)\n",
      "memory usage: 5.8+ MB\n"
     ]
    }
   ],
   "source": [
    "df.info()\n"
   ]
  },
  {
   "cell_type": "code",
   "execution_count": 21,
   "id": "43208f17",
   "metadata": {},
   "outputs": [],
   "source": [
    "Y = df.rating_grade\n"
   ]
  },
  {
   "cell_type": "code",
   "execution_count": 22,
   "id": "70d9368e",
   "metadata": {},
   "outputs": [],
   "source": [
    "X = df.drop('rating_grade', axis=1)\n"
   ]
  },
  {
   "cell_type": "code",
   "execution_count": 23,
   "id": "ba8c65e7",
   "metadata": {},
   "outputs": [
    {
     "data": {
      "text/plain": [
       "((7471, 9), (67239, 9), (7471,), (67239,))"
      ]
     },
     "execution_count": 23,
     "metadata": {},
     "output_type": "execute_result"
    }
   ],
   "source": [
    "# С целью уменьшения нагрузки на процессор сделаем выборку из датасета\n",
    "X_train, X_test, y_train, y_test = train_test_split(X, Y, train_size=0.1, random_state=42, stratify = Y)\n",
    "X_train.shape, X_test.shape, y_train.shape, y_test.shape"
   ]
  },
  {
   "cell_type": "code",
   "execution_count": 24,
   "id": "454b7154",
   "metadata": {},
   "outputs": [],
   "source": [
    "X = X_train\n",
    "Y = y_train"
   ]
  },
  {
   "cell_type": "code",
   "execution_count": 25,
   "id": "48c2825c",
   "metadata": {},
   "outputs": [
    {
     "data": {
      "text/plain": [
       "[('онлай', 1390),\n",
       " ('111454', 866),\n",
       " ('92749', 784),\n",
       " ('6362', 718),\n",
       " ('праздника', 553),\n",
       " ('процен', 542),\n",
       " ('117824', 484),\n",
       " ('42762', 428),\n",
       " ('61592', 385),\n",
       " ('неск', 367)]"
      ]
     },
     "execution_count": 25,
     "metadata": {},
     "output_type": "execute_result"
    }
   ],
   "source": [
    "# лемм\n",
    "lemmas1 = [morph.parse(word)[0].normal_form for word in X.text.to_string().lower().split()]\n",
    "vec_lemm = CountVectorizer(ngram_range=(1, 1), stop_words=stopwords.words('russian'))\n",
    "bow_lemm = vec_lemm.fit_transform(lemmas1)\n",
    "sorted(list(zip(vec_lemm.vocabulary_.keys(), bow_lemm.sum(0).getA1())), key = lambda i: i[1], reverse =True)[:10]"
   ]
  },
  {
   "cell_type": "code",
   "execution_count": 26,
   "id": "e54643d3",
   "metadata": {},
   "outputs": [
    {
     "data": {
      "text/plain": [
       "[('расторжение', 1223),\n",
       " ('кэш', 685),\n",
       " ('дезинформация', 539),\n",
       " ('оценка', 471),\n",
       " ('елизар', 301),\n",
       " ('номос', 294),\n",
       " ('адаптация', 274),\n",
       " ('красноярск', 182),\n",
       " ('кононов', 180),\n",
       " ('проспект', 176)]"
      ]
     },
     "execution_count": 26,
     "metadata": {},
     "output_type": "execute_result"
    }
   ],
   "source": [
    "# существительных\n",
    " \n",
    "noun = [word for word in lemmas1 if morph.parse(word)[0].tag.POS=='NOUN' ]\n",
    "noun\n",
    "vec_noun = CountVectorizer(ngram_range=(1, 1))\n",
    "bow_noun = vec_noun.fit_transform(noun)\n",
    "sorted(list(zip(vec_noun.vocabulary_.keys(), bow_noun.sum(0).getA1())), key = lambda i: i[1], reverse =True)[:10]"
   ]
  },
  {
   "cell_type": "markdown",
   "id": "d6af19e3",
   "metadata": {},
   "source": [
    "## Постройте кривые Ципфа и Хипса\n"
   ]
  },
  {
   "cell_type": "code",
   "execution_count": 27,
   "id": "9f37ad97",
   "metadata": {},
   "outputs": [
    {
     "data": {
      "text/plain": [
       "'!\"#$%&\\'()*+,-./:;<=>?@[\\\\]^_`{|}~'"
      ]
     },
     "execution_count": 27,
     "metadata": {},
     "output_type": "execute_result"
    }
   ],
   "source": [
    "from string import punctuation\n",
    "punctuation"
   ]
  },
  {
   "cell_type": "code",
   "execution_count": 28,
   "id": "28bd02c3",
   "metadata": {},
   "outputs": [
    {
     "name": "stdout",
     "output_type": "stream",
     "text": [
      "2050615\n"
     ]
    },
    {
     "data": {
      "text/plain": [
       "['В',\n",
       " 'Раменском',\n",
       " 'ДО',\n",
       " 'банка',\n",
       " 'ВТБ',\n",
       " '24',\n",
       " 'полтора',\n",
       " 'месяца',\n",
       " 'назад',\n",
       " 'заказал']"
      ]
     },
     "execution_count": 28,
     "metadata": {},
     "output_type": "execute_result"
    }
   ],
   "source": [
    "from collections import Counter\n",
    "corpus = [token for tweet in X.text for token in word_tokenize(tweet) if token not in punctuation]\n",
    "print(len(corpus))\n",
    "corpus[:10]"
   ]
  },
  {
   "cell_type": "code",
   "execution_count": 29,
   "id": "d892369b",
   "metadata": {},
   "outputs": [
    {
     "data": {
      "text/plain": [
       "[('в', 66171),\n",
       " ('и', 55441),\n",
       " ('не', 45396),\n",
       " ('на', 35308),\n",
       " ('что', 34807),\n",
       " ('я', 24682),\n",
       " ('с', 23614),\n",
       " ('по', 18655),\n",
       " ('мне', 16733),\n",
       " ('банка', 13104)]"
      ]
     },
     "execution_count": 29,
     "metadata": {},
     "output_type": "execute_result"
    }
   ],
   "source": [
    "freq_dict = Counter(corpus)\n",
    "\n",
    "# freq_dict_sorted= sorted(freq_dict.items(), key=lambda x: -x[1])\n",
    "freq_dict.most_common(10)"
   ]
  },
  {
   "cell_type": "code",
   "execution_count": 30,
   "id": "a96d8498",
   "metadata": {},
   "outputs": [
    {
     "data": {
      "image/png": "[encoded data removed]",
      "text/plain": [
       "<Figure size 432x288 with 1 Axes>"
      ]
     },
     "metadata": {
      "needs_background": "light"
     },
     "output_type": "display_data"
    }
   ],
   "source": [
    "import matplotlib.pyplot as plt\n",
    "%matplotlib inline\n",
    "\n",
    "freqs = list(freq_dict.values())\n",
    "freqs = sorted(freqs, reverse = True)\n",
    "\n",
    "fig, ax = plt.subplots()\n",
    "ax.plot(freqs[:300], range(300))\n",
    "ax.set_title(u'Кривая Ципфа', fontsize=12)\n",
    "plt.show()"
   ]
  },
  {
   "cell_type": "code",
   "execution_count": 31,
   "id": "ed33a618",
   "metadata": {},
   "outputs": [
    {
     "name": "stderr",
     "output_type": "stream",
     "text": [
      "100%|██████████████████████████████████████| 7471/7471 [00:45<00:00, 165.87it/s]\n"
     ]
    }
   ],
   "source": [
    "cnt = Counter()\n",
    "n_words = []\n",
    "n_tokens = []\n",
    "tokens = []\n",
    "for index, row in tqdm(X.iterrows(), total = len(X)):\n",
    "    tokens = word_tokenize(row['text'])\n",
    "    cnt.update([token for token in tokens if token not in punctuation])\n",
    "    n_words.append(len(cnt))\n",
    "    n_tokens.append(sum(list(cnt.values())))"
   ]
  },
  {
   "cell_type": "code",
   "execution_count": 32,
   "id": "f7df2204",
   "metadata": {},
   "outputs": [
    {
     "data": {
      "image/png": "[encoded data removed]",
      "text/plain": [
       "<Figure size 432x288 with 1 Axes>"
      ]
     },
     "metadata": {
      "needs_background": "light"
     },
     "output_type": "display_data"
    }
   ],
   "source": [
    "fig, ax = plt.subplots()\n",
    "ax.plot(n_tokens, n_words)\n",
    "ax.set_title(u'Кривая Хипса', fontsize=12)\n",
    "plt.show()"
   ]
  },
  {
   "cell_type": "markdown",
   "id": "f4d86c4c",
   "metadata": {},
   "source": [
    "Ответьте на следующие вопросы:\n",
    "\n",
    "Какое слово встречается чаще, \"сотрудник\" или \"клиент\"?\n",
    "\n",
    "Сколько раз встречается слова \"мошенничество\" и \"доверие\"?"
   ]
  },
  {
   "cell_type": "code",
   "execution_count": 33,
   "id": "0045269f",
   "metadata": {},
   "outputs": [
    {
     "name": "stdout",
     "output_type": "stream",
     "text": [
      "сотрудник 1586\n",
      "клиент 839\n",
      "мошенничество 44\n",
      "доверие 45\n"
     ]
    }
   ],
   "source": [
    "for  i in [\"сотрудник\", \"клиент\", \"мошенничество\", \"доверие\"]:\n",
    "    print(i, freq_dict.get(i))"
   ]
  },
  {
   "cell_type": "code",
   "execution_count": 34,
   "id": "b48acced",
   "metadata": {},
   "outputs": [],
   "source": [
    "positive = df.loc[df.rating_grade==5]\n",
    "negative = df.loc[df.rating_grade==1]"
   ]
  },
  {
   "cell_type": "code",
   "execution_count": 35,
   "id": "f5f2facf",
   "metadata": {},
   "outputs": [],
   "source": [
    "vec = TfidfVectorizer(ngram_range=(1, 1), stop_words=stopwords.words('russian'))\n",
    "bow = vec.fit(df.title)"
   ]
  },
  {
   "cell_type": "code",
   "execution_count": 36,
   "id": "23c95230",
   "metadata": {},
   "outputs": [
    {
     "name": "stdout",
     "output_type": "stream",
     "text": [
      "Ключевые слова для положительных отзывов\n"
     ]
    },
    {
     "data": {
      "text/plain": [
       "[('проблемами', 395.40761430558575),\n",
       " ('теряет', 368.233497444977),\n",
       " ('59р', 321.3188033696577),\n",
       " ('вынуждающее', 251.51163214893674),\n",
       " ('вину', 184.50265894687792),\n",
       " ('рассрочкой', 130.49433088983287),\n",
       " ('горькое', 105.3107339908883),\n",
       " ('строить', 104.89816666316145),\n",
       " ('начхать', 102.70455261485913),\n",
       " ('принесет', 99.939706225379)]"
      ]
     },
     "execution_count": 36,
     "metadata": {},
     "output_type": "execute_result"
    }
   ],
   "source": [
    "print('Ключевые слова для положительных отзывов')\n",
    "bow_pls = bow.transform(positive.title)\n",
    "sorted(list(zip(vec.vocabulary_.keys(), bow_pls.sum(0).getA1())), key = lambda i: i[1], reverse =True)[:10]"
   ]
  },
  {
   "cell_type": "code",
   "execution_count": 37,
   "id": "99e11874",
   "metadata": {},
   "outputs": [
    {
     "name": "stdout",
     "output_type": "stream",
     "text": [
      "Ключевые слова для отрицательных отзывов\n"
     ]
    },
    {
     "data": {
      "text/plain": [
       "[('недобросовестный', 959.9768563602177),\n",
       " ('проблемами', 852.6879745027343),\n",
       " ('рассрочкой', 708.3132166096443),\n",
       " ('великолепно', 523.7249093600086),\n",
       " ('вынуждающее', 498.2691170039271),\n",
       " ('людям', 480.92799949253595),\n",
       " ('человеком', 402.80934368368474),\n",
       " ('пределе', 375.33057133743904),\n",
       " ('среднем', 369.4893102100691),\n",
       " ('побывать', 357.67534090534133)]"
      ]
     },
     "execution_count": 37,
     "metadata": {},
     "output_type": "execute_result"
    }
   ],
   "source": [
    "print('Ключевые слова для отрицательных отзывов')\n",
    "bow_neg = bow.transform(negative.title)\n",
    "sorted(list(zip(vec.vocabulary_.keys(), bow_neg.sum(0).getA1())), key = lambda i: i[1], reverse =True)[:10]"
   ]
  },
  {
   "cell_type": "code",
   "execution_count": 38,
   "id": "a52d1eae",
   "metadata": {},
   "outputs": [],
   "source": [
    "vec = TfidfVectorizer(ngram_range=(2, 2), stop_words=stopwords.words('russian'))\n",
    "bow = vec.fit(df.title)"
   ]
  },
  {
   "cell_type": "code",
   "execution_count": 39,
   "id": "d3cd2bdb",
   "metadata": {},
   "outputs": [
    {
     "name": "stdout",
     "output_type": "stream",
     "text": [
      "Биграммы для положительных отзывов\n"
     ]
    },
    {
     "data": {
      "text/plain": [
       "[('сюрприз хоума', 145.05761154080105),\n",
       " ('деньги те', 84.66114249317523),\n",
       " ('ижевске понравилось', 72.64409162293431),\n",
       " ('зависло зависло', 62.243840246095445),\n",
       " ('сотрудники дилетанты', 51.27494515467641),\n",
       " ('руб акции', 46.208923944103425),\n",
       " ('списанные средства', 43.00136248829607),\n",
       " ('добиться регулярного', 42.199609721699694),\n",
       " ('могу добиться', 36.86302736821293),\n",
       " ('банке закрытии', 35.291973612743945)]"
      ]
     },
     "execution_count": 39,
     "metadata": {},
     "output_type": "execute_result"
    }
   ],
   "source": [
    "print('Биграммы для положительных отзывов')\n",
    "bow_pls = bow.transform(positive.title)\n",
    "sorted(list(zip(vec.vocabulary_.keys(), bow_pls.sum(0).getA1())), key = lambda i: i[1], reverse =True)[:10]"
   ]
  },
  {
   "cell_type": "code",
   "execution_count": 41,
   "id": "7bfc4057",
   "metadata": {},
   "outputs": [
    {
     "name": "stdout",
     "output_type": "stream",
     "text": [
      "Биграммы для отрицательных отзывов\n"
     ]
    },
    {
     "data": {
      "text/plain": [
       "[('банка рс', 178.33602333094484),\n",
       " ('полезности бесцельных', 175.6623771811733),\n",
       " ('банк выполнять', 160.2605832228851),\n",
       " ('перевод ленинском', 142.83035875679047),\n",
       " ('выдали денежные', 132.6915789856816),\n",
       " ('телефон бесконечные', 125.08112310306095),\n",
       " ('заботится сохранении', 120.90813498566939),\n",
       " ('воза упало', 116.6920572966939),\n",
       " ('сергея николаевича', 112.69620579659352),\n",
       " ('услуга процентов', 109.23015667744804)]"
      ]
     },
     "execution_count": 41,
     "metadata": {},
     "output_type": "execute_result"
    }
   ],
   "source": [
    "print('Биграммы для отрицательных отзывов')\n",
    "bow_neg = bow.transform(negative.title)\n",
    "sorted(list(zip(vec.vocabulary_.keys(), bow_neg.sum(0).getA1())), key = lambda i: i[1], reverse =True)[:10]\n"
   ]
  },
  {
   "cell_type": "markdown",
   "id": "d5e0499e",
   "metadata": {},
   "source": [
    "## Часть 2. Тематическое моделирование"
   ]
  },
  {
   "cell_type": "markdown",
   "id": "53e5af39",
   "metadata": {},
   "source": [
    "Постройте несколько тематических моделей коллекции документов с разным числом тем.\n",
    "\n",
    "Приведите примеры понятных (интерпретируемых) тем.\n",
    "Найдите темы, в которых упомянуты конкретные банки (Сбербанк, ВТБ, другой банк).\n",
    "Можете ли вы их прокомментировать / объяснить? Эта часть задания может быть сделана с использованием gensim."
   ]
  },
  {
   "cell_type": "code",
   "execution_count": 42,
   "id": "6242930c",
   "metadata": {},
   "outputs": [
    {
     "name": "stdout",
     "output_type": "stream",
     "text": [
      "Requirement already satisfied: gensim in /Users/wizard/opt/anaconda3/lib/python3.9/site-packages (4.1.2)\n",
      "Collecting gensim\n",
      "  Downloading gensim-4.2.0-cp39-cp39-macosx_10_9_x86_64.whl (24.0 MB)\n",
      "\u001b[K     |████████████████████████████████| 24.0 MB 1.6 MB/s eta 0:00:01     |███████████████▉                | 11.8 MB 3.0 MB/s eta 0:00:04\n",
      "\u001b[?25hRequirement already satisfied: scipy>=0.18.1 in /Users/wizard/opt/anaconda3/lib/python3.9/site-packages (from gensim) (1.7.3)\n",
      "Requirement already satisfied: smart-open>=1.8.1 in /Users/wizard/opt/anaconda3/lib/python3.9/site-packages (from gensim) (5.1.0)\n",
      "Requirement already satisfied: numpy>=1.17.0 in /Users/wizard/opt/anaconda3/lib/python3.9/site-packages (from gensim) (1.21.5)\n",
      "Installing collected packages: gensim\n",
      "  Attempting uninstall: gensim\n",
      "    Found existing installation: gensim 4.1.2\n",
      "    Uninstalling gensim-4.1.2:\n",
      "      Successfully uninstalled gensim-4.1.2\n",
      "Successfully installed gensim-4.2.0\n",
      "Note: you may need to restart the kernel to use updated packages.\n"
     ]
    }
   ],
   "source": [
    "pip install --upgrade gensim\n"
   ]
  },
  {
   "cell_type": "code",
   "execution_count": 43,
   "id": "9adbc26a",
   "metadata": {},
   "outputs": [],
   "source": [
    "from gensim.corpora import Dictionary\n",
    "from gensim.models import TfidfModel\n",
    "from gensim import similarities"
   ]
  },
  {
   "cell_type": "code",
   "execution_count": 44,
   "id": "38637154",
   "metadata": {},
   "outputs": [],
   "source": [
    "mystopwords = stopwords.words('russian') + [\n",
    "    'это', 'наш' , 'тыс', 'млн', 'млрд', 'также',  'т', 'д',\n",
    "    'который','прошлый','сей', 'свой', 'наш', 'мочь', 'такой'\n",
    "]\n",
    "ru_words = re.compile(\"[А-Яа-я]+\")\n",
    "\n",
    "\n",
    "def words_only(text):\n",
    "    return \" \".join(ru_words.findall(text))\n",
    "\n",
    "\n",
    "def lemmat(text):   \n",
    "    try:\n",
    "        return \" \".join([morph.parse(word)[0].normal_form for word in text.split()]).strip()\n",
    "    except:\n",
    "        return \"\"\n",
    "\n",
    "def remove_stopwords(text, mystopwords = mystopwords):\n",
    "    try:\n",
    "        return \" \".join([token for token in text.split() if not token in mystopwords])\n",
    "    except:\n",
    "        return \"\"\n",
    "\n",
    "    \n",
    "def preprocess(text):\n",
    "    return remove_stopwords(lemmat(words_only(text.lower())))\n"
   ]
  },
  {
   "cell_type": "code",
   "execution_count": 45,
   "id": "dfe3ef64",
   "metadata": {},
   "outputs": [
    {
     "data": {
      "text/plain": [
       "30773     раменское банк втб полтора месяц назад заказат...\n",
       "60894     петербург иметь верный пока ещё иметь вклад да...\n",
       "77365     прекрасный день август зайти телебанк день ста...\n",
       "53610     обратиться банк оформление ипотека программа и...\n",
       "71768     очень просить разобраться ваш сотрудник работа...\n",
       "                                ...                        \n",
       "24423     брать кредит год ставка первый год далее моспр...\n",
       "122241    здравствуйте наверное пока отзыв корректный не...\n",
       "51540     приветствовать весь клиент мособобанк сотрудни...\n",
       "58679     сегодня утро прочитать сайт банк акция бесплат...\n",
       "55431     февраль снимать зара плата терминал сбербанк к...\n",
       "Name: text, Length: 7471, dtype: object"
      ]
     },
     "execution_count": 45,
     "metadata": {},
     "output_type": "execute_result"
    }
   ],
   "source": [
    "text = X.text.apply(preprocess)\n",
    "text\n"
   ]
  },
  {
   "cell_type": "code",
   "execution_count": 47,
   "id": "d12e168d",
   "metadata": {},
   "outputs": [],
   "source": [
    "texts = [text1.split() for text1 in text]\n"
   ]
  },
  {
   "cell_type": "code",
   "execution_count": 48,
   "id": "4d54f08d",
   "metadata": {},
   "outputs": [],
   "source": [
    "dictionary = Dictionary(texts)\n",
    "corpus = [dictionary.doc2bow(text) for text in texts]"
   ]
  },
  {
   "cell_type": "code",
   "execution_count": 49,
   "id": "89372000",
   "metadata": {},
   "outputs": [],
   "source": [
    "tfidf = TfidfModel(corpus)\n",
    "corpus_tfidf = tfidf[corpus]\n"
   ]
  },
  {
   "cell_type": "code",
   "execution_count": 50,
   "id": "949f2a3b",
   "metadata": {},
   "outputs": [
    {
     "data": {
      "text/plain": [
       "<gensim.interfaces.TransformedCorpus at 0x7ff40bba8cd0>"
      ]
     },
     "execution_count": 50,
     "metadata": {},
     "output_type": "execute_result"
    }
   ],
   "source": [
    "corpus_tfidf\n"
   ]
  },
  {
   "cell_type": "code",
   "execution_count": 51,
   "id": "6b8eefe7",
   "metadata": {},
   "outputs": [],
   "source": [
    "# %%time\n",
    "index = similarities.MatrixSimilarity(corpus_tfidf)\n",
    "sims = index[corpus_tfidf]"
   ]
  },
  {
   "cell_type": "code",
   "execution_count": 52,
   "id": "d640a207",
   "metadata": {},
   "outputs": [
    {
     "data": {
      "text/plain": [
       "7471"
      ]
     },
     "execution_count": 52,
     "metadata": {},
     "output_type": "execute_result"
    }
   ],
   "source": [
    "len(corpus)\n"
   ]
  },
  {
   "cell_type": "code",
   "execution_count": 53,
   "id": "9a0f4f4a",
   "metadata": {},
   "outputs": [
    {
     "data": {
      "text/plain": [
       "array([1.0000001 , 0.00881498, 0.01472582, ..., 0.00883962, 0.0078349 ,\n",
       "       0.00754035], dtype=float32)"
      ]
     },
     "execution_count": 53,
     "metadata": {},
     "output_type": "execute_result"
    }
   ],
   "source": [
    "sims[0]\n"
   ]
  },
  {
   "cell_type": "code",
   "execution_count": 54,
   "id": "6955f463",
   "metadata": {},
   "outputs": [
    {
     "data": {
      "text/plain": [
       "(7471, 7471)"
      ]
     },
     "execution_count": 54,
     "metadata": {},
     "output_type": "execute_result"
    }
   ],
   "source": [
    "sims.shape\n"
   ]
  },
  {
   "cell_type": "code",
   "execution_count": 55,
   "id": "7a9da6f3",
   "metadata": {},
   "outputs": [],
   "source": [
    "from gensim.models import lsimodel\n"
   ]
  },
  {
   "cell_type": "code",
   "execution_count": 56,
   "id": "7b14c4a2",
   "metadata": {},
   "outputs": [],
   "source": [
    "# 5 тем\n",
    "lsi = lsimodel.LsiModel(corpus=corpus_tfidf, id2word=dictionary, num_topics=5)\n"
   ]
  },
  {
   "cell_type": "code",
   "execution_count": 57,
   "id": "02f7dc58",
   "metadata": {},
   "outputs": [
    {
     "data": {
      "text/plain": [
       "[(0,\n",
       "  '0.194*\"карта\" + 0.135*\"кредит\" + 0.116*\"вклад\" + 0.115*\"заявление\" + 0.112*\"банкомат\" + 0.111*\"деньга\" + 0.106*\"счёт\" + 0.099*\"отделение\" + 0.098*\"сбербанк\" + 0.093*\"сумма\"'),\n",
       " (1,\n",
       "  '0.616*\"вклад\" + -0.190*\"кредит\" + 0.154*\"очередь\" + -0.138*\"заявление\" + -0.136*\"платёж\" + 0.135*\"открыть\" + -0.115*\"задолженность\" + -0.112*\"погашение\" + 0.099*\"касса\" + 0.091*\"офис\"'),\n",
       " (2,\n",
       "  '0.424*\"банкомат\" + -0.375*\"кредит\" + -0.216*\"страховка\" + 0.211*\"карта\" + -0.171*\"договор\" + 0.158*\"сбербанк\" + 0.153*\"деньга\" + -0.136*\"страхование\" + 0.127*\"операция\" + -0.124*\"погашение\"'),\n",
       " (3,\n",
       "  '0.312*\"банкомат\" + -0.309*\"карта\" + 0.306*\"вклад\" + -0.200*\"заявка\" + 0.176*\"сумма\" + 0.154*\"деньга\" + 0.132*\"погашение\" + 0.126*\"кредит\" + 0.124*\"руб\" + 0.121*\"платёж\"'),\n",
       " (4,\n",
       "  '-0.407*\"банкомат\" + 0.270*\"вклад\" + 0.262*\"карта\" + -0.165*\"кредит\" + -0.163*\"заявка\" + 0.138*\"счёт\" + -0.129*\"очередь\" + -0.129*\"купюра\" + 0.128*\"задолженность\" + 0.112*\"комиссия\"')]"
      ]
     },
     "execution_count": 57,
     "metadata": {},
     "output_type": "execute_result"
    }
   ],
   "source": [
    "lsi.show_topics(5)\n"
   ]
  },
  {
   "cell_type": "code",
   "execution_count": 58,
   "id": "917c65de",
   "metadata": {},
   "outputs": [],
   "source": [
    "# 30 тем\n",
    "lsi = lsimodel.LsiModel(corpus=corpus_tfidf, id2word=dictionary, num_topics=30)"
   ]
  },
  {
   "cell_type": "code",
   "execution_count": 59,
   "id": "4f84b543",
   "metadata": {},
   "outputs": [
    {
     "data": {
      "text/plain": [
       "[(0,\n",
       "  '0.194*\"карта\" + 0.135*\"кредит\" + 0.116*\"вклад\" + 0.115*\"заявление\" + 0.112*\"банкомат\" + 0.111*\"деньга\" + 0.106*\"счёт\" + 0.099*\"отделение\" + 0.098*\"сбербанк\" + 0.093*\"сумма\"'),\n",
       " (1,\n",
       "  '-0.616*\"вклад\" + 0.190*\"кредит\" + -0.155*\"очередь\" + 0.137*\"заявление\" + 0.136*\"платёж\" + -0.135*\"открыть\" + 0.116*\"задолженность\" + 0.112*\"погашение\" + -0.099*\"касса\" + -0.090*\"офис\"'),\n",
       " (2,\n",
       "  '-0.424*\"банкомат\" + 0.375*\"кредит\" + 0.216*\"страховка\" + -0.210*\"карта\" + 0.170*\"договор\" + -0.159*\"сбербанк\" + -0.153*\"деньга\" + 0.136*\"страхование\" + -0.128*\"операция\" + 0.124*\"погашение\"'),\n",
       " (3,\n",
       "  '-0.314*\"банкомат\" + -0.307*\"вклад\" + 0.307*\"карта\" + 0.201*\"заявка\" + -0.176*\"сумма\" + -0.152*\"деньга\" + -0.134*\"погашение\" + -0.126*\"руб\" + -0.126*\"кредит\" + -0.122*\"платёж\"'),\n",
       " (4,\n",
       "  '0.406*\"банкомат\" + -0.271*\"вклад\" + -0.264*\"карта\" + 0.166*\"кредит\" + 0.161*\"заявка\" + -0.141*\"счёт\" + 0.130*\"очередь\" + 0.130*\"купюра\" + -0.126*\"задолженность\" + -0.111*\"комиссия\"')]"
      ]
     },
     "execution_count": 59,
     "metadata": {},
     "output_type": "execute_result"
    }
   ],
   "source": [
    "lsi.show_topics(5)\n"
   ]
  },
  {
   "cell_type": "markdown",
   "id": "8d39b8f4",
   "metadata": {},
   "source": [
    "### Понятные темы: карта, кредит, вклад, банкомат\n"
   ]
  },
  {
   "cell_type": "code",
   "execution_count": 60,
   "id": "ea52fe76",
   "metadata": {},
   "outputs": [
    {
     "name": "stdout",
     "output_type": "stream",
     "text": [
      "topic = 0 ('сбербанк', 0.0980943581036627)\n",
      "topic = 2 ('сбербанк', -0.15873563921587056)\n",
      "topic = 5 ('сбербанк', -0.11576847908090707)\n",
      "topic = 6 ('сбербанк', 0.25909345568352454)\n",
      "topic = 7 ('сбербанк', 0.31932599017159163)\n",
      "topic = 8 ('сбербанк', -0.2726380884852816)\n",
      "topic = 10 ('сбербанк', -0.23481101802920562)\n",
      "topic = 10 ('альфа', 0.12575189063278855)\n",
      "topic = 11 ('сбербанк', -0.3858023095820332)\n",
      "topic = 12 ('сбербанк', -0.2349135468044132)\n",
      "topic = 13 ('сбербанк', -0.1503482740750993)\n",
      "topic = 14 ('сбербанк', -0.1543471437556309)\n",
      "topic = 14 ('альфа', -0.1452162720928645)\n",
      "topic = 16 ('альфа', -0.1548873989862213)\n",
      "topic = 17 ('альфа', 0.1508717974026932)\n",
      "topic = 20 ('альфа', 0.31469082550579436)\n",
      "topic = 21 ('альфа', 0.20463189478481683)\n",
      "topic = 22 ('альфа', -0.4315983861659176)\n",
      "topic = 23 ('втб', -0.203680565035125)\n",
      "topic = 24 ('альфа', 0.19490888558847116)\n",
      "topic = 26 ('альфа', -0.1496127909416281)\n",
      "topic = 29 ('альфа', -0.1562989986461048)\n"
     ]
    }
   ],
   "source": [
    "for i in range(30):    \n",
    "    for j in lsi.show_topic(topicno=i, topn=10):\n",
    "        if j[0] in ['сбербанк', 'альфа', 'втб']:\n",
    "            print('topic =', i, j)"
   ]
  },
  {
   "cell_type": "markdown",
   "id": "12300d83",
   "metadata": {},
   "source": [
    "## Часть 3. Классификация текстов\n"
   ]
  },
  {
   "cell_type": "markdown",
   "id": "cf987ed5",
   "metadata": {},
   "source": [
    "Сформулируем для простоты задачу бинарной классификации: будем классифицировать на два класса, то есть, различать резко отрицательные отзывы (с оценкой 1) и положительные отзывы (с оценкой 5).\n",
    "Составьте обучающее и тестовое множество: **выберите из всего набора данных N1 отзывов с оценкой 1 и N2 отзывов с оценкой 5 (значение N1 и N2 – на ваше усмотрение)."
   ]
  },
  {
   "cell_type": "code",
   "execution_count": 61,
   "id": "f63a36dd",
   "metadata": {},
   "outputs": [],
   "source": [
    "data = pd.concat([positive.iloc[:3000], negative.iloc[:3000]])\n"
   ]
  },
  {
   "cell_type": "markdown",
   "id": "89e0b6de",
   "metadata": {},
   "source": [
    "Используйте sklearn.model_selection.train_test_split для разделения множества отобранных документов на обучающее и тестовое."
   ]
  },
  {
   "cell_type": "code",
   "execution_count": 62,
   "id": "50260d9d",
   "metadata": {},
   "outputs": [
    {
     "data": {
      "text/plain": [
       "((4200,), (1800,), (4200,), (1800,))"
      ]
     },
     "execution_count": 62,
     "metadata": {},
     "output_type": "execute_result"
    }
   ],
   "source": [
    "X_train, X_test, y_train, y_test = train_test_split(data.text, data.rating_grade, train_size=0.7, random_state=42, stratify = data.rating_grade)\n",
    "X_train.shape, X_test.shape, y_train.shape, y_test.shape"
   ]
  },
  {
   "cell_type": "code",
   "execution_count": 63,
   "id": "bac4b1d6",
   "metadata": {},
   "outputs": [
    {
     "data": {
      "text/plain": [
       "26854    покупка машина потребоваться доплата принцип н...\n",
       "3318     декабрь заблокировать карта написать заявление...\n",
       "585      здравствуйте сразу написать являться клиент ба...\n",
       "10647    обслуживание сбербанк бум переров корпус рядом...\n",
       "10814    здравствуйте способ вывод карта информация пла...\n",
       "                               ...                        \n",
       "33222    узнать банк случайно поездка прага решить запа...\n",
       "6616     являться клиент банк год никакой проблема всё ...\n",
       "3299     март месяц день получить зарплатный карточка с...\n",
       "7463     добрый день лебедев владимир являться х год за...\n",
       "5602     добрый день декабрь год оформить ипотечный кре...\n",
       "Name: text, Length: 4200, dtype: object"
      ]
     },
     "execution_count": 63,
     "metadata": {},
     "output_type": "execute_result"
    }
   ],
   "source": [
    "X_train = X_train.apply(preprocess)\n",
    "X_train"
   ]
  },
  {
   "cell_type": "code",
   "execution_count": 64,
   "id": "ac4ba984",
   "metadata": {},
   "outputs": [
    {
     "data": {
      "text/plain": [
       "8619     хотеть поблагодарить сотрудник отдел претензио...\n",
       "4672     очень сильно мешать жить постоянный звонок соо...\n",
       "2144     год назад жена сделать вклад ваш банк примерно...\n",
       "5546     снимать деньга банкомат банкомат списать деньг...\n",
       "9623     март г организация подать исполнительный лист ...\n",
       "                               ...                        \n",
       "31492    добрый день обычно отзыв читать решить написат...\n",
       "45281    вообще ткс банк виртуальный поддержка должный ...\n",
       "4810     добрый день март год адрес путём почтовый отпр...\n",
       "43653    перевести телефон рубль пользоваться очень нес...\n",
       "9997     добрый день май оформить кредит телефон связны...\n",
       "Name: text, Length: 1800, dtype: object"
      ]
     },
     "execution_count": 64,
     "metadata": {},
     "output_type": "execute_result"
    }
   ],
   "source": [
    "X_test = X_test.apply(preprocess)\n",
    "X_test"
   ]
  },
  {
   "cell_type": "markdown",
   "id": "045c83e8",
   "metadata": {},
   "source": [
    "Используйте любой известный вам алгоритм классификации текстов для решения задачи и получите baseline.\n",
    "Сравните разные варианты векторизации текста: использование только униграм, пар или троек слов или с использованием символьных -грам.\n",
    "Сравните, как изменяется качество решения задачи при использовании скрытых тем в качестве признаков:\n",
    "1-ый вариант: преобразование (sklearn.feature_extraction.text.TfidfTransformer) и сингулярное разложение (оно же – латентый семантический анализ) (sklearn.decomposition.TruncatedSVD),\n",
    "2-ой вариант: тематические модели LDA (sklearn.decomposition.LatentDirichletAllocation). Используйте accuracy и F-measure для оценки качества классификации. "
   ]
  },
  {
   "cell_type": "code",
   "execution_count": 65,
   "id": "8b9045d6",
   "metadata": {},
   "outputs": [],
   "source": [
    "from sklearn.pipeline import Pipeline\n",
    "from sklearn.ensemble import RandomForestClassifier"
   ]
  },
  {
   "cell_type": "code",
   "execution_count": 66,
   "id": "3adf10e2",
   "metadata": {},
   "outputs": [
    {
     "name": "stdout",
     "output_type": "stream",
     "text": [
      "              precision    recall  f1-score   support\n",
      "\n",
      "         1.0       0.82      0.76      0.79       971\n",
      "         5.0       0.74      0.80      0.77       829\n",
      "\n",
      "    accuracy                           0.78      1800\n",
      "   macro avg       0.78      0.78      0.78      1800\n",
      "weighted avg       0.78      0.78      0.78      1800\n",
      "\n",
      "____________________________________\n",
      "              precision    recall  f1-score   support\n",
      "\n",
      "         1.0       0.83      0.81      0.82       925\n",
      "         5.0       0.81      0.83      0.82       875\n",
      "\n",
      "    accuracy                           0.82      1800\n",
      "   macro avg       0.82      0.82      0.82      1800\n",
      "weighted avg       0.82      0.82      0.82      1800\n",
      "\n",
      "____________________________________\n",
      "              precision    recall  f1-score   support\n",
      "\n",
      "         1.0       0.94      0.54      0.69      1574\n",
      "         5.0       0.19      0.77      0.31       226\n",
      "\n",
      "    accuracy                           0.57      1800\n",
      "   macro avg       0.57      0.66      0.50      1800\n",
      "weighted avg       0.85      0.57      0.64      1800\n",
      "\n",
      "____________________________________\n",
      "              precision    recall  f1-score   support\n",
      "\n",
      "         1.0       0.53      0.63      0.57       758\n",
      "         5.0       0.69      0.59      0.64      1042\n",
      "\n",
      "    accuracy                           0.61      1800\n",
      "   macro avg       0.61      0.61      0.61      1800\n",
      "weighted avg       0.62      0.61      0.61      1800\n",
      "\n"
     ]
    }
   ],
   "source": [
    "# 1-вариант: 𝑡𝑓−𝑖𝑑𝑓  преобразование  и сингулярное разложение\n",
    "dic = [((1, 1)), ((2, 2)), ((3, 3))]\n",
    "for i in dic:\n",
    "    clf = Pipeline([ \n",
    "        ('vect', CountVectorizer(ngram_range=i)), \n",
    "        ('tfidf', TfidfTransformer()), \n",
    "        ('tm', TruncatedSVD()), \n",
    "        ('clf', RandomForestClassifier(criterion='entropy', n_estimators=10, max_depth=2, random_state=0))\n",
    "    ])\n",
    "    clf.fit(X_train, y_train)  \n",
    "    pred = clf.predict(X_test)\n",
    "    print(classification_report(pred, y_test))\n",
    "    print('____________________________________')\n",
    "clf = Pipeline([ \n",
    "        ('vect', CountVectorizer(analyzer='char')), \n",
    "        ('tfidf', TfidfTransformer()), \n",
    "        ('tm', TruncatedSVD()), \n",
    "        ('clf', RandomForestClassifier(criterion='entropy', n_estimators=10, max_depth=3, random_state=0))\n",
    "    ])\n",
    "clf.fit(X_train, y_train)  \n",
    "pred = clf.predict(X_test)\n",
    "print(classification_report(pred, y_test))    "
   ]
  },
  {
   "cell_type": "code",
   "execution_count": 67,
   "id": "44afe2e3",
   "metadata": {},
   "outputs": [
    {
     "name": "stdout",
     "output_type": "stream",
     "text": [
      "              precision    recall  f1-score   support\n",
      "\n",
      "         1.0       0.84      0.53      0.65      1410\n",
      "         5.0       0.27      0.63      0.38       390\n",
      "\n",
      "    accuracy                           0.55      1800\n",
      "   macro avg       0.55      0.58      0.52      1800\n",
      "weighted avg       0.71      0.55      0.59      1800\n",
      "\n",
      "____________________________________\n",
      "              precision    recall  f1-score   support\n",
      "\n",
      "         1.0       0.89      0.52      0.66      1538\n",
      "         5.0       0.18      0.62      0.28       262\n",
      "\n",
      "    accuracy                           0.54      1800\n",
      "   macro avg       0.54      0.57      0.47      1800\n",
      "weighted avg       0.79      0.54      0.60      1800\n",
      "\n",
      "____________________________________\n",
      "              precision    recall  f1-score   support\n",
      "\n",
      "         1.0       0.96      0.50      0.65      1739\n",
      "         5.0       0.02      0.36      0.05        61\n",
      "\n",
      "    accuracy                           0.49      1800\n",
      "   macro avg       0.49      0.43      0.35      1800\n",
      "weighted avg       0.93      0.49      0.63      1800\n",
      "\n",
      "____________________________________\n",
      "              precision    recall  f1-score   support\n",
      "\n",
      "         1.0       0.63      0.67      0.65       849\n",
      "         5.0       0.69      0.65      0.67       951\n",
      "\n",
      "    accuracy                           0.66      1800\n",
      "   macro avg       0.66      0.66      0.66      1800\n",
      "weighted avg       0.66      0.66      0.66      1800\n",
      "\n"
     ]
    }
   ],
   "source": [
    "# 2-й вариант: тематические модели LDA (sklearn.decomposition.LatentDirichletAllocation)\n",
    "dic = [((1, 1)), ((2, 2)), ((3, 3))]\n",
    "for i in dic:\n",
    "    clf = Pipeline([ \n",
    "        ('vect', CountVectorizer(ngram_range=i)), \n",
    "        ('tfidf', TfidfTransformer()), \n",
    "        ('lda', LatentDirichletAllocation()), \n",
    "        ('clf', RandomForestClassifier(criterion='entropy', n_estimators=10, max_depth=2, random_state=0))\n",
    "    ])\n",
    "    clf.fit(X_train, y_train)  \n",
    "    pred = clf.predict(X_test)\n",
    "    print(classification_report(pred, y_test))\n",
    "    print('____________________________________')\n",
    "clf = Pipeline([ \n",
    "        ('vect', CountVectorizer(analyzer='char')), \n",
    "        ('tfidf', TfidfTransformer()), \n",
    "        ('lda', LatentDirichletAllocation()), \n",
    "        ('clf', RandomForestClassifier(criterion='entropy', n_estimators=10, max_depth=3, random_state=0))\n",
    "    ])\n",
    "clf.fit(X_train, y_train)  \n",
    "pred = clf.predict(X_test)\n",
    "print(classification_report(pred, y_test))    "
   ]
  },
  {
   "cell_type": "markdown",
   "id": "ada83312",
   "metadata": {},
   "source": [
    "1-й вариант отработал быстрее и лучше на словах, и сравнимо со 2-м вариантом на символьных n-граммах"
   ]
  },
  {
   "cell_type": "code",
   "execution_count": null,
   "id": "3c223e93",
   "metadata": {},
   "outputs": [],
   "source": []
  }
 ],
 "metadata": {
  "kernelspec": {
   "display_name": "Python 3 (ipykernel)",
   "language": "python",
   "name": "python3"
  },
  "language_info": {
   "codemirror_mode": {
    "name": "ipython",
    "version": 3
   },
   "file_extension": ".py",
   "mimetype": "text/x-python",
   "name": "python",
   "nbconvert_exporter": "python",
   "pygments_lexer": "ipython3",
   "version": "3.9.12"
  }
 },
 "nbformat": 4,
 "nbformat_minor": 5
}
