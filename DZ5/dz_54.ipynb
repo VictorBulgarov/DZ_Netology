{
 "cells": [
  {
   "cell_type": "markdown",
   "metadata": {},
   "source": [
    "##Задание 1\n",
    "Напишите функцию, которая принимает на вход строку и проверяет является ли она валидным транспортным номером (1 буква, 3 цифры, 2 буквы, 2-3 цифры). Обратите внимание, что не все буквы кириллического алфавита используются в транспортных номерах.\n",
    "\n",
    "Если номер валиден, то функция должна возвращать отдельно номер и регион.\n",
    "\n",
    "Примеры работы программы:\n",
    "\n",
    "car_id = 'А222BС96’\n",
    "Результат: Номер А222BС валиден. Регион: 96\n",
    "\n",
    "car_id = 'АБ22ВВ193’\n",
    "Результат: Номер не валиден"
   ]
  },
  {
   "cell_type": "code",
   "execution_count": 1,
   "metadata": {},
   "outputs": [],
   "source": [
    "import re"
   ]
  },
  {
   "cell_type": "code",
   "execution_count": null,
   "metadata": {},
   "outputs": [],
   "source": [
    "car_id = 'А222ВС96'# Первый номер для проверки"
   ]
  },
  {
   "cell_type": "code",
   "execution_count": null,
   "metadata": {},
   "outputs": [],
   "source": [
    "#car_id = 'АБ22ВВ193'#Второй номер для проверки"
   ]
  },
  {
   "cell_type": "code",
   "execution_count": null,
   "metadata": {},
   "outputs": [],
   "source": [
    "def valid_car_id(id):\n",
    "    \n",
    "    \"\"\"Функция valid_car_id проверяет номера транспортных средств на валидность\n",
    "    по шаблону\"\"\"\n",
    "    \n",
    "    new_car_id = re.match(r'^([АВЕКМНОРСТУХ]{1}[0-9]{3}[АВЕКМНОРСТУХ]{2}[0-9]{2,3})?$', car_id)# Регулярное выражение проверки номеров\n",
    "    if new_car_id == None:\n",
    "        print(f\"Результат: Номер {car_id}  не валиден.\")\n",
    "    else:\n",
    "        print(f\"Результат: Номер {car_id} валиден. Регион: {car_id[-2]}{car_id[-1]}\") \n",
    "    return\n",
    "\n",
    "valid_car_id(car_id)"
   ]
  },
  {
   "cell_type": "code",
   "execution_count": null,
   "metadata": {},
   "outputs": [],
   "source": []
  },
  {
   "cell_type": "markdown",
   "metadata": {},
   "source": [
    "Задание 2\n",
    "Напишите функцию, которая будет удалять все последовательные повторы слов из заданной строки при помощи регулярных выражений.\n",
    "\n",
    "Пример работы программы:\n",
    "\n",
    "some_string = ‘Напишите функцию функцию, которая будет будет будет будет удалять все все все все последовательные повторы слов из из из из заданной строки строки при помощи регулярных выражений’\n",
    "\n",
    "Результат: Напишите функцию, которая будет удалять все последовательные повторы слов из заданной строки при помощи регулярных выражений.\n",
    "\n"
   ]
  },
  {
   "cell_type": "code",
   "execution_count": null,
   "metadata": {},
   "outputs": [],
   "source": []
  },
  {
   "cell_type": "code",
   "execution_count": null,
   "metadata": {},
   "outputs": [],
   "source": [
    "some_string = 'Напишите функцию функцию, которая будет будет будет будет удалять все все все все последовательные повторы слов из из из из заданной строки строки при помощи регулярных выражений.'"
   ]
  },
  {
   "cell_type": "code",
   "execution_count": null,
   "metadata": {},
   "outputs": [],
   "source": [
    "def delete_repeats(string):\n",
    "    \n",
    "    \"\"\"Функция, которая будет удалять все последовательные повторы слов \n",
    "    из заданной строки при помощи регулярных выражений.\"\"\"\n",
    "    \n",
    "    \n",
    "    pattern = re.sub(r'\\b([^\\W\\d_]+)(\\s+\\1)+\\b', r\"\\1\", re.sub(r'\\W+', ' ', some_string).strip(), flags=re.I)\n",
    "    print(pattern)\n",
    "\n",
    "delete_repeats(some_string)"
   ]
  },
  {
   "cell_type": "code",
   "execution_count": null,
   "metadata": {},
   "outputs": [],
   "source": []
  },
  {
   "cell_type": "markdown",
   "metadata": {},
   "source": [
    "Задание 3\n",
    "Напишите функцию, которая будет возвращать акроним по переданной в нее строке со словами.\n",
    "Примеры работы программы:\n",
    "some_words = 'Информационные технологии'\n",
    "Результат:  ИТ\n",
    "some_words = 'Near Field Communication'\n",
    "Результат:  NFC"
   ]
  },
  {
   "cell_type": "code",
   "execution_count": null,
   "metadata": {},
   "outputs": [],
   "source": []
  },
  {
   "cell_type": "code",
   "execution_count": null,
   "metadata": {},
   "outputs": [],
   "source": [
    "some_words = 'Информационные технологии'#Первое выражение для проверки\n"
   ]
  },
  {
   "cell_type": "code",
   "execution_count": null,
   "metadata": {},
   "outputs": [],
   "source": [
    "#some_words = 'Near Field Communication'#Второе выражение для проверки\n"
   ]
  },
  {
   "cell_type": "code",
   "execution_count": null,
   "metadata": {},
   "outputs": [],
   "source": [
    "def akronym(words):\n",
    "    pattern = re.sub(r'\\b(\\w)\\w+\\D', r'\\1', some_words)\n",
    "    print(pattern.upper())\n",
    "\n",
    "akronym(some_words)"
   ]
  },
  {
   "cell_type": "code",
   "execution_count": null,
   "metadata": {},
   "outputs": [],
   "source": []
  },
  {
   "cell_type": "markdown",
   "metadata": {},
   "source": [
    "Задание 4\n",
    "Напишите функцию, которая будет принимать на вход список email-адресов и выводить их распределение по доменным зонам.\n",
    "Пример работы программы:\n",
    "emails = ['test@gmail.com', 'xyz@test.in', 'test@ya.ru', 'xyz@mail.ru', 'xyz@ya.ru', 'xyz@gmail.com']\n",
    "Результат:\n",
    "gmail.com: 2\n",
    "test.in: 1\n",
    "ya.ru: 2\n",
    "mail.ru: 1\n"
   ]
  },
  {
   "cell_type": "code",
   "execution_count": null,
   "metadata": {},
   "outputs": [],
   "source": []
  },
  {
   "cell_type": "code",
   "execution_count": null,
   "metadata": {},
   "outputs": [],
   "source": [
    "emails = ['test@gmail.com', 'xyz@test.in', 'test@ya.ru', 'xyz@mail.ru', 'xyz@ya.ru', 'xyz@gmail.com']\n",
    "emails_String = ' '.join(emails) # Перевод списка в строку"
   ]
  },
  {
   "cell_type": "code",
   "execution_count": null,
   "metadata": {},
   "outputs": [],
   "source": [
    "def emails(emails):\n",
    "    \n",
    "    \"\"\"Функция, которая будет принимать на вход список email-адресов и выводить их распределение по доменным зонам. \n",
    "    \"\"\"\n",
    "    \n",
    "    result_pattern = re.findall(r'(?<=@)\\w+.\\w+', emails_String)#Выбор доменов из почтовых адресов\n",
    "    \n",
    "    gmail_counter = 0#Счетчики доменов\n",
    "    test_in_counter = 0\n",
    "    mail_counter = 0\n",
    "    ya_counter = 0\n",
    "\n",
    "    for email in result_pattern:\n",
    "        if email == 'gmail.com':\n",
    "            gmail_counter += 1\n",
    "        elif email == 'test.in':\n",
    "            test_in_counter += 1\n",
    "        elif email == 'mail.ru':\n",
    "            mail_counter += 1\n",
    "        elif email == 'ya.ru':\n",
    "            ya_counter += 1\n",
    "\n",
    "    print(f'Результат: gmail.com: {gmail_counter}')\n",
    "    print(f'test.in: {test_in_counter}')\n",
    "    print(f'mail.ru: {mail_counter}')\n",
    "    print(f'ya.ru: {ya_counter}')\n",
    "    \n",
    "emails(emails_String)"
   ]
  },
  {
   "cell_type": "code",
   "execution_count": null,
   "metadata": {},
   "outputs": [],
   "source": []
  },
  {
   "cell_type": "markdown",
   "metadata": {},
   "source": [
    "Задание 5 (необязательное)\n",
    "Напишите функцию, которая будет подсчитывать сколько слов начинается на гласные, а сколько на согласные буквы в тексте (текст может быть написан как с использованием букв кириллицы, так и латиницы).\n",
    "Пример работы программы:\n",
    "some_text = 'Эталонной реализацией Python является интерпретатор CPython, поддерживающий большинство активно используемых платформ. Он распространяется под свободной лицензией Python Software Foundation License, позволяющей использовать его без ограничений в любых приложениях, включая проприетарные.'\n",
    "Результат:\n",
    "Слов на гласные буквы: 9\n",
    "Слов на согласные буквы: 21"
   ]
  },
  {
   "cell_type": "code",
   "execution_count": null,
   "metadata": {},
   "outputs": [],
   "source": [
    "some_text = 'Эталонной реализацией Python является интерпретатор CPython, поддерживающий большинство активно используемых платформ. Он распространяется под свободной лицензией Python Software Foundation License, позволяющей использовать его без ограничений в любых приложениях, включая проприетарные.'\n"
   ]
  },
  {
   "cell_type": "code",
   "execution_count": null,
   "metadata": {},
   "outputs": [],
   "source": [
    "def count_vowels_consonants(text):\n",
    "    \n",
    "    \"\"\"Функция count_vowels_consonants которая будет подсчитывать сколько слов начинается на гласные, \n",
    "    а сколько на согласные буквы в тексте (текст может быть написан как с использованием букв кириллицы, \n",
    "    так и латиницы).\"\"\"\n",
    "    \n",
    "    regex_pattern = re.findall(r'\\b\\?*[A-Za-zА-Яа-я]', some_text)#Необязательная часть функции, проверка количества всех слов для себя\n",
    "    #print(regex_pattern)\n",
    "    sum_letter = 0\n",
    "    for letter in regex_pattern:\n",
    "        sum_letter += 1\n",
    "    #print(sum_letter)#Проверка вывода всех первых букв слов\n",
    "    \n",
    "    vowels_patern = re.findall(r'\\b\\?*[AEIOUYaeiouyАЕЁИОУЭЮЯаеёиоуыэюя]', some_text)#Гласные буквы\n",
    "    consonants_pattern = re.findall(r'\\b\\?*[BCDFGHJKLMNPQRSTVWXZbcdfghjklmnpqrstvwxzБВГДЖЗКЛМНПРСТФХЦЧШЩбвгджзйклмнпрстфхцчшщ]', some_text)#Согласные буквы\n",
    "    #print(vowels_patern)#Проверка вывода гласных\n",
    "    #print(consonants_pattern)#Проверка вывода согласных\n",
    "\n",
    "    sum_letter_2 = 0#Счетчик гласных\n",
    "    for letter in vowels_patern:\n",
    "        sum_letter_2 += 1\n",
    "    print(f'Слов на гласные буквы: {sum_letter_2}')\n",
    "\n",
    "    sum_letter_3 = 0#Счетчик согласных\n",
    "    for letter in consonants_pattern:\n",
    "        sum_letter_3 += 1\n",
    "    print(f'Слов на согласные буквы: {sum_letter_3}')\n",
    "\n",
    "\n",
    "count_vowels_consonants(some_text)"
   ]
  },
  {
   "cell_type": "code",
   "execution_count": null,
   "metadata": {},
   "outputs": [],
   "source": []
  },
  {
   "cell_type": "markdown",
   "metadata": {},
   "source": [
    "\"\"\"Задание 6 (необязательное)\n",
    "Напишите функцию, которая будет проверять номер сотового телефона на валидность (только для российского формата), если он валиден, то переводить его в формат:\n",
    "+7-xxx-xxx-xx-xx\n",
    "Постарайтесь предусмотреть как можно больше адекватных форматов изначального ввода номера. Примеры работы программы:\n",
    "phone = '+7 955 555-55-55'\n",
    "Результат:  +7-950-555-55-55\n",
    "phone = '8(955)555-55-55'\n",
    "Результат:  +7-950-555-55-55\n",
    "phone = '+7 955 555 55 55'\n",
    "Результат:  +7-950-555-55-55\n",
    "phone = '7(955) 555-55-55'\n",
    "Результат:  +7-950-555-55-55\n",
    "phone = '423-555-55-5555'\n",
    "Результат:  Номер не валиден\n",
    "phone = '123-456-789'\n",
    "Результат:  Номер не валиден\"\"\""
   ]
  },
  {
   "cell_type": "code",
   "execution_count": null,
   "metadata": {},
   "outputs": [],
   "source": []
  },
  {
   "cell_type": "code",
   "execution_count": 14,
   "metadata": {},
   "outputs": [
    {
     "ename": "SyntaxError",
     "evalue": "f-string expression part cannot include a backslash (<ipython-input-14-cfa500c89fff>, line 11)",
     "output_type": "error",
     "traceback": [
      "\u001b[0;36m  File \u001b[0;32m\"<ipython-input-14-cfa500c89fff>\"\u001b[0;36m, line \u001b[0;32m11\u001b[0m\n\u001b[0;31m    print(f\"Результат:, {re.sub(r' ', r'(+7-\\d{3}-\\d{3}-\\d{2}-\\d{2})', phone_number)}\")\u001b[0m\n\u001b[0m          ^\u001b[0m\n\u001b[0;31mSyntaxError\u001b[0m\u001b[0;31m:\u001b[0m f-string expression part cannot include a backslash\n"
     ]
    }
   ],
   "source": [
    "def check_phone_number():\n",
    "    \n",
    "    \"\"\"Функция, которая будет проверять номер сотового телефона на валидность (только для российского формата),\n",
    "    если он валиден, то переводить его в формат: +7-xxx-xxx-xx-xx\"\"\"\n",
    "    \n",
    "    phone_number = input(\"Введите номер: \")\n",
    "    pattern_phone = re.match(r'([+78]{2})\\s\\d{3}\\s\\d{3}-\\d{2}-\\d{2}', phone_number)\n",
    "    if pattern_phone == None:\n",
    "        print(f'Номер не валиден')\n",
    "    else:\n",
    "        print(f\"Результат:, {re.sub(r' ', r'+7-\\d{3}-\\d{3}-\\d{2}-\\d{2}', phone_number)}\")\n",
    "        \n",
    "check_phone_number()"
   ]
  },
  {
   "cell_type": "code",
   "execution_count": null,
   "metadata": {},
   "outputs": [],
   "source": []
  }
 ],
 "metadata": {
  "kernelspec": {
   "display_name": "Python 3",
   "language": "python",
   "name": "python3"
  },
  "language_info": {
   "codemirror_mode": {
    "name": "ipython",
    "version": 3
   },
   "file_extension": ".py",
   "mimetype": "text/x-python",
   "name": "python",
   "nbconvert_exporter": "python",
   "pygments_lexer": "ipython3",
   "version": "3.8.5"
  }
 },
 "nbformat": 4,
 "nbformat_minor": 4
}
