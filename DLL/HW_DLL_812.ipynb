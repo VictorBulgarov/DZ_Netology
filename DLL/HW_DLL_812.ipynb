{
 "cells": [
  {
   "cell_type": "markdown",
   "metadata": {
    "id": "EddoUd0WQAy4"
   },
   "source": [
    "### Домашнее задание 8\n",
    "\n",
    "1.   Возьмите англо-русскую пару фраз\n",
    "2.   Обучите на них seq2seq with attention:\n",
    "\n",
    "● на основе скалярного произведения\n",
    "\n",
    "● на основе MLP\n",
    "\n",
    "3. Оцените качество"
   ]
  },
  {
   "cell_type": "code",
   "execution_count": 1,
   "metadata": {
    "id": "dnr-pq-BP7XN"
   },
   "outputs": [],
   "source": [
    "from IPython.display import clear_output"
   ]
  },
  {
   "cell_type": "code",
   "execution_count": 2,
   "metadata": {
    "id": "FJeWdkoaQZiR"
   },
   "outputs": [],
   "source": [
    "!pip install pycodestyle pycodestyle_magic\n",
    "!pip install flake8\n",
    "clear_output()"
   ]
  },
  {
   "cell_type": "code",
   "execution_count": 3,
   "metadata": {
    "id": "Xm8lltMlQtFr"
   },
   "outputs": [],
   "source": [
    "%load_ext pycodestyle_magic"
   ]
  },
  {
   "cell_type": "code",
   "execution_count": 4,
   "metadata": {
    "id": "LOxdzRtmQwEv"
   },
   "outputs": [],
   "source": [
    "import re\n",
    "import pandas as pd\n",
    "import numpy as np\n",
    "import matplotlib.pyplot as plt\n",
    "import matplotlib.ticker as ticker\n",
    "import torch\n",
    "import torch.nn as nn\n",
    "import torch.nn.functional as F\n",
    "from torch import optim\n",
    "from itertools import chain\n",
    "from tqdm.notebook import tqdm\n",
    "from warnings import filterwarnings\n",
    "from datetime import datetime, timedelta\n",
    "\n",
    "%matplotlib inline"
   ]
  },
  {
   "cell_type": "code",
   "execution_count": 5,
   "metadata": {
    "id": "d4SO1AJhQwjP"
   },
   "outputs": [],
   "source": [
    "filterwarnings('ignore')"
   ]
  },
  {
   "cell_type": "code",
   "execution_count": 6,
   "metadata": {
    "id": "sisRX0uKQ7t4"
   },
   "outputs": [],
   "source": [
    "device = torch.device('cuda' if torch.cuda.is_available() else 'cpu')"
   ]
  },
  {
   "cell_type": "code",
   "execution_count": 10,
   "metadata": {},
   "outputs": [
    {
     "ename": "FileNotFoundError",
     "evalue": "[Errno 2] No such file or directory: 'wget'",
     "output_type": "error",
     "traceback": [
      "\u001b[0;31m---------------------------------------------------------------------------\u001b[0m",
      "\u001b[0;31mFileNotFoundError\u001b[0m                         Traceback (most recent call last)",
      "Cell \u001b[0;32mIn[10], line 8\u001b[0m\n\u001b[1;32m      5\u001b[0m output_path \u001b[38;5;241m=\u001b[39m \u001b[38;5;124m'\u001b[39m\u001b[38;5;124m/Users/wizard/Yandex.Disk.localized/data s/HW/DLL\u001b[39m\u001b[38;5;124m'\u001b[39m\n\u001b[1;32m      7\u001b[0m \u001b[38;5;66;03m# Выполните команду wget с помощью subprocess\u001b[39;00m\n\u001b[0;32m----> 8\u001b[0m \u001b[43msubprocess\u001b[49m\u001b[38;5;241;43m.\u001b[39;49m\u001b[43mcall\u001b[49m\u001b[43m(\u001b[49m\u001b[43m[\u001b[49m\u001b[38;5;124;43m'\u001b[39;49m\u001b[38;5;124;43mwget\u001b[39;49m\u001b[38;5;124;43m'\u001b[39;49m\u001b[43m,\u001b[49m\u001b[43m \u001b[49m\u001b[38;5;124;43m'\u001b[39;49m\u001b[38;5;124;43m-O\u001b[39;49m\u001b[38;5;124;43m'\u001b[39;49m\u001b[43m,\u001b[49m\u001b[43m \u001b[49m\u001b[43moutput_path\u001b[49m\u001b[43m,\u001b[49m\u001b[43m \u001b[49m\u001b[43murl\u001b[49m\u001b[43m]\u001b[49m\u001b[43m)\u001b[49m\n",
      "File \u001b[0;32m~/anaconda3/lib/python3.10/subprocess.py:345\u001b[0m, in \u001b[0;36mcall\u001b[0;34m(timeout, *popenargs, **kwargs)\u001b[0m\n\u001b[1;32m    337\u001b[0m \u001b[38;5;28;01mdef\u001b[39;00m \u001b[38;5;21mcall\u001b[39m(\u001b[38;5;241m*\u001b[39mpopenargs, timeout\u001b[38;5;241m=\u001b[39m\u001b[38;5;28;01mNone\u001b[39;00m, \u001b[38;5;241m*\u001b[39m\u001b[38;5;241m*\u001b[39mkwargs):\n\u001b[1;32m    338\u001b[0m     \u001b[38;5;124;03m\"\"\"Run command with arguments.  Wait for command to complete or\u001b[39;00m\n\u001b[1;32m    339\u001b[0m \u001b[38;5;124;03m    timeout, then return the returncode attribute.\u001b[39;00m\n\u001b[1;32m    340\u001b[0m \n\u001b[0;32m   (...)\u001b[0m\n\u001b[1;32m    343\u001b[0m \u001b[38;5;124;03m    retcode = call([\"ls\", \"-l\"])\u001b[39;00m\n\u001b[1;32m    344\u001b[0m \u001b[38;5;124;03m    \"\"\"\u001b[39;00m\n\u001b[0;32m--> 345\u001b[0m     \u001b[38;5;28;01mwith\u001b[39;00m \u001b[43mPopen\u001b[49m\u001b[43m(\u001b[49m\u001b[38;5;241;43m*\u001b[39;49m\u001b[43mpopenargs\u001b[49m\u001b[43m,\u001b[49m\u001b[43m \u001b[49m\u001b[38;5;241;43m*\u001b[39;49m\u001b[38;5;241;43m*\u001b[39;49m\u001b[43mkwargs\u001b[49m\u001b[43m)\u001b[49m \u001b[38;5;28;01mas\u001b[39;00m p:\n\u001b[1;32m    346\u001b[0m         \u001b[38;5;28;01mtry\u001b[39;00m:\n\u001b[1;32m    347\u001b[0m             \u001b[38;5;28;01mreturn\u001b[39;00m p\u001b[38;5;241m.\u001b[39mwait(timeout\u001b[38;5;241m=\u001b[39mtimeout)\n",
      "File \u001b[0;32m~/anaconda3/lib/python3.10/subprocess.py:971\u001b[0m, in \u001b[0;36mPopen.__init__\u001b[0;34m(self, args, bufsize, executable, stdin, stdout, stderr, preexec_fn, close_fds, shell, cwd, env, universal_newlines, startupinfo, creationflags, restore_signals, start_new_session, pass_fds, user, group, extra_groups, encoding, errors, text, umask, pipesize)\u001b[0m\n\u001b[1;32m    967\u001b[0m         \u001b[38;5;28;01mif\u001b[39;00m \u001b[38;5;28mself\u001b[39m\u001b[38;5;241m.\u001b[39mtext_mode:\n\u001b[1;32m    968\u001b[0m             \u001b[38;5;28mself\u001b[39m\u001b[38;5;241m.\u001b[39mstderr \u001b[38;5;241m=\u001b[39m io\u001b[38;5;241m.\u001b[39mTextIOWrapper(\u001b[38;5;28mself\u001b[39m\u001b[38;5;241m.\u001b[39mstderr,\n\u001b[1;32m    969\u001b[0m                     encoding\u001b[38;5;241m=\u001b[39mencoding, errors\u001b[38;5;241m=\u001b[39merrors)\n\u001b[0;32m--> 971\u001b[0m     \u001b[38;5;28;43mself\u001b[39;49m\u001b[38;5;241;43m.\u001b[39;49m\u001b[43m_execute_child\u001b[49m\u001b[43m(\u001b[49m\u001b[43margs\u001b[49m\u001b[43m,\u001b[49m\u001b[43m \u001b[49m\u001b[43mexecutable\u001b[49m\u001b[43m,\u001b[49m\u001b[43m \u001b[49m\u001b[43mpreexec_fn\u001b[49m\u001b[43m,\u001b[49m\u001b[43m \u001b[49m\u001b[43mclose_fds\u001b[49m\u001b[43m,\u001b[49m\n\u001b[1;32m    972\u001b[0m \u001b[43m                        \u001b[49m\u001b[43mpass_fds\u001b[49m\u001b[43m,\u001b[49m\u001b[43m \u001b[49m\u001b[43mcwd\u001b[49m\u001b[43m,\u001b[49m\u001b[43m \u001b[49m\u001b[43menv\u001b[49m\u001b[43m,\u001b[49m\n\u001b[1;32m    973\u001b[0m \u001b[43m                        \u001b[49m\u001b[43mstartupinfo\u001b[49m\u001b[43m,\u001b[49m\u001b[43m \u001b[49m\u001b[43mcreationflags\u001b[49m\u001b[43m,\u001b[49m\u001b[43m \u001b[49m\u001b[43mshell\u001b[49m\u001b[43m,\u001b[49m\n\u001b[1;32m    974\u001b[0m \u001b[43m                        \u001b[49m\u001b[43mp2cread\u001b[49m\u001b[43m,\u001b[49m\u001b[43m \u001b[49m\u001b[43mp2cwrite\u001b[49m\u001b[43m,\u001b[49m\n\u001b[1;32m    975\u001b[0m \u001b[43m                        \u001b[49m\u001b[43mc2pread\u001b[49m\u001b[43m,\u001b[49m\u001b[43m \u001b[49m\u001b[43mc2pwrite\u001b[49m\u001b[43m,\u001b[49m\n\u001b[1;32m    976\u001b[0m \u001b[43m                        \u001b[49m\u001b[43merrread\u001b[49m\u001b[43m,\u001b[49m\u001b[43m \u001b[49m\u001b[43merrwrite\u001b[49m\u001b[43m,\u001b[49m\n\u001b[1;32m    977\u001b[0m \u001b[43m                        \u001b[49m\u001b[43mrestore_signals\u001b[49m\u001b[43m,\u001b[49m\n\u001b[1;32m    978\u001b[0m \u001b[43m                        \u001b[49m\u001b[43mgid\u001b[49m\u001b[43m,\u001b[49m\u001b[43m \u001b[49m\u001b[43mgids\u001b[49m\u001b[43m,\u001b[49m\u001b[43m \u001b[49m\u001b[43muid\u001b[49m\u001b[43m,\u001b[49m\u001b[43m \u001b[49m\u001b[43mumask\u001b[49m\u001b[43m,\u001b[49m\n\u001b[1;32m    979\u001b[0m \u001b[43m                        \u001b[49m\u001b[43mstart_new_session\u001b[49m\u001b[43m)\u001b[49m\n\u001b[1;32m    980\u001b[0m \u001b[38;5;28;01mexcept\u001b[39;00m:\n\u001b[1;32m    981\u001b[0m     \u001b[38;5;66;03m# Cleanup if the child failed starting.\u001b[39;00m\n\u001b[1;32m    982\u001b[0m     \u001b[38;5;28;01mfor\u001b[39;00m f \u001b[38;5;129;01min\u001b[39;00m \u001b[38;5;28mfilter\u001b[39m(\u001b[38;5;28;01mNone\u001b[39;00m, (\u001b[38;5;28mself\u001b[39m\u001b[38;5;241m.\u001b[39mstdin, \u001b[38;5;28mself\u001b[39m\u001b[38;5;241m.\u001b[39mstdout, \u001b[38;5;28mself\u001b[39m\u001b[38;5;241m.\u001b[39mstderr)):\n",
      "File \u001b[0;32m~/anaconda3/lib/python3.10/subprocess.py:1847\u001b[0m, in \u001b[0;36mPopen._execute_child\u001b[0;34m(self, args, executable, preexec_fn, close_fds, pass_fds, cwd, env, startupinfo, creationflags, shell, p2cread, p2cwrite, c2pread, c2pwrite, errread, errwrite, restore_signals, gid, gids, uid, umask, start_new_session)\u001b[0m\n\u001b[1;32m   1845\u001b[0m     \u001b[38;5;28;01mif\u001b[39;00m errno_num \u001b[38;5;241m!=\u001b[39m \u001b[38;5;241m0\u001b[39m:\n\u001b[1;32m   1846\u001b[0m         err_msg \u001b[38;5;241m=\u001b[39m os\u001b[38;5;241m.\u001b[39mstrerror(errno_num)\n\u001b[0;32m-> 1847\u001b[0m     \u001b[38;5;28;01mraise\u001b[39;00m child_exception_type(errno_num, err_msg, err_filename)\n\u001b[1;32m   1848\u001b[0m \u001b[38;5;28;01mraise\u001b[39;00m child_exception_type(err_msg)\n",
      "\u001b[0;31mFileNotFoundError\u001b[0m: [Errno 2] No such file or directory: 'wget'"
     ]
    }
   ],
   "source": [
    "import subprocess\n",
    "\n",
    "# Замените URL на тот, который вы хотите загрузить\n",
    "url = 'https://www.manythings.org/anki/rus-eng.zip'\n",
    "output_path = '/Users/wizard/Yandex.Disk.localized/data s/HW/DLL'\n",
    "\n",
    "# Выполните команду wget с помощью subprocess\n",
    "subprocess.call(['wget', '-O', output_path, url])\n"
   ]
  },
  {
   "cell_type": "code",
   "execution_count": 9,
   "metadata": {
    "colab": {
     "base_uri": "https://localhost:8080/"
    },
    "id": "B6J586CIQ9Q7",
    "outputId": "cbc2f2e3-7db9-4c6b-e586-56cda521918f"
   },
   "outputs": [
    {
     "name": "stdout",
     "output_type": "stream",
     "text": [
      "zsh:1: command not found: wget\r\n"
     ]
    }
   ],
   "source": [
    "!wget https://www.manythings.org/anki/rus-eng.zip"
   ]
  },
  {
   "cell_type": "code",
   "execution_count": 8,
   "metadata": {
    "colab": {
     "base_uri": "https://localhost:8080/"
    },
    "id": "LAiyx3qbQ_PU",
    "outputId": "a00f8ef7-5c45-4639-b785-070a9e095fcc"
   },
   "outputs": [
    {
     "name": "stdout",
     "output_type": "stream",
     "text": [
      "Archive:  rus-eng.zip\n",
      "  inflating: rus.txt                 \n",
      "  inflating: _about.txt              \n"
     ]
    }
   ],
   "source": [
    "!unzip rus-eng.zip"
   ]
  },
  {
   "cell_type": "code",
   "execution_count": 9,
   "metadata": {
    "id": "QjN3s6DvRCWa"
   },
   "outputs": [],
   "source": [
    "!rm rus-eng.zip _about.txt"
   ]
  },
  {
   "cell_type": "code",
   "execution_count": 14,
   "metadata": {
    "id": "apdoJ03bRENN"
   },
   "outputs": [],
   "source": [
    "df = pd.read_csv('eng-rus.txt', sep='\\t', header=None).drop(2, axis=1)"
   ]
  },
  {
   "cell_type": "code",
   "execution_count": 11,
   "metadata": {
    "colab": {
     "base_uri": "https://localhost:8080/",
     "height": 363
    },
    "id": "12E1grFXRFqS",
    "outputId": "83172efe-a2b7-4a55-f805-9fc3b64811a5"
   },
   "outputs": [
    {
     "data": {
      "text/html": [
       "\n",
       "  <div id=\"df-b102c6b6-f452-4374-849b-3fd95d6b80a7\">\n",
       "    <div class=\"colab-df-container\">\n",
       "      <div>\n",
       "<style scoped>\n",
       "    .dataframe tbody tr th:only-of-type {\n",
       "        vertical-align: middle;\n",
       "    }\n",
       "\n",
       "    .dataframe tbody tr th {\n",
       "        vertical-align: top;\n",
       "    }\n",
       "\n",
       "    .dataframe thead th {\n",
       "        text-align: right;\n",
       "    }\n",
       "</style>\n",
       "<table border=\"1\" class=\"dataframe\">\n",
       "  <thead>\n",
       "    <tr style=\"text-align: right;\">\n",
       "      <th></th>\n",
       "      <th>0</th>\n",
       "      <th>1</th>\n",
       "    </tr>\n",
       "  </thead>\n",
       "  <tbody>\n",
       "    <tr>\n",
       "      <th>0</th>\n",
       "      <td>Go.</td>\n",
       "      <td>Марш!</td>\n",
       "    </tr>\n",
       "    <tr>\n",
       "      <th>1</th>\n",
       "      <td>Go.</td>\n",
       "      <td>Иди.</td>\n",
       "    </tr>\n",
       "    <tr>\n",
       "      <th>2</th>\n",
       "      <td>Go.</td>\n",
       "      <td>Идите.</td>\n",
       "    </tr>\n",
       "    <tr>\n",
       "      <th>3</th>\n",
       "      <td>Hi.</td>\n",
       "      <td>Здравствуйте.</td>\n",
       "    </tr>\n",
       "    <tr>\n",
       "      <th>4</th>\n",
       "      <td>Hi.</td>\n",
       "      <td>Привет!</td>\n",
       "    </tr>\n",
       "    <tr>\n",
       "      <th>5</th>\n",
       "      <td>Hi.</td>\n",
       "      <td>Хай.</td>\n",
       "    </tr>\n",
       "    <tr>\n",
       "      <th>6</th>\n",
       "      <td>Hi.</td>\n",
       "      <td>Здрасте.</td>\n",
       "    </tr>\n",
       "    <tr>\n",
       "      <th>7</th>\n",
       "      <td>Hi.</td>\n",
       "      <td>Здоро́во!</td>\n",
       "    </tr>\n",
       "    <tr>\n",
       "      <th>8</th>\n",
       "      <td>Hi.</td>\n",
       "      <td>Приветик!</td>\n",
       "    </tr>\n",
       "    <tr>\n",
       "      <th>9</th>\n",
       "      <td>Run!</td>\n",
       "      <td>Беги!</td>\n",
       "    </tr>\n",
       "  </tbody>\n",
       "</table>\n",
       "</div>\n",
       "      <button class=\"colab-df-convert\" onclick=\"convertToInteractive('df-b102c6b6-f452-4374-849b-3fd95d6b80a7')\"\n",
       "              title=\"Convert this dataframe to an interactive table.\"\n",
       "              style=\"display:none;\">\n",
       "        \n",
       "  <svg xmlns=\"http://www.w3.org/2000/svg\" height=\"24px\"viewBox=\"0 0 24 24\"\n",
       "       width=\"24px\">\n",
       "    <path d=\"M0 0h24v24H0V0z\" fill=\"none\"/>\n",
       "    <path d=\"M18.56 5.44l.94 2.06.94-2.06 2.06-.94-2.06-.94-.94-2.06-.94 2.06-2.06.94zm-11 1L8.5 8.5l.94-2.06 2.06-.94-2.06-.94L8.5 2.5l-.94 2.06-2.06.94zm10 10l.94 2.06.94-2.06 2.06-.94-2.06-.94-.94-2.06-.94 2.06-2.06.94z\"/><path d=\"M17.41 7.96l-1.37-1.37c-.4-.4-.92-.59-1.43-.59-.52 0-1.04.2-1.43.59L10.3 9.45l-7.72 7.72c-.78.78-.78 2.05 0 2.83L4 21.41c.39.39.9.59 1.41.59.51 0 1.02-.2 1.41-.59l7.78-7.78 2.81-2.81c.8-.78.8-2.07 0-2.86zM5.41 20L4 18.59l7.72-7.72 1.47 1.35L5.41 20z\"/>\n",
       "  </svg>\n",
       "      </button>\n",
       "      \n",
       "  <style>\n",
       "    .colab-df-container {\n",
       "      display:flex;\n",
       "      flex-wrap:wrap;\n",
       "      gap: 12px;\n",
       "    }\n",
       "\n",
       "    .colab-df-convert {\n",
       "      background-color: #E8F0FE;\n",
       "      border: none;\n",
       "      border-radius: 50%;\n",
       "      cursor: pointer;\n",
       "      display: none;\n",
       "      fill: #1967D2;\n",
       "      height: 32px;\n",
       "      padding: 0 0 0 0;\n",
       "      width: 32px;\n",
       "    }\n",
       "\n",
       "    .colab-df-convert:hover {\n",
       "      background-color: #E2EBFA;\n",
       "      box-shadow: 0px 1px 2px rgba(60, 64, 67, 0.3), 0px 1px 3px 1px rgba(60, 64, 67, 0.15);\n",
       "      fill: #174EA6;\n",
       "    }\n",
       "\n",
       "    [theme=dark] .colab-df-convert {\n",
       "      background-color: #3B4455;\n",
       "      fill: #D2E3FC;\n",
       "    }\n",
       "\n",
       "    [theme=dark] .colab-df-convert:hover {\n",
       "      background-color: #434B5C;\n",
       "      box-shadow: 0px 1px 3px 1px rgba(0, 0, 0, 0.15);\n",
       "      filter: drop-shadow(0px 1px 2px rgba(0, 0, 0, 0.3));\n",
       "      fill: #FFFFFF;\n",
       "    }\n",
       "  </style>\n",
       "\n",
       "      <script>\n",
       "        const buttonEl =\n",
       "          document.querySelector('#df-b102c6b6-f452-4374-849b-3fd95d6b80a7 button.colab-df-convert');\n",
       "        buttonEl.style.display =\n",
       "          google.colab.kernel.accessAllowed ? 'block' : 'none';\n",
       "\n",
       "        async function convertToInteractive(key) {\n",
       "          const element = document.querySelector('#df-b102c6b6-f452-4374-849b-3fd95d6b80a7');\n",
       "          const dataTable =\n",
       "            await google.colab.kernel.invokeFunction('convertToInteractive',\n",
       "                                                     [key], {});\n",
       "          if (!dataTable) return;\n",
       "\n",
       "          const docLinkHtml = 'Like what you see? Visit the ' +\n",
       "            '<a target=\"_blank\" href=https://colab.research.google.com/notebooks/data_table.ipynb>data table notebook</a>'\n",
       "            + ' to learn more about interactive tables.';\n",
       "          element.innerHTML = '';\n",
       "          dataTable['output_type'] = 'display_data';\n",
       "          await google.colab.output.renderOutput(dataTable, element);\n",
       "          const docLink = document.createElement('div');\n",
       "          docLink.innerHTML = docLinkHtml;\n",
       "          element.appendChild(docLink);\n",
       "        }\n",
       "      </script>\n",
       "    </div>\n",
       "  </div>\n",
       "  "
      ],
      "text/plain": [
       "      0              1\n",
       "0   Go.          Марш!\n",
       "1   Go.           Иди.\n",
       "2   Go.         Идите.\n",
       "3   Hi.  Здравствуйте.\n",
       "4   Hi.        Привет!\n",
       "5   Hi.           Хай.\n",
       "6   Hi.       Здрасте.\n",
       "7   Hi.      Здоро́во!\n",
       "8   Hi.      Приветик!\n",
       "9  Run!          Беги!"
      ]
     },
     "execution_count": 11,
     "metadata": {},
     "output_type": "execute_result"
    }
   ],
   "source": [
    "df.head(10)"
   ]
  },
  {
   "cell_type": "code",
   "execution_count": 15,
   "metadata": {
    "colab": {
     "base_uri": "https://localhost:8080/"
    },
    "id": "ksVFPu4NRIrc",
    "outputId": "cb546d45-48a7-447b-c2e5-2fcf3b06606d"
   },
   "outputs": [
    {
     "name": "stdout",
     "output_type": "stream",
     "text": [
      "<class 'pandas.core.frame.DataFrame'>\n",
      "RangeIndex: 464010 entries, 0 to 464009\n",
      "Data columns (total 2 columns):\n",
      " #   Column  Non-Null Count   Dtype \n",
      "---  ------  --------------   ----- \n",
      " 0   0       464010 non-null  object\n",
      " 1   1       464010 non-null  object\n",
      "dtypes: object(2)\n",
      "memory usage: 7.1+ MB\n"
     ]
    }
   ],
   "source": [
    "df.info()"
   ]
  },
  {
   "cell_type": "code",
   "execution_count": 16,
   "metadata": {
    "id": "b26l7zXqRKU5"
   },
   "outputs": [],
   "source": [
    "df[0] = df[0].apply(lambda x: re.sub(r'[^a-zа-яё \\']+', '', x.lower()))\n",
    "df[1] = df[1].apply(lambda x: re.sub(r'[^a-zа-яё \\']+', '', x.lower()))\n",
    "df[0] = df[0].apply(lambda x: re.sub(r'\\s\\s+|\\'', ' ', x))\n",
    "df[1] = df[1].apply(lambda x: re.sub(r'\\s\\s+|\\'', ' ', x))"
   ]
  },
  {
   "cell_type": "code",
   "execution_count": 17,
   "metadata": {
    "colab": {
     "base_uri": "https://localhost:8080/",
     "height": 363
    },
    "id": "iMgykEQqRNeI",
    "outputId": "3cb4d23f-100d-4a09-ea11-2001eea47614"
   },
   "outputs": [
    {
     "data": {
      "text/html": [
       "<div>\n",
       "<style scoped>\n",
       "    .dataframe tbody tr th:only-of-type {\n",
       "        vertical-align: middle;\n",
       "    }\n",
       "\n",
       "    .dataframe tbody tr th {\n",
       "        vertical-align: top;\n",
       "    }\n",
       "\n",
       "    .dataframe thead th {\n",
       "        text-align: right;\n",
       "    }\n",
       "</style>\n",
       "<table border=\"1\" class=\"dataframe\">\n",
       "  <thead>\n",
       "    <tr style=\"text-align: right;\">\n",
       "      <th></th>\n",
       "      <th>0</th>\n",
       "      <th>1</th>\n",
       "    </tr>\n",
       "  </thead>\n",
       "  <tbody>\n",
       "    <tr>\n",
       "      <th>78509</th>\n",
       "      <td>tom can t leave now</td>\n",
       "      <td>тому нельзя сейчас уходить</td>\n",
       "    </tr>\n",
       "    <tr>\n",
       "      <th>314290</th>\n",
       "      <td>tom didn t ask for my permission</td>\n",
       "      <td>том не спрашивал моего разрешения</td>\n",
       "    </tr>\n",
       "    <tr>\n",
       "      <th>147412</th>\n",
       "      <td>tom and mary are dating</td>\n",
       "      <td>том и мэри встречаются</td>\n",
       "    </tr>\n",
       "    <tr>\n",
       "      <th>448177</th>\n",
       "      <td>tom and mary got married when they were both t...</td>\n",
       "      <td>том и мария поженились когда им обоим было по ...</td>\n",
       "    </tr>\n",
       "    <tr>\n",
       "      <th>334411</th>\n",
       "      <td>doing that will be a piece of cake</td>\n",
       "      <td>сделать это будет проще простого</td>\n",
       "    </tr>\n",
       "    <tr>\n",
       "      <th>278294</th>\n",
       "      <td>please help me clean the house</td>\n",
       "      <td>помоги мне убрать дом пожалуйста</td>\n",
       "    </tr>\n",
       "    <tr>\n",
       "      <th>12860</th>\n",
       "      <td>she hated him</td>\n",
       "      <td>она его ненавидела</td>\n",
       "    </tr>\n",
       "    <tr>\n",
       "      <th>159536</th>\n",
       "      <td>i know you re kidding me</td>\n",
       "      <td>я знаю что вы меня разыгрываете</td>\n",
       "    </tr>\n",
       "    <tr>\n",
       "      <th>101534</th>\n",
       "      <td>can you wait a minute</td>\n",
       "      <td>можете подождать минутку</td>\n",
       "    </tr>\n",
       "    <tr>\n",
       "      <th>422339</th>\n",
       "      <td>tom will probably want to stay until monday</td>\n",
       "      <td>том возможно захочет остаться до понедельника</td>\n",
       "    </tr>\n",
       "  </tbody>\n",
       "</table>\n",
       "</div>"
      ],
      "text/plain": [
       "                                                        0  \\\n",
       "78509                                 tom can t leave now   \n",
       "314290                   tom didn t ask for my permission   \n",
       "147412                            tom and mary are dating   \n",
       "448177  tom and mary got married when they were both t...   \n",
       "334411                 doing that will be a piece of cake   \n",
       "278294                     please help me clean the house   \n",
       "12860                                       she hated him   \n",
       "159536                           i know you re kidding me   \n",
       "101534                              can you wait a minute   \n",
       "422339        tom will probably want to stay until monday   \n",
       "\n",
       "                                                        1  \n",
       "78509                          тому нельзя сейчас уходить  \n",
       "314290                  том не спрашивал моего разрешения  \n",
       "147412                             том и мэри встречаются  \n",
       "448177  том и мария поженились когда им обоим было по ...  \n",
       "334411                   сделать это будет проще простого  \n",
       "278294                   помоги мне убрать дом пожалуйста  \n",
       "12860                                  она его ненавидела  \n",
       "159536                    я знаю что вы меня разыгрываете  \n",
       "101534                           можете подождать минутку  \n",
       "422339      том возможно захочет остаться до понедельника  "
      ]
     },
     "execution_count": 17,
     "metadata": {},
     "output_type": "execute_result"
    }
   ],
   "source": [
    "df.sample(n=10)"
   ]
  },
  {
   "cell_type": "code",
   "execution_count": 18,
   "metadata": {
    "id": "g8Yb7Nq_RRU9"
   },
   "outputs": [],
   "source": [
    "MAX_LENGTH = 10\n",
    "\n",
    "eng_prefixes = (\n",
    "    \"i am \", \"i m \",\n",
    "    \"he is\", \"he s \",\n",
    "    \"she is\", \"she s\",\n",
    "    \"you are\", \"you re \",\n",
    "    \"we are\", \"we re \",\n",
    "    \"they are\", \"they re \"\n",
    ")\n",
    "\n",
    "\n",
    "def filterPair(p):\n",
    "    return len(p[0].split(' ')) < MAX_LENGTH and \\\n",
    "        len(p[1].split(' ')) < MAX_LENGTH and \\\n",
    "        p[0].startswith(eng_prefixes)\n",
    "\n",
    "\n",
    "def filterPairs(pairs):\n",
    "    return [pair for pair in pairs if filterPair(pair)]"
   ]
  },
  {
   "cell_type": "code",
   "execution_count": 19,
   "metadata": {
    "id": "4LFE8tIKRT5R"
   },
   "outputs": [],
   "source": [
    "pairs = list(zip(df[0].tolist(), df[1].tolist()))"
   ]
  },
  {
   "cell_type": "code",
   "execution_count": 20,
   "metadata": {
    "id": "OYjjA-6qRWOb"
   },
   "outputs": [],
   "source": [
    "del df"
   ]
  },
  {
   "cell_type": "code",
   "execution_count": 21,
   "metadata": {
    "id": "Y-xMKWx9RaoE"
   },
   "outputs": [],
   "source": [
    "pairs = filterPairs(pairs)"
   ]
  },
  {
   "cell_type": "code",
   "execution_count": 22,
   "metadata": {
    "colab": {
     "base_uri": "https://localhost:8080/"
    },
    "id": "y8cRZfQVRb8Y",
    "outputId": "605a73ef-0297-47d7-e959-b61a7dde15e1"
   },
   "outputs": [
    {
     "data": {
      "text/plain": [
       "29332"
      ]
     },
     "execution_count": 22,
     "metadata": {},
     "output_type": "execute_result"
    }
   ],
   "source": [
    "len(pairs)"
   ]
  },
  {
   "cell_type": "code",
   "execution_count": 23,
   "metadata": {
    "id": "-_3guoE7RdSE"
   },
   "outputs": [],
   "source": [
    "eng_dict = ['SOS', 'EOS'] + sorted(\n",
    "    list(set(chain.from_iterable([pair[0].split() for pair in pairs])))\n",
    "    )"
   ]
  },
  {
   "cell_type": "code",
   "execution_count": 24,
   "metadata": {
    "colab": {
     "base_uri": "https://localhost:8080/"
    },
    "id": "AS-A3yvQRiDw",
    "outputId": "6c07aaa8-f2c8-47c1-a6ff-edb07619fc59"
   },
   "outputs": [
    {
     "data": {
      "text/plain": [
       "4445"
      ]
     },
     "execution_count": 24,
     "metadata": {},
     "output_type": "execute_result"
    }
   ],
   "source": [
    "len(eng_dict)"
   ]
  },
  {
   "cell_type": "code",
   "execution_count": 25,
   "metadata": {
    "colab": {
     "base_uri": "https://localhost:8080/"
    },
    "id": "FGFR0lNyRicl",
    "outputId": "0c04c364-eb00-409a-efc1-7dde214e19a9"
   },
   "outputs": [
    {
     "data": {
      "text/plain": [
       "['SOS',\n",
       " 'EOS',\n",
       " 'a',\n",
       " 'abandon',\n",
       " 'ability',\n",
       " 'able',\n",
       " 'aboard',\n",
       " 'about',\n",
       " 'above',\n",
       " 'abroad']"
      ]
     },
     "execution_count": 25,
     "metadata": {},
     "output_type": "execute_result"
    }
   ],
   "source": [
    "eng_dict[:10]"
   ]
  },
  {
   "cell_type": "code",
   "execution_count": 26,
   "metadata": {
    "id": "rAMadBH2RkSJ"
   },
   "outputs": [],
   "source": [
    "rus_dict = ['SOS', 'EOS'] + sorted(\n",
    "    list(set(chain.from_iterable([pair[1].split() for pair in pairs])))\n",
    "    )"
   ]
  },
  {
   "cell_type": "code",
   "execution_count": 27,
   "metadata": {
    "colab": {
     "base_uri": "https://localhost:8080/"
    },
    "id": "WpYHcl07Rm1e",
    "outputId": "7260517e-9882-4446-eabd-2405637339a2"
   },
   "outputs": [
    {
     "data": {
      "text/plain": [
       "10704"
      ]
     },
     "execution_count": 27,
     "metadata": {},
     "output_type": "execute_result"
    }
   ],
   "source": [
    "len(rus_dict)"
   ]
  },
  {
   "cell_type": "code",
   "execution_count": 28,
   "metadata": {
    "colab": {
     "base_uri": "https://localhost:8080/"
    },
    "id": "50Zt0aMdRoMr",
    "outputId": "723eaca9-4642-461f-bc76-660ef7220a25"
   },
   "outputs": [
    {
     "data": {
      "text/plain": [
       "['SOS',\n",
       " 'EOS',\n",
       " 'android',\n",
       " 'linux',\n",
       " 'windows',\n",
       " 'а',\n",
       " 'абсолютно',\n",
       " 'абсолютной',\n",
       " 'авантюрен',\n",
       " 'авантюризма']"
      ]
     },
     "execution_count": 28,
     "metadata": {},
     "output_type": "execute_result"
    }
   ],
   "source": [
    "rus_dict[:10]"
   ]
  },
  {
   "cell_type": "code",
   "execution_count": 29,
   "metadata": {
    "id": "eUmrBL-HRpiA"
   },
   "outputs": [],
   "source": [
    "eng_to_idx = {elem: i for i, elem in enumerate(eng_dict)}\n",
    "rus_to_idx = {elem: i for i, elem in enumerate(rus_dict)}"
   ]
  },
  {
   "cell_type": "code",
   "execution_count": 30,
   "metadata": {
    "id": "F-O4G_YQRrqx"
   },
   "outputs": [],
   "source": [
    "def tensors_from_pair(pair):\n",
    "    eng_idx = [0] + [eng_to_idx[word] for word in pair[0].split()]\n",
    "    eng_idx += [1] * (MAX_LENGTH + 1 - len(pair[0].split()))\n",
    "    rus_idx = [0] + [rus_to_idx[word] for word in pair[1].split()]\n",
    "    rus_idx += [1] * (MAX_LENGTH + 1 - len(pair[1].split()))\n",
    "    eng_tensor = torch.tensor(eng_idx, dtype=torch.long,\n",
    "                              device=device).view(-1, 1)\n",
    "    rus_tensor = torch.tensor(rus_idx, dtype=torch.long,\n",
    "                              device=device).view(-1, 1)\n",
    "    return (eng_tensor, rus_tensor)"
   ]
  },
  {
   "cell_type": "code",
   "execution_count": 31,
   "metadata": {
    "colab": {
     "base_uri": "https://localhost:8080/"
    },
    "id": "NCeJqL2HRuFi",
    "outputId": "1bc5bad3-d1de-413a-cc50-fac7ce3ebfc8"
   },
   "outputs": [
    {
     "name": "stdout",
     "output_type": "stream",
     "text": [
      "('i m sorry i hurt tom', 'мне жаль что я причинил тому боль')\n",
      "(tensor([[   0],\n",
      "        [1934],\n",
      "        [2332],\n",
      "        [3606],\n",
      "        [1934],\n",
      "        [1925],\n",
      "        [4010],\n",
      "        [   1],\n",
      "        [   1],\n",
      "        [   1],\n",
      "        [   1],\n",
      "        [   1]]), tensor([[    0],\n",
      "        [ 4106],\n",
      "        [ 2220],\n",
      "        [10430],\n",
      "        [10658],\n",
      "        [ 7257],\n",
      "        [ 9446],\n",
      "        [  509],\n",
      "        [    1],\n",
      "        [    1],\n",
      "        [    1],\n",
      "        [    1]]))\n"
     ]
    }
   ],
   "source": [
    "pair = pairs[np.random.randint(27003)]\n",
    "print(pair)\n",
    "print(tensors_from_pair(pair))"
   ]
  },
  {
   "cell_type": "markdown",
   "metadata": {
    "id": "SirLgPwrRz5U"
   },
   "source": [
    "##### Encoder"
   ]
  },
  {
   "cell_type": "code",
   "execution_count": 32,
   "metadata": {
    "id": "xRC9FffRRvmL"
   },
   "outputs": [],
   "source": [
    "class EncoderRNN(nn.Module):\n",
    "    def __init__(self, input_size, hidden_size):\n",
    "        super(EncoderRNN, self).__init__()\n",
    "        self.hidden_size = hidden_size\n",
    "\n",
    "        self.embedding = nn.Embedding(input_size, hidden_size)\n",
    "        self.gru = nn.GRU(hidden_size, hidden_size)\n",
    "\n",
    "    def forward(self, input, hidden):\n",
    "        output = self.embedding(input).view(1, 1, -1)\n",
    "        output, hidden = self.gru(output, hidden)\n",
    "        return output, hidden\n",
    "\n",
    "    def initHidden(self):\n",
    "        return torch.zeros(1, 1, self.hidden_size, device=device)"
   ]
  },
  {
   "cell_type": "markdown",
   "metadata": {
    "id": "C3tZ2dtUR78i"
   },
   "source": [
    "##### Attention Decoder (на скалярном произведении)"
   ]
  },
  {
   "cell_type": "code",
   "execution_count": 33,
   "metadata": {
    "id": "JmV5kDUdR9UA"
   },
   "outputs": [],
   "source": [
    "class AttnDecoderRNN(nn.Module):\n",
    "    def __init__(self, hidden_size, output_size, dropout_p=0.1,\n",
    "                 max_length=MAX_LENGTH):\n",
    "        super(AttnDecoderRNN, self).__init__()\n",
    "        self.hidden_size = hidden_size\n",
    "        self.output_size = output_size\n",
    "        self.dropout_p = dropout_p\n",
    "        self.max_length = max_length + 2\n",
    "\n",
    "        self.embedding = nn.Embedding(self.output_size, self.hidden_size)\n",
    "        self.dropout = nn.Dropout(self.dropout_p)\n",
    "        self.attn_combine = nn.Linear(self.hidden_size * 2, self.hidden_size)\n",
    "        self.gru = nn.GRU(self.hidden_size, self.hidden_size)\n",
    "        self.out = nn.Linear(self.hidden_size, self.output_size)\n",
    "\n",
    "    def forward(self, input, hidden, encoder_outputs):\n",
    "        embedded = self.embedding(input).view(1, 1, -1)\n",
    "        embedded = self.dropout(embedded)\n",
    "\n",
    "        weights = []\n",
    "        for i in range(len(encoder_outputs)):\n",
    "            weights.append(\n",
    "                torch.div(torch.matmul(hidden[0][0], encoder_outputs[i]),\n",
    "                          torch.sqrt(\n",
    "                              torch.tensor(self.max_length, dtype=torch.float,\n",
    "                                           device=device))\n",
    "                          )\n",
    "                )\n",
    "        attn_weights = F.softmax(torch.tensor(weights, device=device))\n",
    "\n",
    "        attn_applied = torch.bmm(attn_weights.unsqueeze(0).unsqueeze(0),\n",
    "                                 encoder_outputs.view(1, -1, self.hidden_size)\n",
    "                                 )\n",
    "\n",
    "        output = torch.cat((attn_applied[0], embedded[0]), 1)\n",
    "        output = self.attn_combine(output).unsqueeze(0)\n",
    "\n",
    "        output = F.relu(output)\n",
    "        output, hidden = self.gru(output, hidden)\n",
    "\n",
    "        output = F.log_softmax(self.out(output[0]), dim=1)\n",
    "        return output, hidden, attn_weights\n",
    "\n",
    "    def initHidden(self):\n",
    "        return torch.zeros(1, 1, self.hidden_size, device=device)"
   ]
  },
  {
   "cell_type": "markdown",
   "metadata": {
    "id": "_ihALOy3SGGP"
   },
   "source": [
    "##### Функции для обучения и оценки качества"
   ]
  },
  {
   "cell_type": "code",
   "execution_count": 34,
   "metadata": {
    "id": "QU87tOrSSHmp"
   },
   "outputs": [],
   "source": [
    "teacher_forcing_ratio = 0.5"
   ]
  },
  {
   "cell_type": "code",
   "execution_count": 35,
   "metadata": {
    "id": "FlnrijshSKKa"
   },
   "outputs": [],
   "source": [
    "def train(input_tensor, target_tensor, encoder, decoder,\n",
    "          encoder_optimizer, decoder_optimizer, criterion, max_len=MAX_LENGTH):\n",
    "    encoder_hidden = encoder.initHidden()\n",
    "\n",
    "    encoder_optimizer.zero_grad()\n",
    "    decoder_optimizer.zero_grad()\n",
    "\n",
    "    encoder_outputs = torch.zeros(max_len + 2, encoder.hidden_size,\n",
    "                                  device=device)\n",
    "    loss = 0\n",
    "\n",
    "    for i in range(input_tensor.size(0)):\n",
    "        encoder_output, encoder_hidden = encoder(input_tensor[i],\n",
    "                                                 encoder_hidden)\n",
    "        encoder_outputs[i] = encoder_output[0, 0]\n",
    "\n",
    "    decoder_input = torch.tensor([[0]], device=device)\n",
    "    decoder_hidden = encoder_hidden\n",
    "\n",
    "    if np.random.random() < teacher_forcing_ratio:\n",
    "        use_teacher_forcing = True\n",
    "    else:\n",
    "        use_teacher_forcing = False\n",
    "\n",
    "    for i in range(target_tensor.size(0)):\n",
    "        decoder_output, decoder_hidden, decoder_attention = decoder(\n",
    "            decoder_input, decoder_hidden, encoder_outputs\n",
    "            )\n",
    "        loss += criterion(decoder_output, target_tensor[i])\n",
    "        if use_teacher_forcing:\n",
    "            # teacher forcing: feed the target as the next input\n",
    "            decoder_input = target_tensor[i]\n",
    "        else:\n",
    "            # use its own predictions as the next input\n",
    "            topv, topi = decoder_output.topk(1)\n",
    "            decoder_input = topi.squeeze().detach()\n",
    "            if decoder_input.item() == 1:\n",
    "                break\n",
    "\n",
    "    loss.backward()\n",
    "\n",
    "    encoder_optimizer.step()\n",
    "    decoder_optimizer.step()\n",
    "\n",
    "    return loss.item() / target_tensor.size(0)"
   ]
  },
  {
   "cell_type": "code",
   "execution_count": 36,
   "metadata": {
    "id": "cQM0Du0WSMmH"
   },
   "outputs": [],
   "source": [
    "def train_epochs(encoder, decoder, n_epochs=75000, learning_rate=0.01):\n",
    "    start = datetime.now()\n",
    "    plot_losses = []\n",
    "    print_loss = 0 # reset every 5000 epochs\n",
    "    plot_loss = 0 # reset every 100 epochs\n",
    "    encoder_optimizer = optim.SGD(encoder.parameters(), lr=learning_rate)\n",
    "    decoder_optimizer = optim.SGD(decoder.parameters(), lr=learning_rate)\n",
    "    training_pairs = [tensors_from_pair(pairs[np.random.randint(27003)])\n",
    "                      for epoch in range(n_epochs)]\n",
    "    criterion = nn.NLLLoss()\n",
    "\n",
    "    for epoch in tqdm(range(n_epochs)):\n",
    "        training_pair = training_pairs[epoch]\n",
    "        input_tensor = training_pair[0]\n",
    "        target_tensor = training_pair[1]\n",
    "\n",
    "        loss = train(input_tensor, target_tensor, encoder, decoder,\n",
    "                     encoder_optimizer, decoder_optimizer, criterion)\n",
    "        print_loss += loss\n",
    "        plot_loss += loss\n",
    "\n",
    "        if (epoch + 1) % 5000 == 0:\n",
    "            print_loss /= 5000\n",
    "            delta = datetime.now() - start\n",
    "            stats = f'''\n",
    "            Epoch {epoch + 1} ({(epoch + 1) * 100 / n_epochs:.1f}%)\n",
    "            Time: {delta.seconds // 60}m {delta.seconds % 60}s\n",
    "            Loss: {print_loss:.4f}\n",
    "            '''\n",
    "            print(stats)\n",
    "            print_loss = 0\n",
    "\n",
    "        if (epoch + 1) % 100 == 0:\n",
    "            plot_loss /= 100\n",
    "            plot_losses.append(plot_loss)\n",
    "            plot_loss = 0\n",
    "    return plot_losses"
   ]
  },
  {
   "cell_type": "code",
   "execution_count": 37,
   "metadata": {
    "id": "vMvBKVf7SPA2"
   },
   "outputs": [],
   "source": [
    "def show_losses(losses):\n",
    "    plt.figure(figsize=(14, 12))\n",
    "    fig, ax = plt.subplots()\n",
    "    loc = ticker.MultipleLocator(base=0.2)\n",
    "    ax.yaxis.set_major_locator(loc)\n",
    "    plt.plot(losses)\n",
    "    plt.show()"
   ]
  },
  {
   "cell_type": "code",
   "execution_count": 38,
   "metadata": {
    "id": "JJMGvnV_SR1v"
   },
   "outputs": [],
   "source": [
    "def evaluate(encoder, decoder, sent, max_len=MAX_LENGTH):\n",
    "    with torch.no_grad():\n",
    "        idx = [0] + [eng_to_idx[word] for word in sent.split()]\n",
    "        idx += [1] * (max_len + 1 - len(sent.split()))\n",
    "        input_tensor = torch.tensor(idx, dtype=torch.long,\n",
    "                                    device=device).view(-1, 1)\n",
    "        encoder_hidden = encoder.initHidden()\n",
    "        encoder_outputs = torch.zeros(max_len + 2, encoder.hidden_size,\n",
    "                                      device=device)\n",
    "\n",
    "        for i in range(input_tensor.size()[0]):\n",
    "            encoder_output, encoder_hidden = encoder(input_tensor[i],\n",
    "                                                     encoder_hidden)\n",
    "            encoder_outputs[i] = encoder_output[0, 0]\n",
    "\n",
    "        decoder_input = torch.tensor([[0]], device=device)\n",
    "        decoder_hidden = encoder_hidden\n",
    "        decoded_words = []\n",
    "        decoder_attentions = torch.zeros(max_len + 2, max_len + 2)\n",
    "\n",
    "        for i in range(max_len + 2):\n",
    "            decoder_output, decoder_hidden, decoder_attention = decoder(\n",
    "                decoder_input, decoder_hidden, encoder_outputs)\n",
    "            decoder_attentions[i] = decoder_attention.data\n",
    "            topv, topi = decoder_output.data.topk(1)\n",
    "            if topi.item() == 1:\n",
    "                break\n",
    "            decoded_words.append(rus_dict[topi.item()])\n",
    "            decoder_input = topi.squeeze().detach()\n",
    "\n",
    "        return decoded_words, decoder_attentions"
   ]
  },
  {
   "cell_type": "code",
   "execution_count": 39,
   "metadata": {
    "id": "5IDarFw6SUQi"
   },
   "outputs": [],
   "source": [
    "def evaluate_random(encoder, decoder, n=10):\n",
    "    for i in range(n):\n",
    "        pair = pairs[np.random.randint(27003)]\n",
    "        pred = \" \".join(evaluate(encoder, decoder, pair[0])[0][1:])\n",
    "        res = f'''\n",
    "        Eng:  {pair[0]}\n",
    "        Rus:  {pair[1]}\n",
    "        Pred: {pred}\n",
    "        '''\n",
    "        print(res)"
   ]
  },
  {
   "cell_type": "markdown",
   "metadata": {
    "id": "oyFT7YVXSXJr"
   },
   "source": [
    "##### Обучение и оценка качества"
   ]
  },
  {
   "cell_type": "code",
   "execution_count": 40,
   "metadata": {
    "id": "lmB3E-6SSWbI"
   },
   "outputs": [],
   "source": [
    "hidden_size = 256"
   ]
  },
  {
   "cell_type": "code",
   "execution_count": 41,
   "metadata": {
    "id": "k3-jv68nSbgC"
   },
   "outputs": [],
   "source": [
    "encoder = EncoderRNN(len(eng_dict), hidden_size).to(device)"
   ]
  },
  {
   "cell_type": "code",
   "execution_count": 42,
   "metadata": {
    "id": "oq6Vc_yHSdQ9"
   },
   "outputs": [],
   "source": [
    "attn_decoder = AttnDecoderRNN(hidden_size, len(rus_dict)).to(device)"
   ]
  },
  {
   "cell_type": "code",
   "execution_count": 43,
   "metadata": {
    "colab": {
     "base_uri": "https://localhost:8080/",
     "height": 1000,
     "referenced_widgets": [
      "378d00c4f3cd405ab62659b8d98a8b5c",
      "5ec7ceb55669466ea527c847c8711fd8",
      "e68d18b52fd646ed9919ba5c1844d5cf",
      "b1d6deca0c3c4b669bc7c038d0b3c129",
      "b27d8d192950440eb8f73b128cac9f2d",
      "3bc1693e943347f5b009f2287a2f26cb",
      "3260790db19e46ce92bbeb4a3ce42896",
      "dc00f53245b54d89ad8432d623d6db8f",
      "215c199f3d694895a062d1c5aac4ee04",
      "54ce835aa9bc44f592f3cd5341733dc1",
      "c6e423826b08466f955fe41d152bc0d4"
     ]
    },
    "id": "-UvXjeTFSfzo",
    "outputId": "277161ac-3991-4ecd-e127-6116e8ef39d8"
   },
   "outputs": [
    {
     "data": {
      "application/vnd.jupyter.widget-view+json": {
       "model_id": "64b469866df44ac88af33af5c33191c6",
       "version_major": 2,
       "version_minor": 0
      },
      "text/plain": [
       "  0%|          | 0/75000 [00:00<?, ?it/s]"
      ]
     },
     "metadata": {},
     "output_type": "display_data"
    },
    {
     "name": "stdout",
     "output_type": "stream",
     "text": [
      "\n",
      "            Epoch 5000 (6.7%)\n",
      "            Time: 6m 30s\n",
      "            Loss: 1.8875\n",
      "            \n",
      "\n",
      "            Epoch 10000 (13.3%)\n",
      "            Time: 12m 45s\n",
      "            Loss: 1.7329\n",
      "            \n",
      "\n",
      "            Epoch 15000 (20.0%)\n",
      "            Time: 18m 52s\n",
      "            Loss: 1.5586\n",
      "            \n",
      "\n",
      "            Epoch 20000 (26.7%)\n",
      "            Time: 24m 50s\n",
      "            Loss: 1.4769\n",
      "            \n",
      "\n",
      "            Epoch 25000 (33.3%)\n",
      "            Time: 30m 48s\n",
      "            Loss: 1.3785\n",
      "            \n",
      "\n",
      "            Epoch 30000 (40.0%)\n",
      "            Time: 36m 53s\n",
      "            Loss: 1.3071\n",
      "            \n",
      "\n",
      "            Epoch 35000 (46.7%)\n",
      "            Time: 42m 54s\n",
      "            Loss: 1.2143\n",
      "            \n",
      "\n",
      "            Epoch 40000 (53.3%)\n",
      "            Time: 48m 53s\n",
      "            Loss: 1.1745\n",
      "            \n",
      "\n",
      "            Epoch 45000 (60.0%)\n",
      "            Time: 54m 51s\n",
      "            Loss: 1.1204\n",
      "            \n",
      "\n",
      "            Epoch 50000 (66.7%)\n",
      "            Time: 60m 54s\n",
      "            Loss: 1.0715\n",
      "            \n",
      "\n",
      "            Epoch 55000 (73.3%)\n",
      "            Time: 66m 57s\n",
      "            Loss: 1.0118\n",
      "            \n",
      "\n",
      "            Epoch 60000 (80.0%)\n",
      "            Time: 72m 57s\n",
      "            Loss: 0.9830\n",
      "            \n",
      "\n",
      "            Epoch 65000 (86.7%)\n",
      "            Time: 78m 57s\n",
      "            Loss: 0.9439\n",
      "            \n",
      "\n",
      "            Epoch 70000 (93.3%)\n",
      "            Time: 84m 26s\n",
      "            Loss: 0.8898\n",
      "            \n",
      "\n",
      "            Epoch 75000 (100.0%)\n",
      "            Time: 89m 18s\n",
      "            Loss: 0.8672\n",
      "            \n"
     ]
    }
   ],
   "source": [
    "losses = train_epochs(encoder, attn_decoder)"
   ]
  },
  {
   "cell_type": "code",
   "execution_count": 44,
   "metadata": {
    "colab": {
     "base_uri": "https://localhost:8080/",
     "height": 282
    },
    "id": "TxRi9c-qShWs",
    "outputId": "b8a91ad3-b031-412a-dfeb-c8819d6b774a"
   },
   "outputs": [
    {
     "data": {
      "text/plain": [
       "<Figure size 1400x1200 with 0 Axes>"
      ]
     },
     "metadata": {},
     "output_type": "display_data"
    },
    {
     "data": {
      "image/png": "[encoded data removed]",
      "text/plain": [
       "<Figure size 640x480 with 1 Axes>"
      ]
     },
     "metadata": {},
     "output_type": "display_data"
    }
   ],
   "source": [
    "show_losses(losses)"
   ]
  },
  {
   "cell_type": "markdown",
   "metadata": {
    "id": "whKwlKrpSrTr"
   },
   "source": [
    "Лосс стабильно падает, финальный лосс – 0.8672\n",
    ". Посмотрим на генерацию предложений."
   ]
  },
  {
   "cell_type": "code",
   "execution_count": 45,
   "metadata": {
    "colab": {
     "base_uri": "https://localhost:8080/"
    },
    "id": "9aJileHwSoz4",
    "outputId": "9ae974eb-408d-4724-b3b4-89a74e71acd9"
   },
   "outputs": [
    {
     "name": "stdout",
     "output_type": "stream",
     "text": [
      "\n",
      "        Eng:  you re not normal\n",
      "        Rus:  ты ненормальная\n",
      "        Pred: ты не\n",
      "        \n",
      "\n",
      "        Eng:  you re older than tom\n",
      "        Rus:  вы старше тома\n",
      "        Pred: ты старше тома\n",
      "        \n",
      "\n",
      "        Eng:  we re ready to help\n",
      "        Rus:  мы готовы помочь\n",
      "        Pred: мы готовы помочь\n",
      "        \n",
      "\n",
      "        Eng:  i m not like everybody else\n",
      "        Rus:  я не все\n",
      "        Pred: я не такой как все\n",
      "        \n",
      "\n",
      "        Eng:  i m working in australia now\n",
      "        Rus:  я сейчас работаю в австралии\n",
      "        Pred: сейчас я работаю в австралии\n",
      "        \n",
      "\n",
      "        Eng:  i m sure a solution can be found\n",
      "        Rus:  я уверен что можно найти решение\n",
      "        Pred: я уверен что могу найти найти\n",
      "        \n",
      "\n",
      "        Eng:  he s not the right man for you\n",
      "        Rus:  он тебе не пара\n",
      "        Pred: он для вас вас не\n",
      "        \n",
      "\n",
      "        Eng:  i m amazed tom is still alive\n",
      "        Rus:  я поражена что том ещё жив\n",
      "        Pred: я удивлён что том жив\n",
      "        \n",
      "\n",
      "        Eng:  he s always busy\n",
      "        Rus:  он всегда занят\n",
      "        Pred: он всегда занят\n",
      "        \n",
      "\n",
      "        Eng:  you re not very busy are you\n",
      "        Rus:  ты же не очень занят да\n",
      "        Pred: ты же не очень занят\n",
      "        \n"
     ]
    }
   ],
   "source": [
    "evaluate_random(encoder, attn_decoder)"
   ]
  },
  {
   "cell_type": "markdown",
   "metadata": {
    "id": "lBfmNXcASzKM"
   },
   "source": [
    "Два случайное предложение переведено полностью правильно, и 3 – правильно по смыслу (если учесть, что в английском нет родов и разграничения на \"ты\" и \"вы\")!"
   ]
  },
  {
   "cell_type": "code",
   "execution_count": 46,
   "metadata": {
    "colab": {
     "base_uri": "https://localhost:8080/"
    },
    "id": "tNnRDQ1nSv3t",
    "outputId": "44a0439e-99e7-4a72-93d2-80c18c8686c2"
   },
   "outputs": [
    {
     "name": "stdout",
     "output_type": "stream",
     "text": [
      "('i m almost finished doing it', 'я с этим почти закончил')\n"
     ]
    }
   ],
   "source": [
    "pair = pairs[np.random.randint(27003)]\n",
    "print(pair)"
   ]
  },
  {
   "cell_type": "code",
   "execution_count": 47,
   "metadata": {
    "id": "Iudbb7yvS103"
   },
   "outputs": [],
   "source": [
    "output_words, attentions = evaluate(\n",
    "    encoder, attn_decoder, pair[0])"
   ]
  },
  {
   "cell_type": "code",
   "execution_count": 48,
   "metadata": {
    "colab": {
     "base_uri": "https://localhost:8080/"
    },
    "id": "K7L4hv6tS3fK",
    "outputId": "a1656f85-ba6a-407a-e2bb-34199462aaa2"
   },
   "outputs": [
    {
     "data": {
      "text/plain": [
       "tensor([[1.4148e-17, 9.6809e-19, 5.0453e-20, 1.2398e-15, 1.8825e-13, 1.4168e-11,\n",
       "         9.0819e-10, 2.0098e-05, 2.9062e-03, 5.4803e-02, 2.9001e-01, 6.5226e-01],\n",
       "        [1.5772e-13, 5.1459e-15, 3.4926e-14, 2.1416e-12, 4.4745e-10, 1.5265e-08,\n",
       "         5.2468e-08, 1.9644e-04, 8.0316e-03, 7.4888e-02, 2.9596e-01, 6.2092e-01],\n",
       "        [1.2641e-11, 5.1431e-12, 5.0344e-12, 1.2252e-09, 1.7274e-07, 3.8593e-06,\n",
       "         1.3817e-05, 4.6508e-03, 4.1135e-02, 1.4998e-01, 3.2973e-01, 4.7449e-01],\n",
       "        [6.7117e-09, 8.6855e-09, 5.1138e-09, 1.1385e-07, 1.4979e-05, 3.5831e-04,\n",
       "         7.2357e-04, 1.5356e-02, 6.2457e-02, 1.7313e-01, 3.2739e-01, 4.2058e-01],\n",
       "        [1.2433e-06, 7.1399e-07, 1.8802e-07, 3.1425e-06, 6.3024e-04, 1.2204e-02,\n",
       "         6.8475e-02, 6.0690e-02, 8.9943e-02, 1.6999e-01, 2.7280e-01, 3.2526e-01],\n",
       "        [0.0000e+00, 0.0000e+00, 0.0000e+00, 0.0000e+00, 0.0000e+00, 0.0000e+00,\n",
       "         0.0000e+00, 0.0000e+00, 0.0000e+00, 0.0000e+00, 0.0000e+00, 0.0000e+00],\n",
       "        [0.0000e+00, 0.0000e+00, 0.0000e+00, 0.0000e+00, 0.0000e+00, 0.0000e+00,\n",
       "         0.0000e+00, 0.0000e+00, 0.0000e+00, 0.0000e+00, 0.0000e+00, 0.0000e+00],\n",
       "        [0.0000e+00, 0.0000e+00, 0.0000e+00, 0.0000e+00, 0.0000e+00, 0.0000e+00,\n",
       "         0.0000e+00, 0.0000e+00, 0.0000e+00, 0.0000e+00, 0.0000e+00, 0.0000e+00],\n",
       "        [0.0000e+00, 0.0000e+00, 0.0000e+00, 0.0000e+00, 0.0000e+00, 0.0000e+00,\n",
       "         0.0000e+00, 0.0000e+00, 0.0000e+00, 0.0000e+00, 0.0000e+00, 0.0000e+00],\n",
       "        [0.0000e+00, 0.0000e+00, 0.0000e+00, 0.0000e+00, 0.0000e+00, 0.0000e+00,\n",
       "         0.0000e+00, 0.0000e+00, 0.0000e+00, 0.0000e+00, 0.0000e+00, 0.0000e+00],\n",
       "        [0.0000e+00, 0.0000e+00, 0.0000e+00, 0.0000e+00, 0.0000e+00, 0.0000e+00,\n",
       "         0.0000e+00, 0.0000e+00, 0.0000e+00, 0.0000e+00, 0.0000e+00, 0.0000e+00],\n",
       "        [0.0000e+00, 0.0000e+00, 0.0000e+00, 0.0000e+00, 0.0000e+00, 0.0000e+00,\n",
       "         0.0000e+00, 0.0000e+00, 0.0000e+00, 0.0000e+00, 0.0000e+00, 0.0000e+00]])"
      ]
     },
     "execution_count": 48,
     "metadata": {},
     "output_type": "execute_result"
    }
   ],
   "source": [
    "attentions"
   ]
  },
  {
   "cell_type": "code",
   "execution_count": 49,
   "metadata": {
    "colab": {
     "base_uri": "https://localhost:8080/"
    },
    "id": "mQz4jbbiS48B",
    "outputId": "7f05c9a1-9280-43ed-9670-cb72c6ddd698"
   },
   "outputs": [
    {
     "data": {
      "text/plain": [
       "array([1.4148369e-17, 9.6808980e-19, 5.0452899e-20, 1.2397673e-15,\n",
       "       1.8824551e-13, 1.4168475e-11, 9.0819230e-10, 2.0097505e-05,\n",
       "       2.9061907e-03, 5.4803174e-02, 2.9001248e-01, 6.5225810e-01],\n",
       "      dtype=float32)"
      ]
     },
     "execution_count": 49,
     "metadata": {},
     "output_type": "execute_result"
    }
   ],
   "source": [
    "attentions.numpy()[0]"
   ]
  },
  {
   "cell_type": "code",
   "execution_count": 50,
   "metadata": {
    "colab": {
     "base_uri": "https://localhost:8080/",
     "height": 292
    },
    "id": "SjoZxpVNS7Jx",
    "outputId": "166cc099-817f-446f-c7b6-f85b124c6cf4"
   },
   "outputs": [
    {
     "data": {
      "text/plain": [
       "<Figure size 1400x1200 with 0 Axes>"
      ]
     },
     "metadata": {},
     "output_type": "display_data"
    },
    {
     "data": {
      "image/png": "[encoded data removed]",
      "text/plain": [
       "<Figure size 480x480 with 1 Axes>"
      ]
     },
     "metadata": {},
     "output_type": "display_data"
    }
   ],
   "source": [
    "plt.figure(figsize=(14, 12))\n",
    "plt.matshow(attentions.numpy())\n",
    "plt.show()"
   ]
  },
  {
   "cell_type": "code",
   "execution_count": 51,
   "metadata": {
    "id": "xyqUoxc_S8kd"
   },
   "outputs": [],
   "source": [
    "def showAttention(input_sentence, output_words, attentions):\n",
    "    # Set up figure with colorbar\n",
    "    fig = plt.figure()\n",
    "    ax = fig.add_subplot(111)\n",
    "    cax = ax.matshow(attentions.numpy(), cmap='bone')\n",
    "    fig.colorbar(cax)\n",
    "\n",
    "    # Set up axes\n",
    "    ax.set_xticklabels([''] + input_sentence.split(' ') +\n",
    "                       ['<EOS>'], rotation=90)\n",
    "    ax.set_yticklabels([''] + output_words + ['<EOS>'])\n",
    "\n",
    "    # Show label at every tick\n",
    "    ax.xaxis.set_major_locator(ticker.MultipleLocator(1))\n",
    "    ax.yaxis.set_major_locator(ticker.MultipleLocator(1))\n",
    "\n",
    "    plt.show()"
   ]
  },
  {
   "cell_type": "code",
   "execution_count": 52,
   "metadata": {
    "id": "-sun3ZxOS-sT"
   },
   "outputs": [],
   "source": [
    "def evaluate_show_attention(sent):\n",
    "    output_words, attentions = evaluate(\n",
    "        encoder, attn_decoder, sent)\n",
    "    print('input =', sent)\n",
    "    print('output =', ' '.join(output_words[1:]))\n",
    "    showAttention(sent, output_words[1:], attentions)"
   ]
  },
  {
   "cell_type": "code",
   "execution_count": 53,
   "metadata": {
    "colab": {
     "base_uri": "https://localhost:8080/",
     "height": 333
    },
    "id": "REvEmJGbTAI3",
    "outputId": "4b66b211-c9a5-4ab7-f43f-87f24d41dc56"
   },
   "outputs": [
    {
     "name": "stdout",
     "output_type": "stream",
     "text": [
      "input = i m happy tom liked it\n",
      "output = я так рад за\n"
     ]
    },
    {
     "data": {
      "image/png": "[encoded data removed]",
      "text/plain": [
       "<Figure size 640x480 with 2 Axes>"
      ]
     },
     "metadata": {},
     "output_type": "display_data"
    }
   ],
   "source": [
    "evaluate_show_attention(pairs[np.random.randint(27003)][0])"
   ]
  },
  {
   "cell_type": "code",
   "execution_count": 54,
   "metadata": {
    "colab": {
     "base_uri": "https://localhost:8080/",
     "height": 333
    },
    "id": "zgU7thsuTBpO",
    "outputId": "4377794b-5a99-456c-db0b-9e8ab06921ec"
   },
   "outputs": [
    {
     "name": "stdout",
     "output_type": "stream",
     "text": [
      "input = you re successful\n",
      "output = ты трус\n"
     ]
    },
    {
     "data": {
      "image/png": "[encoded data removed]",
      "text/plain": [
       "<Figure size 640x480 with 2 Axes>"
      ]
     },
     "metadata": {},
     "output_type": "display_data"
    }
   ],
   "source": [
    "evaluate_show_attention(pairs[np.random.randint(27003)][0])"
   ]
  },
  {
   "cell_type": "code",
   "execution_count": 55,
   "metadata": {
    "colab": {
     "base_uri": "https://localhost:8080/",
     "height": 342
    },
    "id": "5om6ZSZkTDsD",
    "outputId": "6bd91f6e-e918-4523-98fe-764627d62f95"
   },
   "outputs": [
    {
     "name": "stdout",
     "output_type": "stream",
     "text": [
      "input = i m not ashamed of what we did\n",
      "output = мне не стыдно что я\n"
     ]
    },
    {
     "data": {
      "image/png": "[encoded data removed]",
      "text/plain": [
       "<Figure size 640x480 with 2 Axes>"
      ]
     },
     "metadata": {},
     "output_type": "display_data"
    }
   ],
   "source": [
    "evaluate_show_attention(pairs[np.random.randint(27003)][0])"
   ]
  },
  {
   "cell_type": "code",
   "execution_count": 56,
   "metadata": {
    "colab": {
     "base_uri": "https://localhost:8080/",
     "height": 333
    },
    "id": "HHZpIVP3TF3-",
    "outputId": "0a8fd57f-43fa-4e6a-a4f4-8de6c602572d"
   },
   "outputs": [
    {
     "name": "stdout",
     "output_type": "stream",
     "text": [
      "input = she suffocated him with a pillow\n",
      "output = она слегла с с\n"
     ]
    },
    {
     "data": {
      "image/png": "[encoded data removed]",
      "text/plain": [
       "<Figure size 640x480 with 2 Axes>"
      ]
     },
     "metadata": {},
     "output_type": "display_data"
    }
   ],
   "source": [
    "evaluate_show_attention(pairs[np.random.randint(27003)][0])"
   ]
  },
  {
   "cell_type": "markdown",
   "metadata": {
    "id": "TlfYNQCaTNYe"
   },
   "source": [
    "##### Attention Decoder (на MLP)"
   ]
  },
  {
   "cell_type": "code",
   "execution_count": 57,
   "metadata": {
    "id": "wa4kNR_vTHu6"
   },
   "outputs": [],
   "source": [
    "class AttnDecoderRNN(nn.Module):\n",
    "    def __init__(self, hidden_size, output_size, dropout_p=0.1):\n",
    "        super(AttnDecoderRNN, self).__init__()\n",
    "        self.hidden_size = hidden_size\n",
    "        self.output_size = output_size\n",
    "        self.dropout_p = dropout_p\n",
    "\n",
    "        self.embedding = nn.Embedding(self.output_size, self.hidden_size)\n",
    "        self.dropout = nn.Dropout(self.dropout_p)\n",
    "        self.attn = nn.Linear(self.hidden_size * 2, 1)\n",
    "        self.attn_combine = nn.Linear(self.hidden_size * 2, self.hidden_size)\n",
    "        self.gru = nn.GRU(self.hidden_size, self.hidden_size)\n",
    "        self.out = nn.Linear(self.hidden_size, self.output_size)\n",
    "\n",
    "    def forward(self, input, hidden, encoder_outputs):\n",
    "        embedded = self.embedding(input).view(1, 1, -1)\n",
    "        embedded = self.dropout(embedded)\n",
    "\n",
    "        weights = []\n",
    "        for i in range(len(encoder_outputs)):\n",
    "            weights.append(\n",
    "                torch.tanh(self.attn(torch.cat((hidden[0][0],\n",
    "                                                encoder_outputs[i]))))\n",
    "                )\n",
    "        attn_weights = F.softmax(torch.tensor(weights, device=device))\n",
    "\n",
    "        attn_applied = torch.bmm(attn_weights.unsqueeze(0).unsqueeze(0),\n",
    "                                 encoder_outputs.view(1, -1, self.hidden_size)\n",
    "                                 )\n",
    "\n",
    "        output = torch.cat((attn_applied[0], embedded[0]), 1)\n",
    "        output = self.attn_combine(output).unsqueeze(0)\n",
    "\n",
    "        output = F.relu(output)\n",
    "        output, hidden = self.gru(output, hidden)\n",
    "\n",
    "        output = F.log_softmax(self.out(output[0]), dim=1)\n",
    "        return output, hidden, attn_weights\n",
    "\n",
    "    def initHidden(self):\n",
    "        return torch.zeros(1, 1, self.hidden_size, device=device)"
   ]
  },
  {
   "cell_type": "markdown",
   "metadata": {
    "id": "JKDLyTcHTU4Y"
   },
   "source": [
    "##### Обучение и оценка качества"
   ]
  },
  {
   "cell_type": "code",
   "execution_count": 58,
   "metadata": {
    "id": "-wcTRmWSTRp9"
   },
   "outputs": [],
   "source": [
    "hidden_size = 256"
   ]
  },
  {
   "cell_type": "code",
   "execution_count": 59,
   "metadata": {
    "id": "XA7rYYfHTYjD"
   },
   "outputs": [],
   "source": [
    "encoder = EncoderRNN(len(eng_dict), hidden_size).to(device)"
   ]
  },
  {
   "cell_type": "code",
   "execution_count": 60,
   "metadata": {
    "id": "5x_zLpPGTaDD"
   },
   "outputs": [],
   "source": [
    "attn_decoder = AttnDecoderRNN(hidden_size, len(rus_dict)).to(device)"
   ]
  },
  {
   "cell_type": "code",
   "execution_count": 61,
   "metadata": {
    "colab": {
     "base_uri": "https://localhost:8080/",
     "height": 1000,
     "referenced_widgets": [
      "20443d5a1c2f4e668afefb75a4886664",
      "430967af0a814e9cbae0f5a320715b58",
      "615e1bfa222c46a985a9e84b118540dd",
      "075f992f90cb49e2b997f6447f506026",
      "7ca6db0a51004a62a0c9d79710ce9d42",
      "f6fb860229f147baa6c5efbe3e3c43c3",
      "9f1de529d7f6462d893f3cd6db633240",
      "cb3ab9d4e60d49a494cdd1942076088c",
      "b99e9a67ad184572823ca09ccfa94d43",
      "bbe8d63ec4d54288b105be3a728db0fe",
      "d82e83798c224c5da3edd1984a75ab70"
     ]
    },
    "id": "U2ftfsjoTbrQ",
    "outputId": "a4b47a64-4a84-40d3-f4bf-a4ab27cf5be9"
   },
   "outputs": [
    {
     "data": {
      "application/vnd.jupyter.widget-view+json": {
       "model_id": "ed31252201ee4baf85089feebb0036b1",
       "version_major": 2,
       "version_minor": 0
      },
      "text/plain": [
       "  0%|          | 0/75000 [00:00<?, ?it/s]"
      ]
     },
     "metadata": {},
     "output_type": "display_data"
    },
    {
     "name": "stdout",
     "output_type": "stream",
     "text": [
      "\n",
      "            Epoch 5000 (6.7%)\n",
      "            Time: 4m 48s\n",
      "            Loss: 1.9339\n",
      "            \n",
      "\n",
      "            Epoch 10000 (13.3%)\n",
      "            Time: 9m 39s\n",
      "            Loss: 1.7297\n",
      "            \n",
      "\n",
      "            Epoch 15000 (20.0%)\n",
      "            Time: 61m 50s\n",
      "            Loss: 1.5903\n",
      "            \n",
      "\n",
      "            Epoch 20000 (26.7%)\n",
      "            Time: 116m 26s\n",
      "            Loss: 1.5008\n",
      "            \n",
      "\n",
      "            Epoch 25000 (33.3%)\n",
      "            Time: 121m 7s\n",
      "            Loss: 1.4175\n",
      "            \n",
      "\n",
      "            Epoch 30000 (40.0%)\n",
      "            Time: 125m 56s\n",
      "            Loss: 1.3275\n",
      "            \n",
      "\n",
      "            Epoch 35000 (46.7%)\n",
      "            Time: 130m 58s\n",
      "            Loss: 1.2524\n",
      "            \n",
      "\n",
      "            Epoch 40000 (53.3%)\n",
      "            Time: 135m 51s\n",
      "            Loss: 1.2011\n",
      "            \n",
      "\n",
      "            Epoch 45000 (60.0%)\n",
      "            Time: 141m 17s\n",
      "            Loss: 1.1326\n",
      "            \n",
      "\n",
      "            Epoch 50000 (66.7%)\n",
      "            Time: 146m 45s\n",
      "            Loss: 1.0880\n",
      "            \n",
      "\n",
      "            Epoch 55000 (73.3%)\n",
      "            Time: 152m 57s\n",
      "            Loss: 1.0470\n",
      "            \n",
      "\n",
      "            Epoch 60000 (80.0%)\n",
      "            Time: 158m 42s\n",
      "            Loss: 0.9994\n",
      "            \n",
      "\n",
      "            Epoch 65000 (86.7%)\n",
      "            Time: 164m 23s\n",
      "            Loss: 0.9759\n",
      "            \n",
      "\n",
      "            Epoch 70000 (93.3%)\n",
      "            Time: 169m 50s\n",
      "            Loss: 0.9316\n",
      "            \n",
      "\n",
      "            Epoch 75000 (100.0%)\n",
      "            Time: 175m 25s\n",
      "            Loss: 0.9005\n",
      "            \n"
     ]
    }
   ],
   "source": [
    "losses = train_epochs(encoder, attn_decoder)"
   ]
  },
  {
   "cell_type": "code",
   "execution_count": 62,
   "metadata": {
    "colab": {
     "base_uri": "https://localhost:8080/",
     "height": 286
    },
    "id": "E2uPvwtxTdCI",
    "outputId": "75d9b818-c48a-4228-a460-709f7b4acaf7"
   },
   "outputs": [
    {
     "data": {
      "text/plain": [
       "<Figure size 1400x1200 with 0 Axes>"
      ]
     },
     "metadata": {},
     "output_type": "display_data"
    },
    {
     "data": {
      "image/png": "[encoded data removed]",
      "text/plain": [
       "<Figure size 640x480 with 1 Axes>"
      ]
     },
     "metadata": {},
     "output_type": "display_data"
    }
   ],
   "source": [
    "show_losses(losses)"
   ]
  },
  {
   "cell_type": "markdown",
   "metadata": {
    "id": "j66xXuZsTgxm"
   },
   "source": [
    "Обучается  дольше, чем seq2seq с attention на скалярном произведении (175 минут  против 89 минут), финальный loss лучше, чем у сети с attention на скалярном произведении (0.90 против 0.86). Посмотрим на генерацию предложений."
   ]
  },
  {
   "cell_type": "code",
   "execution_count": 60,
   "metadata": {
    "colab": {
     "base_uri": "https://localhost:8080/"
    },
    "id": "wMdlAPfTTfcp",
    "outputId": "f579509a-bcfd-4b10-9804-9208e751d049"
   },
   "outputs": [
    {
     "name": "stdout",
     "output_type": "stream",
     "text": [
      "\n",
      "        Eng:  you re not going to wear that are you\n",
      "        Rus:  ты ведь не собираешься это носить правда\n",
      "        Pred: ты ведь не собираешься\n",
      "        \n",
      "\n",
      "        Eng:  they re the only ones tom can trust\n",
      "        Rus:  они единственные кому том может доверять\n",
      "        Pred: ты единственный кому кому доверять\n",
      "        \n",
      "\n",
      "        Eng:  i m glad the rumors weren t true\n",
      "        Rus:  я рад что слухи не подтвердились\n",
      "        Pred: я рад что что не не\n",
      "        \n",
      "\n",
      "        Eng:  you re making a serious mistake\n",
      "        Rus:  вы совершаете серьёзную ошибку\n",
      "        Pred: ты совершаешь ошибку ошибку\n",
      "        \n",
      "\n",
      "        Eng:  we re not the murderers\n",
      "        Rus:  мы не убийцы\n",
      "        Pred: мы не не\n",
      "        \n",
      "\n",
      "        Eng:  i m younger than he is\n",
      "        Rus:  я моложе его\n",
      "        Pred: я моложе него\n",
      "        \n",
      "\n",
      "        Eng:  you re not my friend\n",
      "        Rus:  ты мне не друг\n",
      "        Pred: ты мне не подруга\n",
      "        \n",
      "\n",
      "        Eng:  he is dead and buried now\n",
      "        Rus:  сейчас он мёртв и предан земле\n",
      "        Pred: он сейчас и и\n",
      "        \n",
      "\n",
      "        Eng:  we re leaving now\n",
      "        Rus:  мы сейчас уезжаем\n",
      "        Pred: мы сейчас уходим\n",
      "        \n",
      "\n",
      "        Eng:  i m assuming you have a plan\n",
      "        Rus:  я полагаю у вас есть план\n",
      "        Pred: я спрашиваю у меня есть время\n",
      "        \n"
     ]
    }
   ],
   "source": [
    "evaluate_random(encoder, attn_decoder)"
   ]
  },
  {
   "cell_type": "markdown",
   "metadata": {
    "id": "RIi-kOKtTqkv"
   },
   "source": [
    "Предсказания  выглядят хуже, среди всех сгенерированных предложений только одно переведено правильно (в точности или по смыслу)."
   ]
  },
  {
   "cell_type": "code",
   "execution_count": 63,
   "metadata": {
    "colab": {
     "base_uri": "https://localhost:8080/"
    },
    "id": "YjDrXv9YTyoZ",
    "outputId": "12c50c72-6a84-47f0-d4d4-c331a0e5afea"
   },
   "outputs": [
    {
     "name": "stdout",
     "output_type": "stream",
     "text": [
      "('i m experienced', 'я опытный')\n"
     ]
    }
   ],
   "source": [
    "pair = pairs[np.random.randint(27003)]\n",
    "print(pair)"
   ]
  },
  {
   "cell_type": "code",
   "execution_count": 64,
   "metadata": {
    "id": "xzHRRkaNT0aV"
   },
   "outputs": [],
   "source": [
    "output_words, attentions = evaluate(\n",
    "    encoder, attn_decoder, pair[0])"
   ]
  },
  {
   "cell_type": "code",
   "execution_count": 65,
   "metadata": {
    "colab": {
     "base_uri": "https://localhost:8080/"
    },
    "id": "pWhBSP4OT13k",
    "outputId": "2ae69828-76a1-4f5d-e77c-2bb38faf322d"
   },
   "outputs": [
    {
     "data": {
      "text/plain": [
       "tensor([[0.1105, 0.0830, 0.1050, 0.0883, 0.0733, 0.0703, 0.0741, 0.0767, 0.0783,\n",
       "         0.0794, 0.0802, 0.0809],\n",
       "        [0.1086, 0.0832, 0.1038, 0.0883, 0.0737, 0.0707, 0.0745, 0.0771, 0.0787,\n",
       "         0.0797, 0.0805, 0.0811],\n",
       "        [0.1112, 0.0829, 0.1056, 0.0883, 0.0731, 0.0702, 0.0739, 0.0766, 0.0782,\n",
       "         0.0793, 0.0801, 0.0807],\n",
       "        [0.1087, 0.0832, 0.1038, 0.0883, 0.0737, 0.0707, 0.0745, 0.0771, 0.0787,\n",
       "         0.0797, 0.0805, 0.0811],\n",
       "        [0.0000, 0.0000, 0.0000, 0.0000, 0.0000, 0.0000, 0.0000, 0.0000, 0.0000,\n",
       "         0.0000, 0.0000, 0.0000],\n",
       "        [0.0000, 0.0000, 0.0000, 0.0000, 0.0000, 0.0000, 0.0000, 0.0000, 0.0000,\n",
       "         0.0000, 0.0000, 0.0000],\n",
       "        [0.0000, 0.0000, 0.0000, 0.0000, 0.0000, 0.0000, 0.0000, 0.0000, 0.0000,\n",
       "         0.0000, 0.0000, 0.0000],\n",
       "        [0.0000, 0.0000, 0.0000, 0.0000, 0.0000, 0.0000, 0.0000, 0.0000, 0.0000,\n",
       "         0.0000, 0.0000, 0.0000],\n",
       "        [0.0000, 0.0000, 0.0000, 0.0000, 0.0000, 0.0000, 0.0000, 0.0000, 0.0000,\n",
       "         0.0000, 0.0000, 0.0000],\n",
       "        [0.0000, 0.0000, 0.0000, 0.0000, 0.0000, 0.0000, 0.0000, 0.0000, 0.0000,\n",
       "         0.0000, 0.0000, 0.0000],\n",
       "        [0.0000, 0.0000, 0.0000, 0.0000, 0.0000, 0.0000, 0.0000, 0.0000, 0.0000,\n",
       "         0.0000, 0.0000, 0.0000],\n",
       "        [0.0000, 0.0000, 0.0000, 0.0000, 0.0000, 0.0000, 0.0000, 0.0000, 0.0000,\n",
       "         0.0000, 0.0000, 0.0000]])"
      ]
     },
     "execution_count": 65,
     "metadata": {},
     "output_type": "execute_result"
    }
   ],
   "source": [
    "attentions"
   ]
  },
  {
   "cell_type": "code",
   "execution_count": 66,
   "metadata": {
    "colab": {
     "base_uri": "https://localhost:8080/"
    },
    "id": "zEYxREdMT3-A",
    "outputId": "88a3a2b5-ece9-4989-dc5e-99bb2cdfd4ad"
   },
   "outputs": [
    {
     "data": {
      "text/plain": [
       "array([0.11045113, 0.08302008, 0.10504665, 0.08831812, 0.07325596,\n",
       "       0.07029189, 0.07407375, 0.07674405, 0.07833934, 0.07940205,\n",
       "       0.08020046, 0.08085649], dtype=float32)"
      ]
     },
     "execution_count": 66,
     "metadata": {},
     "output_type": "execute_result"
    }
   ],
   "source": [
    "attentions.numpy()[0]"
   ]
  },
  {
   "cell_type": "code",
   "execution_count": 67,
   "metadata": {
    "colab": {
     "base_uri": "https://localhost:8080/",
     "height": 292
    },
    "id": "eIO9qFm_T5aT",
    "outputId": "ec11fd9a-80ff-43c2-ec41-de5297b7df0c"
   },
   "outputs": [
    {
     "data": {
      "text/plain": [
       "<Figure size 1400x1200 with 0 Axes>"
      ]
     },
     "metadata": {},
     "output_type": "display_data"
    },
    {
     "data": {
      "image/png": "[encoded data removed]",
      "text/plain": [
       "<Figure size 480x480 with 1 Axes>"
      ]
     },
     "metadata": {},
     "output_type": "display_data"
    }
   ],
   "source": [
    "plt.figure(figsize=(14, 12))\n",
    "plt.matshow(attentions.numpy())\n",
    "plt.show()"
   ]
  },
  {
   "cell_type": "code",
   "execution_count": 68,
   "metadata": {
    "colab": {
     "base_uri": "https://localhost:8080/",
     "height": 343
    },
    "id": "UF7PiHecT7i1",
    "outputId": "cd95360a-cc49-4d1c-c156-74afe45e60a8"
   },
   "outputs": [
    {
     "name": "stdout",
     "output_type": "stream",
     "text": [
      "input = i m afraid you can t go there\n",
      "output = боюсь ты не туда туда туда туда\n"
     ]
    },
    {
     "data": {
      "image/png": "[encoded data removed]",
      "text/plain": [
       "<Figure size 640x480 with 2 Axes>"
      ]
     },
     "metadata": {},
     "output_type": "display_data"
    }
   ],
   "source": [
    "evaluate_show_attention(pairs[np.random.randint(27003)][0])"
   ]
  },
  {
   "cell_type": "code",
   "execution_count": 69,
   "metadata": {
    "colab": {
     "base_uri": "https://localhost:8080/",
     "height": 333
    },
    "id": "gPb7dDV_T8_X",
    "outputId": "cb8a296b-c9ad-42e6-d166-a65d52069c13"
   },
   "outputs": [
    {
     "name": "stdout",
     "output_type": "stream",
     "text": [
      "input = you re my neighbor\n",
      "output = ты мой мой\n"
     ]
    },
    {
     "data": {
      "image/png": "[encoded data removed]",
      "text/plain": [
       "<Figure size 640x480 with 2 Axes>"
      ]
     },
     "metadata": {},
     "output_type": "display_data"
    }
   ],
   "source": [
    "evaluate_show_attention(pairs[np.random.randint(27003)][0])"
   ]
  },
  {
   "cell_type": "code",
   "execution_count": 70,
   "metadata": {
    "colab": {
     "base_uri": "https://localhost:8080/",
     "height": 333
    },
    "id": "mwsrqJ2sT_KM",
    "outputId": "3d7b0ab6-51ae-4df0-acc3-9dac54a9729f"
   },
   "outputs": [
    {
     "name": "stdout",
     "output_type": "stream",
     "text": [
      "input = i m running short of cash\n",
      "output = у меня нет еда\n"
     ]
    },
    {
     "data": {
      "image/png": "[encoded data removed]",
      "text/plain": [
       "<Figure size 640x480 with 2 Axes>"
      ]
     },
     "metadata": {},
     "output_type": "display_data"
    }
   ],
   "source": [
    "evaluate_show_attention(pairs[np.random.randint(27003)][0])"
   ]
  },
  {
   "cell_type": "code",
   "execution_count": 71,
   "metadata": {
    "colab": {
     "base_uri": "https://localhost:8080/",
     "height": 333
    },
    "id": "2m_4vrZMUBIN",
    "outputId": "3358d61f-1cd1-44a3-9718-e5d2bc355931"
   },
   "outputs": [
    {
     "name": "stdout",
     "output_type": "stream",
     "text": [
      "input = i m not counting on it\n",
      "output = я не на на на\n"
     ]
    },
    {
     "data": {
      "image/png": "[encoded data removed]",
      "text/plain": [
       "<Figure size 640x480 with 2 Axes>"
      ]
     },
     "metadata": {},
     "output_type": "display_data"
    }
   ],
   "source": [
    "evaluate_show_attention(pairs[np.random.randint(27003)][0])"
   ]
  },
  {
   "cell_type": "code",
   "execution_count": null,
   "metadata": {
    "id": "hkfNzu3tUDKy"
   },
   "outputs": [],
   "source": []
  }
 ],
 "metadata": {
  "accelerator": "GPU",
  "colab": {
   "provenance": []
  },
  "gpuClass": "standard",
  "kernelspec": {
   "display_name": "Python 3 (ipykernel)",
   "language": "python",
   "name": "python3"
  },
  "language_info": {
   "codemirror_mode": {
    "name": "ipython",
    "version": 3
   },
   "file_extension": ".py",
   "mimetype": "text/x-python",
   "name": "python",
   "nbconvert_exporter": "python",
   "pygments_lexer": "ipython3",
   "version": "3.10.9"
  },
  "widgets": {
   "application/vnd.jupyter.widget-state+json": {
    "075f992f90cb49e2b997f6447f506026": {
     "model_module": "@jupyter-widgets/controls",
     "model_module_version": "1.5.0",
     "model_name": "HTMLModel",
     "state": {
      "_dom_classes": [],
      "_model_module": "@jupyter-widgets/controls",
      "_model_module_version": "1.5.0",
      "_model_name": "HTMLModel",
      "_view_count": null,
      "_view_module": "@jupyter-widgets/controls",
      "_view_module_version": "1.5.0",
      "_view_name": "HTMLView",
      "description": "",
      "description_tooltip": null,
      "layout": "IPY_MODEL_bbe8d63ec4d54288b105be3a728db0fe",
      "placeholder": "​",
      "style": "IPY_MODEL_d82e83798c224c5da3edd1984a75ab70",
      "value": " 75000/75000 [40:25&lt;00:00, 28.88it/s]"
     }
    },
    "20443d5a1c2f4e668afefb75a4886664": {
     "model_module": "@jupyter-widgets/controls",
     "model_module_version": "1.5.0",
     "model_name": "HBoxModel",
     "state": {
      "_dom_classes": [],
      "_model_module": "@jupyter-widgets/controls",
      "_model_module_version": "1.5.0",
      "_model_name": "HBoxModel",
      "_view_count": null,
      "_view_module": "@jupyter-widgets/controls",
      "_view_module_version": "1.5.0",
      "_view_name": "HBoxView",
      "box_style": "",
      "children": [
       "IPY_MODEL_430967af0a814e9cbae0f5a320715b58",
       "IPY_MODEL_615e1bfa222c46a985a9e84b118540dd",
       "IPY_MODEL_075f992f90cb49e2b997f6447f506026"
      ],
      "layout": "IPY_MODEL_7ca6db0a51004a62a0c9d79710ce9d42"
     }
    },
    "215c199f3d694895a062d1c5aac4ee04": {
     "model_module": "@jupyter-widgets/controls",
     "model_module_version": "1.5.0",
     "model_name": "ProgressStyleModel",
     "state": {
      "_model_module": "@jupyter-widgets/controls",
      "_model_module_version": "1.5.0",
      "_model_name": "ProgressStyleModel",
      "_view_count": null,
      "_view_module": "@jupyter-widgets/base",
      "_view_module_version": "1.2.0",
      "_view_name": "StyleView",
      "bar_color": null,
      "description_width": ""
     }
    },
    "3260790db19e46ce92bbeb4a3ce42896": {
     "model_module": "@jupyter-widgets/controls",
     "model_module_version": "1.5.0",
     "model_name": "DescriptionStyleModel",
     "state": {
      "_model_module": "@jupyter-widgets/controls",
      "_model_module_version": "1.5.0",
      "_model_name": "DescriptionStyleModel",
      "_view_count": null,
      "_view_module": "@jupyter-widgets/base",
      "_view_module_version": "1.2.0",
      "_view_name": "StyleView",
      "description_width": ""
     }
    },
    "378d00c4f3cd405ab62659b8d98a8b5c": {
     "model_module": "@jupyter-widgets/controls",
     "model_module_version": "1.5.0",
     "model_name": "HBoxModel",
     "state": {
      "_dom_classes": [],
      "_model_module": "@jupyter-widgets/controls",
      "_model_module_version": "1.5.0",
      "_model_name": "HBoxModel",
      "_view_count": null,
      "_view_module": "@jupyter-widgets/controls",
      "_view_module_version": "1.5.0",
      "_view_name": "HBoxView",
      "box_style": "",
      "children": [
       "IPY_MODEL_5ec7ceb55669466ea527c847c8711fd8",
       "IPY_MODEL_e68d18b52fd646ed9919ba5c1844d5cf",
       "IPY_MODEL_b1d6deca0c3c4b669bc7c038d0b3c129"
      ],
      "layout": "IPY_MODEL_b27d8d192950440eb8f73b128cac9f2d"
     }
    },
    "3bc1693e943347f5b009f2287a2f26cb": {
     "model_module": "@jupyter-widgets/base",
     "model_module_version": "1.2.0",
     "model_name": "LayoutModel",
     "state": {
      "_model_module": "@jupyter-widgets/base",
      "_model_module_version": "1.2.0",
      "_model_name": "LayoutModel",
      "_view_count": null,
      "_view_module": "@jupyter-widgets/base",
      "_view_module_version": "1.2.0",
      "_view_name": "LayoutView",
      "align_content": null,
      "align_items": null,
      "align_self": null,
      "border": null,
      "bottom": null,
      "display": null,
      "flex": null,
      "flex_flow": null,
      "grid_area": null,
      "grid_auto_columns": null,
      "grid_auto_flow": null,
      "grid_auto_rows": null,
      "grid_column": null,
      "grid_gap": null,
      "grid_row": null,
      "grid_template_areas": null,
      "grid_template_columns": null,
      "grid_template_rows": null,
      "height": null,
      "justify_content": null,
      "justify_items": null,
      "left": null,
      "margin": null,
      "max_height": null,
      "max_width": null,
      "min_height": null,
      "min_width": null,
      "object_fit": null,
      "object_position": null,
      "order": null,
      "overflow": null,
      "overflow_x": null,
      "overflow_y": null,
      "padding": null,
      "right": null,
      "top": null,
      "visibility": null,
      "width": null
     }
    },
    "430967af0a814e9cbae0f5a320715b58": {
     "model_module": "@jupyter-widgets/controls",
     "model_module_version": "1.5.0",
     "model_name": "HTMLModel",
     "state": {
      "_dom_classes": [],
      "_model_module": "@jupyter-widgets/controls",
      "_model_module_version": "1.5.0",
      "_model_name": "HTMLModel",
      "_view_count": null,
      "_view_module": "@jupyter-widgets/controls",
      "_view_module_version": "1.5.0",
      "_view_name": "HTMLView",
      "description": "",
      "description_tooltip": null,
      "layout": "IPY_MODEL_f6fb860229f147baa6c5efbe3e3c43c3",
      "placeholder": "​",
      "style": "IPY_MODEL_9f1de529d7f6462d893f3cd6db633240",
      "value": "100%"
     }
    },
    "54ce835aa9bc44f592f3cd5341733dc1": {
     "model_module": "@jupyter-widgets/base",
     "model_module_version": "1.2.0",
     "model_name": "LayoutModel",
     "state": {
      "_model_module": "@jupyter-widgets/base",
      "_model_module_version": "1.2.0",
      "_model_name": "LayoutModel",
      "_view_count": null,
      "_view_module": "@jupyter-widgets/base",
      "_view_module_version": "1.2.0",
      "_view_name": "LayoutView",
      "align_content": null,
      "align_items": null,
      "align_self": null,
      "border": null,
      "bottom": null,
      "display": null,
      "flex": null,
      "flex_flow": null,
      "grid_area": null,
      "grid_auto_columns": null,
      "grid_auto_flow": null,
      "grid_auto_rows": null,
      "grid_column": null,
      "grid_gap": null,
      "grid_row": null,
      "grid_template_areas": null,
      "grid_template_columns": null,
      "grid_template_rows": null,
      "height": null,
      "justify_content": null,
      "justify_items": null,
      "left": null,
      "margin": null,
      "max_height": null,
      "max_width": null,
      "min_height": null,
      "min_width": null,
      "object_fit": null,
      "object_position": null,
      "order": null,
      "overflow": null,
      "overflow_x": null,
      "overflow_y": null,
      "padding": null,
      "right": null,
      "top": null,
      "visibility": null,
      "width": null
     }
    },
    "5ec7ceb55669466ea527c847c8711fd8": {
     "model_module": "@jupyter-widgets/controls",
     "model_module_version": "1.5.0",
     "model_name": "HTMLModel",
     "state": {
      "_dom_classes": [],
      "_model_module": "@jupyter-widgets/controls",
      "_model_module_version": "1.5.0",
      "_model_name": "HTMLModel",
      "_view_count": null,
      "_view_module": "@jupyter-widgets/controls",
      "_view_module_version": "1.5.0",
      "_view_name": "HTMLView",
      "description": "",
      "description_tooltip": null,
      "layout": "IPY_MODEL_3bc1693e943347f5b009f2287a2f26cb",
      "placeholder": "​",
      "style": "IPY_MODEL_3260790db19e46ce92bbeb4a3ce42896",
      "value": "100%"
     }
    },
    "615e1bfa222c46a985a9e84b118540dd": {
     "model_module": "@jupyter-widgets/controls",
     "model_module_version": "1.5.0",
     "model_name": "FloatProgressModel",
     "state": {
      "_dom_classes": [],
      "_model_module": "@jupyter-widgets/controls",
      "_model_module_version": "1.5.0",
      "_model_name": "FloatProgressModel",
      "_view_count": null,
      "_view_module": "@jupyter-widgets/controls",
      "_view_module_version": "1.5.0",
      "_view_name": "ProgressView",
      "bar_style": "success",
      "description": "",
      "description_tooltip": null,
      "layout": "IPY_MODEL_cb3ab9d4e60d49a494cdd1942076088c",
      "max": 75000,
      "min": 0,
      "orientation": "horizontal",
      "style": "IPY_MODEL_b99e9a67ad184572823ca09ccfa94d43",
      "value": 75000
     }
    },
    "7ca6db0a51004a62a0c9d79710ce9d42": {
     "model_module": "@jupyter-widgets/base",
     "model_module_version": "1.2.0",
     "model_name": "LayoutModel",
     "state": {
      "_model_module": "@jupyter-widgets/base",
      "_model_module_version": "1.2.0",
      "_model_name": "LayoutModel",
      "_view_count": null,
      "_view_module": "@jupyter-widgets/base",
      "_view_module_version": "1.2.0",
      "_view_name": "LayoutView",
      "align_content": null,
      "align_items": null,
      "align_self": null,
      "border": null,
      "bottom": null,
      "display": null,
      "flex": null,
      "flex_flow": null,
      "grid_area": null,
      "grid_auto_columns": null,
      "grid_auto_flow": null,
      "grid_auto_rows": null,
      "grid_column": null,
      "grid_gap": null,
      "grid_row": null,
      "grid_template_areas": null,
      "grid_template_columns": null,
      "grid_template_rows": null,
      "height": null,
      "justify_content": null,
      "justify_items": null,
      "left": null,
      "margin": null,
      "max_height": null,
      "max_width": null,
      "min_height": null,
      "min_width": null,
      "object_fit": null,
      "object_position": null,
      "order": null,
      "overflow": null,
      "overflow_x": null,
      "overflow_y": null,
      "padding": null,
      "right": null,
      "top": null,
      "visibility": null,
      "width": null
     }
    },
    "9f1de529d7f6462d893f3cd6db633240": {
     "model_module": "@jupyter-widgets/controls",
     "model_module_version": "1.5.0",
     "model_name": "DescriptionStyleModel",
     "state": {
      "_model_module": "@jupyter-widgets/controls",
      "_model_module_version": "1.5.0",
      "_model_name": "DescriptionStyleModel",
      "_view_count": null,
      "_view_module": "@jupyter-widgets/base",
      "_view_module_version": "1.2.0",
      "_view_name": "StyleView",
      "description_width": ""
     }
    },
    "b1d6deca0c3c4b669bc7c038d0b3c129": {
     "model_module": "@jupyter-widgets/controls",
     "model_module_version": "1.5.0",
     "model_name": "HTMLModel",
     "state": {
      "_dom_classes": [],
      "_model_module": "@jupyter-widgets/controls",
      "_model_module_version": "1.5.0",
      "_model_name": "HTMLModel",
      "_view_count": null,
      "_view_module": "@jupyter-widgets/controls",
      "_view_module_version": "1.5.0",
      "_view_name": "HTMLView",
      "description": "",
      "description_tooltip": null,
      "layout": "IPY_MODEL_54ce835aa9bc44f592f3cd5341733dc1",
      "placeholder": "​",
      "style": "IPY_MODEL_c6e423826b08466f955fe41d152bc0d4",
      "value": " 75000/75000 [39:02&lt;00:00, 26.84it/s]"
     }
    },
    "b27d8d192950440eb8f73b128cac9f2d": {
     "model_module": "@jupyter-widgets/base",
     "model_module_version": "1.2.0",
     "model_name": "LayoutModel",
     "state": {
      "_model_module": "@jupyter-widgets/base",
      "_model_module_version": "1.2.0",
      "_model_name": "LayoutModel",
      "_view_count": null,
      "_view_module": "@jupyter-widgets/base",
      "_view_module_version": "1.2.0",
      "_view_name": "LayoutView",
      "align_content": null,
      "align_items": null,
      "align_self": null,
      "border": null,
      "bottom": null,
      "display": null,
      "flex": null,
      "flex_flow": null,
      "grid_area": null,
      "grid_auto_columns": null,
      "grid_auto_flow": null,
      "grid_auto_rows": null,
      "grid_column": null,
      "grid_gap": null,
      "grid_row": null,
      "grid_template_areas": null,
      "grid_template_columns": null,
      "grid_template_rows": null,
      "height": null,
      "justify_content": null,
      "justify_items": null,
      "left": null,
      "margin": null,
      "max_height": null,
      "max_width": null,
      "min_height": null,
      "min_width": null,
      "object_fit": null,
      "object_position": null,
      "order": null,
      "overflow": null,
      "overflow_x": null,
      "overflow_y": null,
      "padding": null,
      "right": null,
      "top": null,
      "visibility": null,
      "width": null
     }
    },
    "b99e9a67ad184572823ca09ccfa94d43": {
     "model_module": "@jupyter-widgets/controls",
     "model_module_version": "1.5.0",
     "model_name": "ProgressStyleModel",
     "state": {
      "_model_module": "@jupyter-widgets/controls",
      "_model_module_version": "1.5.0",
      "_model_name": "ProgressStyleModel",
      "_view_count": null,
      "_view_module": "@jupyter-widgets/base",
      "_view_module_version": "1.2.0",
      "_view_name": "StyleView",
      "bar_color": null,
      "description_width": ""
     }
    },
    "bbe8d63ec4d54288b105be3a728db0fe": {
     "model_module": "@jupyter-widgets/base",
     "model_module_version": "1.2.0",
     "model_name": "LayoutModel",
     "state": {
      "_model_module": "@jupyter-widgets/base",
      "_model_module_version": "1.2.0",
      "_model_name": "LayoutModel",
      "_view_count": null,
      "_view_module": "@jupyter-widgets/base",
      "_view_module_version": "1.2.0",
      "_view_name": "LayoutView",
      "align_content": null,
      "align_items": null,
      "align_self": null,
      "border": null,
      "bottom": null,
      "display": null,
      "flex": null,
      "flex_flow": null,
      "grid_area": null,
      "grid_auto_columns": null,
      "grid_auto_flow": null,
      "grid_auto_rows": null,
      "grid_column": null,
      "grid_gap": null,
      "grid_row": null,
      "grid_template_areas": null,
      "grid_template_columns": null,
      "grid_template_rows": null,
      "height": null,
      "justify_content": null,
      "justify_items": null,
      "left": null,
      "margin": null,
      "max_height": null,
      "max_width": null,
      "min_height": null,
      "min_width": null,
      "object_fit": null,
      "object_position": null,
      "order": null,
      "overflow": null,
      "overflow_x": null,
      "overflow_y": null,
      "padding": null,
      "right": null,
      "top": null,
      "visibility": null,
      "width": null
     }
    },
    "c6e423826b08466f955fe41d152bc0d4": {
     "model_module": "@jupyter-widgets/controls",
     "model_module_version": "1.5.0",
     "model_name": "DescriptionStyleModel",
     "state": {
      "_model_module": "@jupyter-widgets/controls",
      "_model_module_version": "1.5.0",
      "_model_name": "DescriptionStyleModel",
      "_view_count": null,
      "_view_module": "@jupyter-widgets/base",
      "_view_module_version": "1.2.0",
      "_view_name": "StyleView",
      "description_width": ""
     }
    },
    "cb3ab9d4e60d49a494cdd1942076088c": {
     "model_module": "@jupyter-widgets/base",
     "model_module_version": "1.2.0",
     "model_name": "LayoutModel",
     "state": {
      "_model_module": "@jupyter-widgets/base",
      "_model_module_version": "1.2.0",
      "_model_name": "LayoutModel",
      "_view_count": null,
      "_view_module": "@jupyter-widgets/base",
      "_view_module_version": "1.2.0",
      "_view_name": "LayoutView",
      "align_content": null,
      "align_items": null,
      "align_self": null,
      "border": null,
      "bottom": null,
      "display": null,
      "flex": null,
      "flex_flow": null,
      "grid_area": null,
      "grid_auto_columns": null,
      "grid_auto_flow": null,
      "grid_auto_rows": null,
      "grid_column": null,
      "grid_gap": null,
      "grid_row": null,
      "grid_template_areas": null,
      "grid_template_columns": null,
      "grid_template_rows": null,
      "height": null,
      "justify_content": null,
      "justify_items": null,
      "left": null,
      "margin": null,
      "max_height": null,
      "max_width": null,
      "min_height": null,
      "min_width": null,
      "object_fit": null,
      "object_position": null,
      "order": null,
      "overflow": null,
      "overflow_x": null,
      "overflow_y": null,
      "padding": null,
      "right": null,
      "top": null,
      "visibility": null,
      "width": null
     }
    },
    "d82e83798c224c5da3edd1984a75ab70": {
     "model_module": "@jupyter-widgets/controls",
     "model_module_version": "1.5.0",
     "model_name": "DescriptionStyleModel",
     "state": {
      "_model_module": "@jupyter-widgets/controls",
      "_model_module_version": "1.5.0",
      "_model_name": "DescriptionStyleModel",
      "_view_count": null,
      "_view_module": "@jupyter-widgets/base",
      "_view_module_version": "1.2.0",
      "_view_name": "StyleView",
      "description_width": ""
     }
    },
    "dc00f53245b54d89ad8432d623d6db8f": {
     "model_module": "@jupyter-widgets/base",
     "model_module_version": "1.2.0",
     "model_name": "LayoutModel",
     "state": {
      "_model_module": "@jupyter-widgets/base",
      "_model_module_version": "1.2.0",
      "_model_name": "LayoutModel",
      "_view_count": null,
      "_view_module": "@jupyter-widgets/base",
      "_view_module_version": "1.2.0",
      "_view_name": "LayoutView",
      "align_content": null,
      "align_items": null,
      "align_self": null,
      "border": null,
      "bottom": null,
      "display": null,
      "flex": null,
      "flex_flow": null,
      "grid_area": null,
      "grid_auto_columns": null,
      "grid_auto_flow": null,
      "grid_auto_rows": null,
      "grid_column": null,
      "grid_gap": null,
      "grid_row": null,
      "grid_template_areas": null,
      "grid_template_columns": null,
      "grid_template_rows": null,
      "height": null,
      "justify_content": null,
      "justify_items": null,
      "left": null,
      "margin": null,
      "max_height": null,
      "max_width": null,
      "min_height": null,
      "min_width": null,
      "object_fit": null,
      "object_position": null,
      "order": null,
      "overflow": null,
      "overflow_x": null,
      "overflow_y": null,
      "padding": null,
      "right": null,
      "top": null,
      "visibility": null,
      "width": null
     }
    },
    "e68d18b52fd646ed9919ba5c1844d5cf": {
     "model_module": "@jupyter-widgets/controls",
     "model_module_version": "1.5.0",
     "model_name": "FloatProgressModel",
     "state": {
      "_dom_classes": [],
      "_model_module": "@jupyter-widgets/controls",
      "_model_module_version": "1.5.0",
      "_model_name": "FloatProgressModel",
      "_view_count": null,
      "_view_module": "@jupyter-widgets/controls",
      "_view_module_version": "1.5.0",
      "_view_name": "ProgressView",
      "bar_style": "success",
      "description": "",
      "description_tooltip": null,
      "layout": "IPY_MODEL_dc00f53245b54d89ad8432d623d6db8f",
      "max": 75000,
      "min": 0,
      "orientation": "horizontal",
      "style": "IPY_MODEL_215c199f3d694895a062d1c5aac4ee04",
      "value": 75000
     }
    },
    "f6fb860229f147baa6c5efbe3e3c43c3": {
     "model_module": "@jupyter-widgets/base",
     "model_module_version": "1.2.0",
     "model_name": "LayoutModel",
     "state": {
      "_model_module": "@jupyter-widgets/base",
      "_model_module_version": "1.2.0",
      "_model_name": "LayoutModel",
      "_view_count": null,
      "_view_module": "@jupyter-widgets/base",
      "_view_module_version": "1.2.0",
      "_view_name": "LayoutView",
      "align_content": null,
      "align_items": null,
      "align_self": null,
      "border": null,
      "bottom": null,
      "display": null,
      "flex": null,
      "flex_flow": null,
      "grid_area": null,
      "grid_auto_columns": null,
      "grid_auto_flow": null,
      "grid_auto_rows": null,
      "grid_column": null,
      "grid_gap": null,
      "grid_row": null,
      "grid_template_areas": null,
      "grid_template_columns": null,
      "grid_template_rows": null,
      "height": null,
      "justify_content": null,
      "justify_items": null,
      "left": null,
      "margin": null,
      "max_height": null,
      "max_width": null,
      "min_height": null,
      "min_width": null,
      "object_fit": null,
      "object_position": null,
      "order": null,
      "overflow": null,
      "overflow_x": null,
      "overflow_y": null,
      "padding": null,
      "right": null,
      "top": null,
      "visibility": null,
      "width": null
     }
    }
   }
  }
 },
 "nbformat": 4,
 "nbformat_minor": 1
}
