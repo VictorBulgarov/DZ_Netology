{
 "cells": [
  {
   "cell_type": "markdown",
   "id": "b04c3146",
   "metadata": {},
   "source": [
    "## Домашнее задание к лекции «Случайные события. Случайные величины»\n",
    "\n",
    "Текст задания см. на скриншоте http://prntscr.com/uh35yg\n",
    "\n",
    "Смоделировать игру против лотерейного автомата типа “777”. Игрок платит 1 руб., после чего выпадает случайное целое число, равномерно распределенное от 0 до 999. При некоторых значениях числа игрок получает выигрыш.\n",
    "\n",
    "777: 200 руб.\n",
    "999: 100 руб.\n",
    "555: 50 руб.\n",
    "333: 15 руб.\n",
    "111: 10 руб.\n",
    "*77: 5 руб.\n",
    "**7: 3 руб.\n",
    "*00: 2 руб.\n",
    "**0: 1 руб.\n",
    "\n",
    "Вопросы:\n",
    "\n",
    "Выгодна ли игра игроку?\n",
    "Сколько в среднем приобретает или теряет игрок за одну игру?\n"
   ]
  },
  {
   "cell_type": "code",
   "execution_count": null,
   "id": "2853647f",
   "metadata": {},
   "outputs": [],
   "source": []
  },
  {
   "cell_type": "code",
   "execution_count": 1,
   "id": "0d9e3c19",
   "metadata": {},
   "outputs": [],
   "source": [
    "import numpy as np"
   ]
  },
  {
   "cell_type": "code",
   "execution_count": 2,
   "id": "229eb4aa",
   "metadata": {},
   "outputs": [
    {
     "name": "stdout",
     "output_type": "stream",
     "text": [
      "800\n",
      "204\n"
     ]
    }
   ],
   "source": [
    "# Найдем количество выигрышных чисел от 0 до 999\n",
    "\n",
    "win_number = 0     # выигрышное число\n",
    "win_summ = 0       # сумма выигрыша\n",
    "\n",
    "for i in range(0, 1000):\n",
    "    if i == 777:\n",
    "        win_number += 1\n",
    "        win_summ += 200\n",
    "    elif i == 999:\n",
    "        win_number += 1\n",
    "        win_summ += 100     \n",
    "    elif i == 555:\n",
    "        win_number += 1\n",
    "        win_summ += 50\n",
    "    elif i == 333:\n",
    "        win_number += 1\n",
    "        win_summ += 15\n",
    "    elif i == 111:\n",
    "        win_number += 1\n",
    "        win_summ += 10\n",
    "    elif i % 100 == 77:\n",
    "        win_number += 1\n",
    "        win_summ += 5\n",
    "    elif i % 100 == 0:\n",
    "        win_number += 1\n",
    "        win_summ += 2    \n",
    "    elif i % 10 == 7:\n",
    "        win_number += 1\n",
    "        win_summ += 3\n",
    "    elif i % 10 == 0:\n",
    "        win_number += 1\n",
    "        win_summ += 1    \n",
    "    \n",
    "print(win_summ)#Сумма выигрыша\n",
    "print(win_number)#Количество выигрышных чисел"
   ]
  },
  {
   "cell_type": "code",
   "execution_count": 3,
   "id": "e08b2b41",
   "metadata": {},
   "outputs": [
    {
     "name": "stdout",
     "output_type": "stream",
     "text": [
      "количество попыток: 1000000\n",
      "количество побед: 224807\n",
      "доход: -152583\n",
      "процент выигрышей: 22.5%\n",
      "теоретический процент выигрышей: 20.4%\n"
     ]
    }
   ],
   "source": [
    "trials = 1000000   # Количество попыток\n",
    "successes = 0    # Количество побед\n",
    "winsum = 0       # Сумма выигрыша\n",
    "\n",
    "data = {'777':200, '999':100, '555':50, '333':15, '111':10, '77':5, '7':3, '00':2, '0':1}\n",
    "l = 3 # длина числа\n",
    "\n",
    "\n",
    "for i in range(trials):\n",
    "    random_score = ''\n",
    "    for i in range(l): random_score += str(np.random.randint(0, 10)) # Случайное количество очков\n",
    "        \n",
    "    for i in range(l):\n",
    "        if random_score[i-1:] in data.keys():\n",
    "            successes += 1\n",
    "            winsum += data[random_score[i-1:]]\n",
    "   \n",
    "        \n",
    "p_monte_carlo = round(successes / trials, 3) # Вероятность из моделирования\n",
    "p = win_number / 1000                               # Теоретическая вероятность (количество выигрышных чисел из всех чисел от 0 до 999)\n",
    "\n",
    "print(\"количество попыток: \" + str(trials) + '\\n' + \"количество побед: \" + str(successes) + '\\n' + \"доход: \" + str(winsum - trials)  + '\\n' + \"процент выигрышей: \" + str(p_monte_carlo*100) + \"%\" + '\\n' + \"теоретический процент выигрышей: \" + str(p*100) + \"%\")"
   ]
  },
  {
   "cell_type": "code",
   "execution_count": 4,
   "id": "02f3260e",
   "metadata": {},
   "outputs": [],
   "source": [
    "#Теряется около 20 копеек за игру. Игра для игрока невыгодна."
   ]
  },
  {
   "cell_type": "code",
   "execution_count": null,
   "id": "0c8f9236",
   "metadata": {},
   "outputs": [],
   "source": []
  }
 ],
 "metadata": {
  "kernelspec": {
   "display_name": "Python 3",
   "language": "python",
   "name": "python3"
  },
  "language_info": {
   "codemirror_mode": {
    "name": "ipython",
    "version": 3
   },
   "file_extension": ".py",
   "mimetype": "text/x-python",
   "name": "python",
   "nbconvert_exporter": "python",
   "pygments_lexer": "ipython3",
   "version": "3.8.8"
  }
 },
 "nbformat": 4,
 "nbformat_minor": 5
}
