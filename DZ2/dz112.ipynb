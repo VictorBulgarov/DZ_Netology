{
 "cells": [
  {
   "cell_type": "code",
   "execution_count": null,
   "metadata": {},
   "outputs": [],
   "source": [
    "#Сравнение длин двух фраз"
   ]
  },
  {
   "cell_type": "code",
   "execution_count": null,
   "metadata": {},
   "outputs": [],
   "source": [
    "phrase_1=input(\"Введите первую фразу: \")#Вводим первую фразу"
   ]
  },
  {
   "cell_type": "code",
   "execution_count": 11,
   "metadata": {},
   "outputs": [
    {
     "name": "stdout",
     "output_type": "stream",
     "text": [
      "Введите вторую фразу: re\n"
     ]
    }
   ],
   "source": [
    "phrase_2=input(\"Введите вторую фразу: \")#Вводим вторую фразу"
   ]
  },
  {
   "cell_type": "code",
   "execution_count": 12,
   "metadata": {},
   "outputs": [
    {
     "name": "stdout",
     "output_type": "stream",
     "text": [
      "равно\n"
     ]
    }
   ],
   "source": [
    "#Проверка условий\n",
    "if len(phrase_1)>len(phrase_2):\n",
    "    print(\"1>2\")\n",
    "elif len(phrase_1)<len(phrase_2):\n",
    "    print(\"2>1\")\n",
    "else:\n",
    "    print(\"равно\")#Вывод результата на экран"
   ]
  }
 ],
 "metadata": {
  "kernelspec": {
   "display_name": "Python 3",
   "language": "python",
   "name": "python3"
  },
  "language_info": {
   "codemirror_mode": {
    "name": "ipython",
    "version": 3
   },
   "file_extension": ".py",
   "mimetype": "text/x-python",
   "name": "python",
   "nbconvert_exporter": "python",
   "pygments_lexer": "ipython3",
   "version": "3.8.5"
  }
 },
 "nbformat": 4,
 "nbformat_minor": 4
}
