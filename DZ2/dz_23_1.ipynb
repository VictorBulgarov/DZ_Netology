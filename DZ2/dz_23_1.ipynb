{
 "cells": [
  {
   "cell_type": "code",
   "execution_count": 1,
   "metadata": {},
   "outputs": [],
   "source": [
    "#программа, которая будет запрашивать у пользователя месяц и дату рождения и выводить соответствующий знак зодиака"
   ]
  },
  {
   "cell_type": "code",
   "execution_count": 23,
   "metadata": {},
   "outputs": [
    {
     "name": "stdout",
     "output_type": "stream",
     "text": [
      "День рождения 1-31: 1\n"
     ]
    }
   ],
   "source": [
    "day=int(input(\"День рождения 1-31: \"))"
   ]
  },
  {
   "cell_type": "code",
   "execution_count": 24,
   "metadata": {},
   "outputs": [
    {
     "name": "stdout",
     "output_type": "stream",
     "text": [
      "Месяц рождения: 1-12 2\n"
     ]
    }
   ],
   "source": [
    "month=int(input(\"Месяц рождения: 1-12 \"))"
   ]
  },
  {
   "cell_type": "code",
   "execution_count": 25,
   "metadata": {},
   "outputs": [
    {
     "name": "stdout",
     "output_type": "stream",
     "text": [
      "Год рождения: 1900-2021 2000\n"
     ]
    }
   ],
   "source": [
    "year=int(input(\"Год рождения: 1900-2021 \"))"
   ]
  },
  {
   "cell_type": "code",
   "execution_count": 27,
   "metadata": {},
   "outputs": [
    {
     "name": "stdout",
     "output_type": "stream",
     "text": [
      "Знак зодиака:Овен\n"
     ]
    }
   ],
   "source": [
    "if (day>=21 and day<=31 and month==1) or( month==2 and day>=1 and day<=19):\n",
    "   print(\"Знак зодиака:Овен\")\n",
    "elif (day>=20 and day<=29 and month==2) or( month==3 and day>=1 and day<=20):\n",
    "    print(\"Знак зодиака: Рыбы\")\n",
    "elif (day>=21 and day<=31 and month==3) or( month==4 and day>=1 and day<=20):\n",
    "    print(\"Знак зодиака: Овен\")\n",
    "elif (day>=21 and day<=31 and month==4) or( month==5 and day>=1 and day<=21):\n",
    "    print(\"Знак зодиака: Телец\")\n",
    "elif (day>=22 and day<=31 and month==5) or( month==6 and day>=1 and day<=21):\n",
    "    print(\"Знак зодиака: Близнецы\")\n",
    "elif (day>=22 and day<=31 and month==6) or( month==7 and day>=1 and day<=22):\n",
    "    print(\"Знак зодиака: Рак\")\n",
    "elif (day>=23 and day<=31 and month==7) or( month==8 and day>=1 and day<=21):\n",
    "    print(\"Знак зодиака: Лев\")\n",
    "elif (day>=22 and day<=31 and month==8) or( month==9 and day>=1 and day<=23):\n",
    "    print(\"Знак зодиака: Дева\")\n",
    "elif (day>=24 and day<=31 and month==9) or( month==10 and day>=1 and day<=23):\n",
    "    print(\"Знак зодиака: Весы\")\n",
    "elif (day>=24 and day<=31 and month==10) or( month==11 and day>=1 and day<=22):\n",
    "    print(\"Знак зодиака: Скорпион\")\n",
    "elif (day>=23 and day<=31 and month==11) or( month==12 and day>=1 and day<=20):\n",
    "    print(\"Знак зодиака: Козерог\")"
   ]
  }
 ],
 "metadata": {
  "kernelspec": {
   "display_name": "Python 3",
   "language": "python",
   "name": "python3"
  },
  "language_info": {
   "codemirror_mode": {
    "name": "ipython",
    "version": 3
   },
   "file_extension": ".py",
   "mimetype": "text/x-python",
   "name": "python",
   "nbconvert_exporter": "python",
   "pygments_lexer": "ipython3",
   "version": "3.8.5"
  }
 },
 "nbformat": 4,
 "nbformat_minor": 4
}
