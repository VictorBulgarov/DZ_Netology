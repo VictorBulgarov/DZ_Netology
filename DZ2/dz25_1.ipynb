{
 "cells": [
  {
   "cell_type": "code",
   "execution_count": 1,
   "metadata": {},
   "outputs": [],
   "source": [
    "#Дана переменная, в которой хранится шестизначное число (номер проездного билета). \n",
    "#Напишите программу, которая будет определять, является ли данный билет “счастливым”. \n",
    "#Билет считается счастливым, если сумма первых трех цифр совпадает с суммой последних трех цифр номера."
   ]
  },
  {
   "cell_type": "code",
   "execution_count": 14,
   "metadata": {},
   "outputs": [
    {
     "name": "stdout",
     "output_type": "stream",
     "text": [
      "Введите шестизначное чило, номер билета: ,123321\n"
     ]
    }
   ],
   "source": [
    "bilet=str(input(\"Введите шестизначное чило, номер билета: ,\"))"
   ]
  },
  {
   "cell_type": "code",
   "execution_count": 15,
   "metadata": {},
   "outputs": [],
   "source": [
    "levo=int(bilet[0])+int(bilet[1])+int(bilet[2])#Сумма чисел билета слева"
   ]
  },
  {
   "cell_type": "code",
   "execution_count": 16,
   "metadata": {},
   "outputs": [],
   "source": [
    "pravo=int(bilet[3])+int(bilet[4])+int(bilet[5])#Сумма чисел билета справа"
   ]
  },
  {
   "cell_type": "code",
   "execution_count": 17,
   "metadata": {},
   "outputs": [
    {
     "name": "stdout",
     "output_type": "stream",
     "text": [
      "Счастливый билет\n"
     ]
    }
   ],
   "source": [
    "if levo==pravo:\n",
    "    print(\"Счастливый билет\")\n",
    "else:\n",
    "    print(\"Обычный билет\")"
   ]
  }
 ],
 "metadata": {
  "kernelspec": {
   "display_name": "Python 3",
   "language": "python",
   "name": "python3"
  },
  "language_info": {
   "codemirror_mode": {
    "name": "ipython",
    "version": 3
   },
   "file_extension": ".py",
   "mimetype": "text/x-python",
   "name": "python",
   "nbconvert_exporter": "python",
   "pygments_lexer": "ipython3",
   "version": "3.8.5"
  }
 },
 "nbformat": 4,
 "nbformat_minor": 4
}
