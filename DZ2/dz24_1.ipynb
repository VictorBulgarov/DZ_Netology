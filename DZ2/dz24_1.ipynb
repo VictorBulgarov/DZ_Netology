{
 "cells": [
  {
   "cell_type": "code",
   "execution_count": 4,
   "metadata": {},
   "outputs": [],
   "source": [
    "#программа для подбора упаковок по размерам товара\n",
    "#если каждое из трех измерений менее 15 сантиметров, то выведите на экран “Коробка №1”;\n",
    "#если хотя бы одно из измерений больше 15 сантиметров, но менее 50 сантиметров, то выводите “Коробка №2”;\n",
    "#если длина товара больше 2 метров, то выводите “Упаковка для лыж”;\n",
    "#во всех остальных случаях выводите “Стандартная коробка №3”."
   ]
  },
  {
   "cell_type": "code",
   "execution_count": 47,
   "metadata": {},
   "outputs": [
    {
     "name": "stdout",
     "output_type": "stream",
     "text": [
      "Введите ширину в сантиметрах: 60\n"
     ]
    }
   ],
   "source": [
    "width=int(input(\"Введите ширину в сантиметрах: \"))#Ширина"
   ]
  },
  {
   "cell_type": "code",
   "execution_count": 50,
   "metadata": {},
   "outputs": [
    {
     "name": "stdout",
     "output_type": "stream",
     "text": [
      "Введите длину в сантиметрах: 60\n"
     ]
    }
   ],
   "source": [
    "length=int(input(\"Введите длину в сантиметрах: \"))#Длина"
   ]
  },
  {
   "cell_type": "code",
   "execution_count": 48,
   "metadata": {},
   "outputs": [
    {
     "name": "stdout",
     "output_type": "stream",
     "text": [
      "Введите высоту в сантиметрах: 60\n"
     ]
    }
   ],
   "source": [
    "height=int(input(\"Введите высоту в сантиметрах: \"))#Высота"
   ]
  },
  {
   "cell_type": "code",
   "execution_count": 51,
   "metadata": {},
   "outputs": [
    {
     "name": "stdout",
     "output_type": "stream",
     "text": [
      "Стандартная коробка №3\n"
     ]
    }
   ],
   "source": [
    "if (width<15 and length<15 and height<15):\n",
    "    print(\"Коробка №1\")\n",
    "elif (15 <width <= 50 or 15 <length <= 50 or 15<height <= 50):\n",
    "    print(\"Коробка №2\")\n",
    "elif (length > 200):\n",
    "    print(\"Упаковка для лыж\")\n",
    "else:\n",
    "    print(\"Стандартная коробка №3\")"
   ]
  }
 ],
 "metadata": {
  "kernelspec": {
   "display_name": "Python 3",
   "language": "python",
   "name": "python3"
  },
  "language_info": {
   "codemirror_mode": {
    "name": "ipython",
    "version": 3
   },
   "file_extension": ".py",
   "mimetype": "text/x-python",
   "name": "python",
   "nbconvert_exporter": "python",
   "pygments_lexer": "ipython3",
   "version": "3.8.5"
  }
 },
 "nbformat": 4,
 "nbformat_minor": 4
}
