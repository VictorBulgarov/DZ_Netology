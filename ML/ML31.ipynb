{
 "cells": [
  {
   "cell_type": "code",
   "execution_count": 1,
   "id": "12588fa2",
   "metadata": {},
   "outputs": [],
   "source": [
    "import numpy as np\n",
    "from sklearn.datasets import make_blobs\n",
    "from sklearn.model_selection import train_test_split\n",
    "from sklearn.metrics import accuracy_score\n",
    "import matplotlib.pyplot as plt"
   ]
  },
  {
   "cell_type": "code",
   "execution_count": 2,
   "id": "11e60062",
   "metadata": {},
   "outputs": [],
   "source": [
    "import pandas as pd\n",
    "import numpy as np\n",
    "import math\n",
    "from sklearn.datasets import load_iris"
   ]
  },
  {
   "cell_type": "code",
   "execution_count": 30,
   "id": "4abd58ca",
   "metadata": {},
   "outputs": [],
   "source": [
    "X,y = load_iris(return_X_y=True)\n",
    "filter = y != 2              # накладываем фильтр - только 2 признака\n",
    "X = X[filter]\n",
    "y = y[filter]\n",
    "\n",
    "COEFS = np.random.randn(5)   # генерируем случайные коэффициенты"
   ]
  },
  {
   "cell_type": "code",
   "execution_count": 31,
   "id": "9bf89742",
   "metadata": {},
   "outputs": [],
   "source": [
    "def predict_proba(coefs, x):\n",
    "    # формула логистической регрессии:\n",
    "    asarray_c = np.squeeze(np.asarray(coefs[:4]))\n",
    "    asarray_x = np.squeeze(np.asarray(x))\n",
    "    return 1. / (1. + np.exp( -(asarray_x.dot(asarray_c) + coefs[-1])))"
   ]
  },
  {
   "cell_type": "code",
   "execution_count": 32,
   "id": "741894ca",
   "metadata": {},
   "outputs": [],
   "source": [
    "# теперь на основе модели предсказываем класс (но модель пока не обучена: \n",
    "# это сделаем градиентным спуском чуть позже)\n",
    "def predict_class(coefs, x):\n",
    "    probas = predict_proba(coefs, x)\n",
    "    return (probas > 0.5).astype(np.float)"
   ]
  },
  {
   "cell_type": "code",
   "execution_count": 33,
   "id": "e36c0344",
   "metadata": {},
   "outputs": [],
   "source": [
    "# явно прописываем функцию потерь на основе ее формулы\n",
    "def bce_loss(coefs, x, y):\n",
    "    probas = predict_proba(coefs, x)\n",
    "    filter_ones = y == 1\n",
    "    loss = -1. * (np.sum(np.log(probas[filter_ones])) + np.sum(np.log(1. - probas[~filter_ones]))) / len(y)\n",
    "    return loss"
   ]
  },
  {
   "cell_type": "code",
   "execution_count": 34,
   "id": "7b1d88b8",
   "metadata": {},
   "outputs": [],
   "source": [
    "# расчет градиента:\n",
    "# он зависит от двух сущностей: от модели и функции потерь\n",
    "def grad(coefs, x, y, sgd=0):\n",
    "    probas = predict_proba(coefs, x)\n",
    "    delta = probas - y\n",
    "    modified_x = x.T * delta\n",
    "    deltas = np.mean(modified_x, axis=1)\n",
    "    if sgd == 1:\n",
    "        return deltas, np.mean(delta)\n",
    "    return *deltas, np.mean(delta)"
   ]
  },
  {
   "cell_type": "code",
   "execution_count": 35,
   "id": "51b079fb",
   "metadata": {},
   "outputs": [],
   "source": [
    "# обучение модели методом градиентного спуска\n",
    "def learn_sgd(coefs, x, y, num_epochs=32, learning_rate=0.1):\n",
    "    losses = []\n",
    "    new_coefs = coefs\n",
    "    for e in range(num_epochs):\n",
    "        grad_coefs, grad_bias = grad(coefs, x, y, 1)\n",
    "        new_coefs[:-1] = new_coefs[:-1] - learning_rate * grad_coefs\n",
    "        new_coefs[-1] = new_coefs[-1] - learning_rate * grad_bias\n",
    "        loss = bce_loss(new_coefs, x, y)\n",
    "        losses.append(loss)\n",
    "    return losses, new_coefs"
   ]
  },
  {
   "cell_type": "code",
   "execution_count": 36,
   "id": "769de8fb",
   "metadata": {},
   "outputs": [],
   "source": [
    "loss_1, coefs_1 = learn_sgd(COEFS, X, y)"
   ]
  },
  {
   "cell_type": "code",
   "execution_count": 37,
   "id": "8085b542",
   "metadata": {},
   "outputs": [
    {
     "data": {
      "image/png": "[encoded data removed]",
      "text/plain": [
       "<Figure size 432x288 with 1 Axes>"
      ]
     },
     "metadata": {
      "needs_background": "light"
     },
     "output_type": "display_data"
    }
   ],
   "source": [
    "plt.plot(loss_1)\n",
    "plt.show()"
   ]
  },
  {
   "cell_type": "code",
   "execution_count": 38,
   "id": "63099c55",
   "metadata": {},
   "outputs": [],
   "source": [
    "def learn_nesterov(coefs, x, y, num_epochs=32, momentum=0.9, learning_rate=0.1):\n",
    "    v_t = [0 for _ in range(len(coefs))]\n",
    "    losses = []\n",
    "    new_coefs = coefs\n",
    "    for it in range(num_epochs):\n",
    "        pr_coefs  = [coefs[i] - momentum*v_t[i] for i in range(len(coefs))]\n",
    "        gr_coefs = grad(pr_coefs, x, y)\n",
    "        for i in range(len(coefs)):\n",
    "            v_t[i] = momentum*v_t[i] + learning_rate*gr_coefs[i]\n",
    "            new_coefs[i] = coefs[i] - v_t[i]\n",
    "        losses.append(bce_loss(new_coefs, x, y))\n",
    "    return losses, new_coefs"
   ]
  },
  {
   "cell_type": "code",
   "execution_count": 39,
   "id": "487f575b",
   "metadata": {},
   "outputs": [],
   "source": [
    "loss_2, coefs_2 = learn_nesterov(COEFS, X, y)"
   ]
  },
  {
   "cell_type": "code",
   "execution_count": 40,
   "id": "3a7478c5",
   "metadata": {},
   "outputs": [
    {
     "data": {
      "image/png": "[encoded data removed]",
      "text/plain": [
       "<Figure size 432x288 with 1 Axes>"
      ]
     },
     "metadata": {
      "needs_background": "light"
     },
     "output_type": "display_data"
    }
   ],
   "source": [
    "plt.plot(loss_2)\n",
    "plt.show()"
   ]
  },
  {
   "cell_type": "code",
   "execution_count": 41,
   "id": "d4959ac5",
   "metadata": {},
   "outputs": [],
   "source": [
    "def learn_RMSprop(coefs, x, y, num_epochs=32, momentum=0.9, learning_rate=0.1):\n",
    "    e = 10**(-8)\n",
    "    S = [0 for _ in range(len(coefs))]\n",
    "    losses =[]\n",
    "    new_coefs = coefs\n",
    "    for it in range(num_epochs):\n",
    "        gr_coefs = grad(new_coefs, x, y)\n",
    "        gr_coefs_2 = [x**2 for x in gr_coefs]\n",
    "        for i in range(len(coefs)):\n",
    "            S[i]=momentum*S[i] + (1-momentum)*gr_coefs_2[i]\n",
    "            new_coefs[i] = new_coefs[i]-learning_rate* (gr_coefs[i]/(math.sqrt(S[i])+e))  \n",
    "        losses.append(bce_loss(new_coefs, x, y))\n",
    "    return losses, new_coefs"
   ]
  },
  {
   "cell_type": "code",
   "execution_count": 42,
   "id": "07b553da",
   "metadata": {},
   "outputs": [],
   "source": [
    "loss_3, coefs_3 = learn_RMSprop(COEFS, X, y)"
   ]
  },
  {
   "cell_type": "code",
   "execution_count": 43,
   "id": "b07834f2",
   "metadata": {},
   "outputs": [
    {
     "data": {
      "image/png": "[encoded data removed]",
      "text/plain": [
       "<Figure size 432x288 with 1 Axes>"
      ]
     },
     "metadata": {
      "needs_background": "light"
     },
     "output_type": "display_data"
    }
   ],
   "source": [
    "plt.plot(loss_3)\n",
    "plt.show()"
   ]
  }
 ],
 "metadata": {
  "hide_input": false,
  "kernelspec": {
   "display_name": "Python 3",
   "language": "python",
   "name": "python3"
  },
  "language_info": {
   "codemirror_mode": {
    "name": "ipython",
    "version": 3
   },
   "file_extension": ".py",
   "mimetype": "text/x-python",
   "name": "python",
   "nbconvert_exporter": "python",
   "pygments_lexer": "ipython3",
   "version": "3.8.8"
  },
  "toc": {
   "base_numbering": 1,
   "nav_menu": {},
   "number_sections": true,
   "sideBar": true,
   "skip_h1_title": false,
   "title_cell": "Table of Contents",
   "title_sidebar": "Contents",
   "toc_cell": false,
   "toc_position": {},
   "toc_section_display": true,
   "toc_window_display": false
  },
  "varInspector": {
   "cols": {
    "lenName": 16,
    "lenType": 16,
    "lenVar": 40
   },
   "kernels_config": {
    "python": {
     "delete_cmd_postfix": "",
     "delete_cmd_prefix": "del ",
     "library": "var_list.py",
     "varRefreshCmd": "print(var_dic_list())"
    },
    "r": {
     "delete_cmd_postfix": ") ",
     "delete_cmd_prefix": "rm(",
     "library": "var_list.r",
     "varRefreshCmd": "cat(var_dic_list()) "
    }
   },
   "types_to_exclude": [
    "module",
    "function",
    "builtin_function_or_method",
    "instance",
    "_Feature"
   ],
   "window_display": false
  }
 },
 "nbformat": 4,
 "nbformat_minor": 5
}
