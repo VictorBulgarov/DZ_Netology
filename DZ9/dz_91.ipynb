{
 "cells": [
  {
   "cell_type": "markdown",
   "metadata": {},
   "source": [
    "## Домашнее задание\n",
    "\n",
    "Переведите содержимое файла purchase_log.txt в словарь purchases вида:\n",
    "{‘1840e0b9d4’: ‘Продукты’, …}\n",
    "Для каждого user_id в файле visit_log.csv определите третий столбец с категорией покупки (если покупка была, сам файл visit_log.csv изменять не надо). Запишите в файл funnel.csv визиты из файла visit_log.csv, в которых были покупки с указанием категории.\n",
    "Учтите условия на данные:\n",
    "содержимое purchase_log.txt помещается в оперативную память компьютера\n",
    "содержимое visit_log.csv - нет; используйте только построчную обработку этого файла"
   ]
  },
  {
   "cell_type": "code",
   "execution_count": null,
   "metadata": {},
   "outputs": [],
   "source": []
  },
  {
   "cell_type": "code",
   "execution_count": 1,
   "metadata": {},
   "outputs": [],
   "source": [
    "import json"
   ]
  },
  {
   "cell_type": "code",
   "execution_count": 2,
   "metadata": {},
   "outputs": [],
   "source": [
    "dict_purchases = {}\n",
    "\n",
    "with open('purchase_log.txt', encoding='utf-8') as f:\n",
    "    for line in f: #перебор файла по строкам\n",
    "        line = line.strip()\n",
    "        dict_ = json.loads(line)\n",
    "        key = dict_['user_id'] #ключ\n",
    "        value = dict_['category'] #значение\n",
    "        if key != 'user_id':\n",
    "            dict_purchases.setdefault(key,value)"
   ]
  },
  {
   "cell_type": "code",
   "execution_count": 4,
   "metadata": {},
   "outputs": [],
   "source": [
    "with open('visit_log.csv', 'r') as f, open('funnel.csv', 'w', encoding='utf-8') as f_2:#открываем первый файл на чтение второй создаем на запись\n",
    "    for row in f:\n",
    "        line_list = row.strip().split(',')\n",
    "        if line_list[0] in dict_purchases.keys():\n",
    "            line_list.append(dict_purchases[line_list[0]])\n",
    "            add_line = ','.join(line_list)\n",
    "        elif line_list[0] == 'user_id':\n",
    "            line_list.append('category')\n",
    "            add_line = ','.join(line_list)\n",
    "        else:\n",
    "            add_line = ','.join(line_list)\n",
    "        f_2.write(add_line + '\\n')"
   ]
  },
  {
   "cell_type": "code",
   "execution_count": null,
   "metadata": {},
   "outputs": [],
   "source": []
  }
 ],
 "metadata": {
  "kernelspec": {
   "display_name": "Python 3",
   "language": "python",
   "name": "python3"
  },
  "language_info": {
   "codemirror_mode": {
    "name": "ipython",
    "version": 3
   },
   "file_extension": ".py",
   "mimetype": "text/x-python",
   "name": "python",
   "nbconvert_exporter": "python",
   "pygments_lexer": "ipython3",
   "version": "3.8.5"
  }
 },
 "nbformat": 4,
 "nbformat_minor": 4
}
