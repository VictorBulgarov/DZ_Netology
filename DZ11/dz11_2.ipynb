{
 "cells": [
  {
   "cell_type": "markdown",
   "metadata": {},
   "source": [
    "## Задание № 0\n",
    "Найдите минимально необходимый объем выборки для построения интервальной оценки среднего.\n",
    "желаемая точность  Δ\n",
    "Δ\n",
    "  = 3;\n",
    "дисперсия  𝜎2\n",
    "σ\n",
    "2\n",
    "  = 225;\n",
    "уровень доверия  𝛽\n",
    "β\n",
    "  = 0.95.\n",
    "Ответ округлите до целого"
   ]
  },
  {
   "cell_type": "code",
   "execution_count": null,
   "metadata": {},
   "outputs": [],
   "source": []
  },
  {
   "cell_type": "code",
   "execution_count": 3,
   "metadata": {},
   "outputs": [],
   "source": [
    "import numpy as np\n",
    "import pandas as pd\n",
    "import matplotlib.pyplot as plt"
   ]
  },
  {
   "cell_type": "code",
   "execution_count": 51,
   "metadata": {},
   "outputs": [
    {
     "name": "stdout",
     "output_type": "stream",
     "text": [
      " минимально необходимый объем выборки n = 96\n"
     ]
    }
   ],
   "source": [
    "sigma = 15\n",
    "delta = 3\n",
    "n = int((sigma * sp.norm().ppf(0.975) / delta) ** 2)\n",
    "print(f' минимально необходимый объем выборки n = {n}')"
   ]
  },
  {
   "cell_type": "code",
   "execution_count": null,
   "metadata": {},
   "outputs": [],
   "source": []
  },
  {
   "cell_type": "markdown",
   "metadata": {},
   "source": [
    "## Задание № 1\n",
    "Постройте 98% доверительный интервал для среднего значения, если известно, что\n",
    "объем выборки n = 25;\n",
    "среднее значение по выборке  𝑥⎯⎯⎯\n",
    "x\n",
    "¯\n",
    "  = 130;\n",
    "Из достоверных источников известно стандартное отклонение  𝜎=15\n",
    "σ\n",
    "=\n",
    "15\n",
    " .\n",
    "В ответ укажите длину полученного доверительного интервала (разницу между правым и левым концом), окруленную до целого"
   ]
  },
  {
   "cell_type": "code",
   "execution_count": null,
   "metadata": {},
   "outputs": [],
   "source": []
  },
  {
   "cell_type": "code",
   "execution_count": 6,
   "metadata": {},
   "outputs": [],
   "source": [
    "def confidence_interval(N, sigma, x_mean):\n",
    "    return (x_mean - (sigma*sp.norm().ppf(0.99))/np.sqrt(N)), (x_mean + (sigma*sp.norm().ppf(0.99))/np.sqrt(N))"
   ]
  },
  {
   "cell_type": "code",
   "execution_count": 7,
   "metadata": {},
   "outputs": [
    {
     "data": {
      "text/plain": [
       "13"
      ]
     },
     "execution_count": 7,
     "metadata": {},
     "output_type": "execute_result"
    }
   ],
   "source": [
    "x, y = confidence_interval(25, 15, 130)\n",
    "int(y-x)"
   ]
  },
  {
   "cell_type": "code",
   "execution_count": null,
   "metadata": {},
   "outputs": [],
   "source": []
  },
  {
   "cell_type": "markdown",
   "metadata": {},
   "source": [
    "## Задание № 2\n",
    "Даны две выборки роста мужчин и женщин.\n",
    "Докажите, используя t-Тест Стьдента, что различие между выборками незначительно, если уровень значимости равен  𝛼\n",
    "α\n",
    "  = 0.001.\n",
    "Покажите различия визуально"
   ]
  },
  {
   "cell_type": "code",
   "execution_count": null,
   "metadata": {},
   "outputs": [],
   "source": []
  },
  {
   "cell_type": "code",
   "execution_count": 52,
   "metadata": {},
   "outputs": [],
   "source": [
    "import scipy.stats as stats"
   ]
  },
  {
   "cell_type": "code",
   "execution_count": 53,
   "metadata": {},
   "outputs": [],
   "source": [
    "def t_student(arr_1, arr_2):\n",
    "    n_1 = len(arr_1)\n",
    "    n_2 = len(arr_2)\n",
    "    mean_1 = np.mean(arr_1)\n",
    "    mean_2 = np.mean(arr_2)\n",
    "    s_1 = np.std(arr_1, ddof = 1)\n",
    "    s_2 = np.std(arr_2, ddof = 1)\n",
    "    return (mean_1-mean_2)/(np.sqrt((s_1**2)/n_1+(s_2**2)/n_2))"
   ]
  },
  {
   "cell_type": "code",
   "execution_count": 35,
   "metadata": {},
   "outputs": [
    {
     "name": "stdout",
     "output_type": "stream",
     "text": [
      "264.23752277624914\n",
      "264.23752277624914, 0.0\n"
     ]
    }
   ],
   "source": [
    "# H0 - выборки статистически неразличимы\n",
    "# H1 - выборки статистически различимы\n",
    "\n",
    "population_men  = sp.norm.rvs(loc=171, scale=19, size=1200000)  # Выборка мужчин со средним ростом 171\n",
    "population_women = sp.norm.rvs(loc=165, scale=16, size=1200000)  # Выборка женщин со средним ростом 165\n",
    "\n",
    "print(t_student(population_men, population_women))\n",
    "t, p = sp.ttest_ind(a=population_men, b=population_women, equal_var=False)\n",
    "print (f'{t}, {p}')"
   ]
  },
  {
   "cell_type": "code",
   "execution_count": 33,
   "metadata": {},
   "outputs": [
    {
     "data": {
      "text/plain": [
       "(array([1.200000e+01, 2.511000e+03, 8.572900e+04, 9.783880e+05,\n",
       "        3.719264e+06, 4.790168e+06, 2.099736e+06, 3.088660e+05,\n",
       "        1.509300e+04, 2.330000e+02]),\n",
       " array([ 73.6370124 ,  91.08989522, 108.54277804, 125.99566086,\n",
       "        143.44854368, 160.90142649, 178.35430931, 195.80719213,\n",
       "        213.26007495, 230.71295777, 248.16584058]),\n",
       " <BarContainer object of 10 artists>)"
      ]
     },
     "execution_count": 33,
     "metadata": {},
     "output_type": "execute_result"
    },
    {
     "data": {
      "image/png": "[encoded data removed]",
      "text/plain": [
       "<Figure size 432x288 with 1 Axes>"
      ]
     },
     "metadata": {
      "needs_background": "light"
     },
     "output_type": "display_data"
    }
   ],
   "source": [
    "plt.hist(population_men, 10)\n",
    "plt.hist(population_women, 10)\n",
    "# Большое значение t и нулевое значение p говорят о том, что распределения роста \n",
    "# мужчин и женщин различны (различные средние и дисперсии) и различие статистически значимо"
   ]
  },
  {
   "cell_type": "code",
   "execution_count": null,
   "metadata": {},
   "outputs": [],
   "source": []
  },
  {
   "cell_type": "markdown",
   "metadata": {},
   "source": [
    "## Задание № 3\n",
    "Определите объем необходимой выборки для исследования среднего чека за кофе в случайном городе если известно, что в этом городе:\n",
    "стандартное отклонение  𝜎=150\n",
    "σ\n",
    "=\n",
    "150\n",
    " ;\n",
    "уровень доверия  𝛽\n",
    "β\n",
    "  = 95%;\n",
    "Погрешность  Δ=50\n",
    "Δ\n",
    "=\n",
    "50\n",
    "  рублей."
   ]
  },
  {
   "cell_type": "code",
   "execution_count": null,
   "metadata": {},
   "outputs": [],
   "source": []
  },
  {
   "cell_type": "code",
   "execution_count": 54,
   "metadata": {},
   "outputs": [
    {
     "name": "stdout",
     "output_type": "stream",
     "text": [
      "Объем выборки для исследования среднего чека за кофе: n = 34\n"
     ]
    }
   ],
   "source": [
    "sigma = 150\n",
    "delta = 50\n",
    "n = int((sigma * sp.norm().ppf(0.975) / delta) ** 2)\n",
    "print(f'Объем выборки для исследования среднего чека за кофе: n = {n}')"
   ]
  },
  {
   "cell_type": "code",
   "execution_count": null,
   "metadata": {},
   "outputs": [],
   "source": []
  },
  {
   "cell_type": "markdown",
   "metadata": {},
   "source": [
    "## Задание № 4\n",
    "Представьте, что вы хотите разоблачить \"волшебника\" который считает, что умеет предсказывать погоду на завтра, отвечая просто: дождь или солнце. Вы пронаблюдали за ответами \"волшебника\" в течении какого-то периода времени и получили некие результаты (см.ниже).\n",
    "Можно ли сказать, что маг действительно умеет предсказывать погоду? Уровень значимости принять за 0.05 ( 𝛼=0.05\n",
    "α\n",
    "=\n",
    "0.05\n",
    " )."
   ]
  },
  {
   "cell_type": "code",
   "execution_count": null,
   "metadata": {},
   "outputs": [],
   "source": []
  },
  {
   "cell_type": "code",
   "execution_count": 37,
   "metadata": {},
   "outputs": [
    {
     "data": {
      "text/html": [
       "<div>\n",
       "<style scoped>\n",
       "    .dataframe tbody tr th:only-of-type {\n",
       "        vertical-align: middle;\n",
       "    }\n",
       "\n",
       "    .dataframe tbody tr th {\n",
       "        vertical-align: top;\n",
       "    }\n",
       "\n",
       "    .dataframe thead th {\n",
       "        text-align: right;\n",
       "    }\n",
       "</style>\n",
       "<table border=\"1\" class=\"dataframe\">\n",
       "  <thead>\n",
       "    <tr style=\"text-align: right;\">\n",
       "      <th></th>\n",
       "      <th>Ответ волшебника</th>\n",
       "      <th>Реальность</th>\n",
       "    </tr>\n",
       "  </thead>\n",
       "  <tbody>\n",
       "    <tr>\n",
       "      <th>Дождь</th>\n",
       "      <td>10</td>\n",
       "      <td>15</td>\n",
       "    </tr>\n",
       "    <tr>\n",
       "      <th>Солнце</th>\n",
       "      <td>39</td>\n",
       "      <td>34</td>\n",
       "    </tr>\n",
       "  </tbody>\n",
       "</table>\n",
       "</div>"
      ],
      "text/plain": [
       "        Ответ волшебника  Реальность\n",
       "Дождь                 10          15\n",
       "Солнце                39          34"
      ]
     },
     "execution_count": 37,
     "metadata": {},
     "output_type": "execute_result"
    }
   ],
   "source": [
    "alpha = 0.05\n",
    "observations = pd.DataFrame([[10,15],[39,34]],\n",
    "                            index=['Дождь','Солнце'],\n",
    "                            columns=['Ответ волшебника','Реальность'])\n",
    "observations"
   ]
  },
  {
   "cell_type": "code",
   "execution_count": 38,
   "metadata": {},
   "outputs": [
    {
     "name": "stdout",
     "output_type": "stream",
     "text": [
      "p-value is:  0.35396880166541644\n",
      "True\n"
     ]
    }
   ],
   "source": [
    "chi, pval, dof, exp = sp.chi2_contingency(observations)#Хи квадрат\n",
    "critical_value = sp.chi2.ppf(0.95, dof)  \n",
    "print('p-value is: ', pval)\n",
    "#print('chi is: ', chi)\n",
    "#print('critical_value is: ', critical_value)\n",
    "\n",
    "print(f'{pval > alpha}')\n",
    "# значение p больше уровня значимости 0.05, следовательно принимаем нулевую гипотезу, что\n",
    "# ответы волшебника случайны\n"
   ]
  },
  {
   "cell_type": "code",
   "execution_count": null,
   "metadata": {},
   "outputs": [],
   "source": []
  },
  {
   "cell_type": "markdown",
   "metadata": {},
   "source": [
    "## Задание № 5\n",
    "Используя функцию mean_confidence_interval(data, confidence), постройте доверительный интервал с уровнем доверия  𝛽=90%\n",
    "β\n",
    "=\n",
    "90\n",
    "%\n",
    "  для выборки:"
   ]
  },
  {
   "cell_type": "code",
   "execution_count": null,
   "metadata": {},
   "outputs": [],
   "source": []
  },
  {
   "cell_type": "code",
   "execution_count": 39,
   "metadata": {},
   "outputs": [],
   "source": [
    "def mean_confidence_interval(data, confidence=0.95):   \n",
    "    n = len(data)\n",
    "    m, se = np.mean(data), sp.sem(data)\n",
    "    h = se * sp.t.ppf((1 + confidence)/2, n)\n",
    "    return m-h, m, m+h"
   ]
  },
  {
   "cell_type": "code",
   "execution_count": 40,
   "metadata": {},
   "outputs": [
    {
     "data": {
      "text/plain": [
       "(6.074074746111319, 6.628571428571429, 7.183068111031539)"
      ]
     },
     "execution_count": 40,
     "metadata": {},
     "output_type": "execute_result"
    }
   ],
   "source": [
    "beta = 0.9\n",
    "data = [4,5,8,9,6,7,5,6,7,8,5,6,7,0,9,8,4,6,\n",
    "        7,9,8,6,5,7,8,9,6,7,5,8,6,7,9,5,10]\n",
    "mean_confidence_interval(data, beta)"
   ]
  },
  {
   "cell_type": "code",
   "execution_count": null,
   "metadata": {},
   "outputs": [],
   "source": []
  },
  {
   "cell_type": "markdown",
   "metadata": {},
   "source": [
    "## Задание № 6\n",
    "Принадлежат ли выборки data_1 и data_2 одному множеству?\n",
    "Оцените это с помощью известных вам тестов для проверок статистических гипотез;\n",
    "Покажите различия визуально."
   ]
  },
  {
   "cell_type": "code",
   "execution_count": 41,
   "metadata": {},
   "outputs": [],
   "source": [
    "data_1 = [4,5,8,9,6,7,5,6,7,8,5,6,7,0,9,8,4,\n",
    "          6,7,9,8,6,5,7,8,9,6,7,5,8,6,7,9,5,10]\n",
    "\n",
    "data_2 = [8,5,6,7,0,1,8,4,6,7,0,2,6,5,7,5,3,5,3,\n",
    "          5,3,5,5,8,7,6,4,5,3,5,4,6,4,5,3,2,6,4,\n",
    "          2,6,1,0,4,3,5,4,3,4,5,4,3,4,5,4,3,4,5,\n",
    "          3,4,4,1,2,4,3,1,2,4,3,2,1,5,3,4,6,4,5,\n",
    "          3,2,4,5,6,4,3,1,3,5,3,4,4,4,2,5,3]\n",
    "# Гипотеза H0 - выборки принадлежат одному распределению\n",
    "# Гипотеза H1 - выборки не принадлежат одному распределению"
   ]
  },
  {
   "cell_type": "code",
   "execution_count": 42,
   "metadata": {},
   "outputs": [
    {
     "name": "stdout",
     "output_type": "stream",
     "text": [
      "7.068404675178226, 2.4974180382616264e-09\n",
      "t_ctrl = 3.3694197811539053\n"
     ]
    }
   ],
   "source": [
    "t, p = sp.ttest_ind(a=data_1, b=data_2, equal_var=False)\n",
    "print (f'{t}, {p}')\n",
    "\n",
    "N = len(data_1) + len(data_2) - 2\n",
    "t_ctrl = sp.t.ppf(0.9995, N) # рассчитаем критическое значение t, с N1 + N2 - 2 степенями свободы и уровне значимости 0.001\n",
    "print(f't_ctrl = {t_ctrl}')"
   ]
  },
  {
   "cell_type": "code",
   "execution_count": 43,
   "metadata": {},
   "outputs": [
    {
     "data": {
      "text/plain": [
       "(array([1., 0., 0., 0., 2., 6., 7., 7., 6., 6.]),\n",
       " array([ 0.,  1.,  2.,  3.,  4.,  5.,  6.,  7.,  8.,  9., 10.]),\n",
       " <BarContainer object of 10 artists>)"
      ]
     },
     "execution_count": 43,
     "metadata": {},
     "output_type": "execute_result"
    },
    {
     "data": {
      "image/png": "[encoded data removed]",
      "text/plain": [
       "<Figure size 432x288 with 1 Axes>"
      ]
     },
     "metadata": {
      "needs_background": "light"
     },
     "output_type": "display_data"
    }
   ],
   "source": [
    "# C учетом того, что p < уровня значимости, а t > t_ctrl, то принимаем гипотезу H1 - что выборки не принадлежат одному распределению\n",
    "plt.hist(data_2, bins=10)\n",
    "plt.hist(data_1, bins=10)"
   ]
  },
  {
   "cell_type": "code",
   "execution_count": null,
   "metadata": {},
   "outputs": [],
   "source": []
  },
  {
   "cell_type": "markdown",
   "metadata": {},
   "source": [
    "## Задание № 7 (задание без подвоха)\n",
    "На примере датасета про жилье в New York City, мы сталкивались с примером, когда переменная имеет не совсем нормальное распределение.\n",
    "Предположим, Вы сформировали две гипотезы:\n",
    "нулевая гипотеза - распределение нормальное;\n",
    "альтернативная гипотеза - распределение ненормальное.\n",
    "допустим, вы применили какой-то тест (сейчас неважно какой), который показал уровень значимости  p-value = 0.03. Каковы будут ваши выводы? Будем считать что у нас нормальное распределение или все-таки нет?)"
   ]
  },
  {
   "cell_type": "code",
   "execution_count": null,
   "metadata": {},
   "outputs": [],
   "source": []
  },
  {
   "cell_type": "code",
   "execution_count": 44,
   "metadata": {},
   "outputs": [],
   "source": [
    "# H0 - распределение нормальное\n",
    "# H1 - распределение ненормальное\n",
    "# p-value = 0.03\n",
    "\n",
    "url  = 'https://raw.githubusercontent.com/a-milenkin/datasets_for_t-tests/main/AB_NYC_2019.csv'\n",
    "df = pd.read_csv(url, error_bad_lines=False)\n",
    "df.dropna(how='any',inplace=True)"
   ]
  },
  {
   "cell_type": "code",
   "execution_count": 45,
   "metadata": {},
   "outputs": [
    {
     "data": {
      "text/plain": [
       "38085"
      ]
     },
     "execution_count": 45,
     "metadata": {},
     "output_type": "execute_result"
    }
   ],
   "source": [
    "df[df.price<500].shape[0]"
   ]
  },
  {
   "cell_type": "code",
   "execution_count": 46,
   "metadata": {},
   "outputs": [
    {
     "data": {
      "text/plain": [
       "Power_divergenceResult(statistic=5694098.284793696, pvalue=0.0)"
      ]
     },
     "execution_count": 46,
     "metadata": {},
     "output_type": "execute_result"
    }
   ],
   "source": [
    "mn = df[df.price<500].price.mean()\n",
    "sigma = df[df.price<500].price.std()\n",
    "\n",
    "gen = sp.norm.rvs(loc=mn, scale=sigma, size=df[df.price<500].shape[0])\n",
    "# С помощью критерия хи-квадрат проверим, является ли рапределение цен на недвижимость нормальным\n",
    "\n",
    "sp.chisquare(df[df.price<500]['price'], f_exp=gen)"
   ]
  },
  {
   "cell_type": "code",
   "execution_count": 47,
   "metadata": {},
   "outputs": [],
   "source": [
    "# Получаем, что pvalue = 0.0 меньше заданного уровня значимости = 0.03\n",
    "# Значит, вероятность того, что наше распределение цен на недвижимость подчиняется нормальному закону, \n",
    "# а имеющиеся данные обусловлены случайностью - равна 0, что меньше допустимого порога в 3%\n",
    "# Следовательно, гипотезу H0 о принадлежности распределения к нормальному распределению мы можем смело отметать"
   ]
  },
  {
   "cell_type": "code",
   "execution_count": null,
   "metadata": {},
   "outputs": [],
   "source": []
  },
  {
   "cell_type": "markdown",
   "metadata": {},
   "source": [
    "## Задание № 8\n",
    "Первая выборка — это пациенты, которых лечили препаратом А. Вторая выборка — пациенты, которых лечили препаратом B.\n",
    "Значения в выборках — это некоторая характеристика эффективности лечения (уровень метаболита в крови, температура через три дня после начала лечения, срок выздоровления, число койко-дней, и т.д.)\n",
    "Требуется выяснить, имеется ли значимое различие эффективности препаратов А и B, или различия являются чисто случайными и объясняются «естественной» дисперсией выбранной характеристики? (уровень значимости принять за 0.05 (5%))\n",
    "При каком минимальном p-value различия были бы уже значимы?\n",
    "Если выборки незначительно отличаются, то продемонстрируйте это визуально"
   ]
  },
  {
   "cell_type": "code",
   "execution_count": null,
   "metadata": {},
   "outputs": [],
   "source": []
  },
  {
   "cell_type": "code",
   "execution_count": 48,
   "metadata": {},
   "outputs": [],
   "source": [
    "np.random.seed(11)\n",
    "A = sp.norm.rvs(scale=15,loc=169,size=300)\n",
    "B = sp.norm.rvs(scale=14,loc=171.4,size=300)\n",
    "p_value = 0.05"
   ]
  },
  {
   "cell_type": "code",
   "execution_count": 49,
   "metadata": {},
   "outputs": [
    {
     "name": "stdout",
     "output_type": "stream",
     "text": [
      "-1.95300880485141, 0.051284961272800134\n"
     ]
    }
   ],
   "source": [
    "t, p = sp.ttest_ind(a=A, b=B, equal_var=False)\n",
    "print (f'{t}, {p}')"
   ]
  },
  {
   "cell_type": "code",
   "execution_count": 50,
   "metadata": {},
   "outputs": [
    {
     "data": {
      "text/plain": [
       "(array([ 1.,  0.,  0.,  0.,  0.,  0.,  2.,  1.,  2.,  3.,  4.,  2.,  4.,\n",
       "         5., 10., 10.,  9., 12.,  5., 14., 17., 27., 14., 18., 12., 21.,\n",
       "        14., 22.,  9.,  8., 10., 11., 10.,  5.,  6.,  2.,  2.,  3.,  2.,\n",
       "         3.]),\n",
       " array([122.95604119, 125.01444161, 127.07284203, 129.13124245,\n",
       "        131.18964287, 133.24804329, 135.30644371, 137.36484413,\n",
       "        139.42324455, 141.48164497, 143.54004539, 145.59844581,\n",
       "        147.65684623, 149.71524665, 151.77364707, 153.8320475 ,\n",
       "        155.89044792, 157.94884834, 160.00724876, 162.06564918,\n",
       "        164.1240496 , 166.18245002, 168.24085044, 170.29925086,\n",
       "        172.35765128, 174.4160517 , 176.47445212, 178.53285254,\n",
       "        180.59125296, 182.64965338, 184.7080538 , 186.76645422,\n",
       "        188.82485464, 190.88325507, 192.94165549, 195.00005591,\n",
       "        197.05845633, 199.11685675, 201.17525717, 203.23365759,\n",
       "        205.29205801]),\n",
       " <BarContainer object of 40 artists>)"
      ]
     },
     "execution_count": 50,
     "metadata": {},
     "output_type": "execute_result"
    },
    {
     "data": {
      "image/png": "[encoded data removed]",
      "text/plain": [
       "<Figure size 432x288 with 1 Axes>"
      ]
     },
     "metadata": {
      "needs_background": "light"
     },
     "output_type": "display_data"
    }
   ],
   "source": [
    "# полученное значение p чуть больше p_value, а, значит, формально выборки статистически одинаковы\n",
    "# при p_value = 0.052 уже можно было бы считать, что выборки различны\n",
    "plt.hist(A, 40)\n",
    "plt.hist(B, 40)"
   ]
  },
  {
   "cell_type": "code",
   "execution_count": null,
   "metadata": {},
   "outputs": [],
   "source": []
  }
 ],
 "metadata": {
  "kernelspec": {
   "display_name": "Python 3",
   "language": "python",
   "name": "python3"
  },
  "language_info": {
   "codemirror_mode": {
    "name": "ipython",
    "version": 3
   },
   "file_extension": ".py",
   "mimetype": "text/x-python",
   "name": "python",
   "nbconvert_exporter": "python",
   "pygments_lexer": "ipython3",
   "version": "3.8.8"
  }
 },
 "nbformat": 4,
 "nbformat_minor": 4
}
